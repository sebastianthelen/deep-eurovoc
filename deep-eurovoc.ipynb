{
 "cells": [
  {
   "cell_type": "markdown",
   "metadata": {},
   "source": [
    "# DeepEurovoc"
   ]
  },
  {
   "cell_type": "markdown",
   "metadata": {},
   "source": [
    "The goal of this experiment is to predict Eurovoc codes based on expression abstracts published by the PO. \n",
    "\n",
    "The model used in this notebook is identical to the 1-dimensional convolutional neural network described in the Keras blog article https://blog.keras.io/using-pre-trained-word-embeddings-in-a-keras-model.html. It uses pre-trained GloVe word embeddings for text classification.\n",
    "\n",
    "The input is retrieved from PO's public SPARQL endpoint, available at http://publications.europa.eu/webapi/rdf/sparql. The following query does the job:"
   ]
  },
  {
   "cell_type": "raw",
   "metadata": {},
   "source": [
    "prefix cdm: <http://publications.europa.eu/ontology/cdm#> \n",
    "select ?exp ?abstract (group_concat(?concept;separator=\";\") as ?concepts)  where \n",
    "{\n",
    "\t?exp cdm:expression_uses_language <http://publications.europa.eu/resource/authority/language/ENG>.\n",
    "\t?exp cdm:expression_abstract ?abstract.\n",
    "\t?exp cdm:expression_belongs_to_work/cdm:work_is_about_concept_eurovoc ?concept.\n",
    "} group by ?exp ?abstract\n"
   ]
  },
  {
   "cell_type": "markdown",
   "metadata": {},
   "source": [
    "The input data is stored in data.csv. Before loading the data, we import the modules we will need throughout this notebook."
   ]
  },
  {
   "cell_type": "code",
   "execution_count": 1,
   "metadata": {},
   "outputs": [
    {
     "name": "stderr",
     "output_type": "stream",
     "text": [
      "/Users/sebastianthelen/anaconda3/lib/python3.6/site-packages/h5py/__init__.py:36: FutureWarning: Conversion of the second argument of issubdtype from `float` to `np.floating` is deprecated. In future, it will be treated as `np.float64 == np.dtype(float).type`.\n",
      "  from ._conv import register_converters as _register_converters\n",
      "Using TensorFlow backend.\n"
     ]
    }
   ],
   "source": [
    "import pandas as pd\n",
    "import numpy as np\n",
    "import os\n",
    "import sys\n",
    "import xml.etree.ElementTree as ET\n",
    "from nltk.corpus import stopwords\n",
    "from nltk.tokenize import word_tokenize\n",
    "from nltk.stem import WordNetLemmatizer\n",
    "from nltk.corpus import wordnet\n",
    "\n",
    "import keras\n",
    "from keras.preprocessing.text import Tokenizer\n",
    "from keras.preprocessing.sequence import pad_sequences\n",
    "from keras.utils import to_categorical\n",
    "from keras.layers import Dense, Input, GlobalMaxPooling1D, Flatten\n",
    "from keras.layers import Conv1D, MaxPooling1D, Embedding\n",
    "from keras.models import Model\n",
    "from keras.initializers import Constant\n",
    "\n",
    "from sklearn.preprocessing import MultiLabelBinarizer"
   ]
  },
  {
   "cell_type": "markdown",
   "metadata": {},
   "source": [
    "Definition of some global variables used in this notebook:"
   ]
  },
  {
   "cell_type": "code",
   "execution_count": 2,
   "metadata": {},
   "outputs": [],
   "source": [
    "CLEANUP_DATA = False \n",
    "MAX_NUM_WORDS = 20000 # size of vocabulary\n",
    "EMBEDDING_DIM = 100 # dimension of GloVe word embeddings\n",
    "MAX_SEQUENCE_LENGTH = 1000 # truncate abstracts after MAX_SEQUENCE_LENGTH words"
   ]
  },
  {
   "cell_type": "markdown",
   "metadata": {},
   "source": [
    "Load the data and get some numbers..."
   ]
  },
  {
   "cell_type": "code",
   "execution_count": 3,
   "metadata": {},
   "outputs": [
    {
     "name": "stdout",
     "output_type": "stream",
     "text": [
      "<class 'pandas.core.frame.DataFrame'>\n",
      "RangeIndex: 35472 entries, 0 to 35471\n",
      "Data columns (total 3 columns):\n",
      "exp         35472 non-null object\n",
      "abstract    35472 non-null object\n",
      "concepts    35472 non-null object\n",
      "dtypes: object(3)\n",
      "memory usage: 831.5+ KB\n",
      "None\n"
     ]
    }
   ],
   "source": [
    "data_df = pd.read_csv(\"data.csv\")\n",
    "print(data_df.info())"
   ]
  },
  {
   "cell_type": "markdown",
   "metadata": {},
   "source": [
    "We define a function that helps us extract the abstracts as plain text from the XMLLiterals returned by Virtuoso, removes all non-English words including stop words, and performs lemmatization on the filtered words."
   ]
  },
  {
   "cell_type": "code",
   "execution_count": 4,
   "metadata": {},
   "outputs": [],
   "source": [
    "def cleanup_abstract(xmlstring):\n",
    "    #import ipdb; ipdb.set_trace()\n",
    "    xmlstring = xmlstring.replace('\"\"', '\"')\n",
    "    text = None\n",
    "    try: \n",
    "        tree = ET.ElementTree(ET.fromstring(xmlstring))\n",
    "        xpath_result = tree.findall(\".//description\")\n",
    "        text = xpath_result[0].text\n",
    "    except:\n",
    "        text = xmlstring\n",
    "    # remove stopwords and punctuation. lower case everything\n",
    "    stop_words = set(stopwords.words('english'))\n",
    "    tokens = word_tokenize(text)\n",
    "    tokens = [w.lower() for w in tokens if not w in stop_words and w.isalpha() and wordnet.synsets(w)]\n",
    "    # lemmatize\n",
    "    lemma = WordNetLemmatizer()\n",
    "    final_tokens = []\n",
    "    for word in tokens:\n",
    "        final_tokens.append(lemma.lemmatize(word))\n",
    "    ret = \" \".join(final_tokens)\n",
    "    return ret"
   ]
  },
  {
   "cell_type": "markdown",
   "metadata": {},
   "source": [
    "Cleaning the data involves two steps:\n",
    "\n",
    "1\\. clean the abstracts \n",
    "\n",
    "2\\. transform the \";\" separated eurovoc codes in the concepts column into lists of eurovoc codes. "
   ]
  },
  {
   "cell_type": "code",
   "execution_count": 5,
   "metadata": {
    "scrolled": true
   },
   "outputs": [],
   "source": [
    "if CLEANUP_DATA:\n",
    "    data_df[\"cleaned_abstract\"] = data_df[\"abstract\"].apply(cleanup_abstract)\n",
    "    #data_df[\"concept_list\"] = data_df[\"concepts\"].apply(lambda x: [c for c in x.split(\";\")])\n",
    "    data_df[\"concept_list\"] = data_df[\"concepts\"].apply(lambda x: list({c[c.rfind(\"/\")+1:c.rfind(\"/\")+3] for c in x.split(\";\")}))\n",
    "    concepts_list = data_df[\"concepts\"].tolist()\n",
    "    data_df.drop([\"abstract\"], axis=1)\n",
    "    data_df.to_pickle(\"data_df.pkl\")"
   ]
  },
  {
   "cell_type": "markdown",
   "metadata": {},
   "source": [
    "The next line loads the cleaned up data directly from file instead of computing it everytime the notebook is executed."
   ]
  },
  {
   "cell_type": "code",
   "execution_count": 6,
   "metadata": {},
   "outputs": [
    {
     "name": "stdout",
     "output_type": "stream",
     "text": [
      "0    at institute reference material measurement di...\n",
      "1    statistic focus describes preliminary result b...\n",
      "2    short document aim provide summary main issue ...\n",
      "3    briefing note intended provide european parlia...\n",
      "4    exterior de la sus la de para de en la en para...\n",
      "Name: cleaned_abstract, dtype: object\n",
      "0            [34, 11, 40, 25, 53, 37]\n",
      "1                        [42, 63, 46]\n",
      "2    [18, 53, 52, 24, 43, 17, 19, 44]\n",
      "3        [13, 11, 93, 10, 36, 52, 44]\n",
      "4             [13, 42, 31, 9, 14, 27]\n",
      "Name: concept_list, dtype: object\n"
     ]
    }
   ],
   "source": [
    "data_df = pd.read_pickle(\"data_df.pkl\")\n",
    "print(data_df['cleaned_abstract'][:5])\n",
    "print(data_df['concept_list'][:5])"
   ]
  },
  {
   "cell_type": "markdown",
   "metadata": {},
   "source": [
    "We must convert the data set labels to numbers so that they can be processed by Keras. The appraoch is described in https://www.pyimagesearch.com/2018/05/07/multi-label-classification-with-keras/."
   ]
  },
  {
   "cell_type": "code",
   "execution_count": 7,
   "metadata": {},
   "outputs": [
    {
     "name": "stdout",
     "output_type": "stream",
     "text": [
      "1. 10\n",
      "2. 11\n",
      "3. 12\n",
      "4. 13\n",
      "5. 14\n",
      "6. 15\n",
      "7. 16\n",
      "8. 17\n",
      "9. 18\n",
      "10. 19\n",
      "11. 20\n",
      "12. 21\n",
      "13. 22\n",
      "14. 23\n",
      "15. 24\n",
      "16. 25\n",
      "17. 26\n",
      "18. 27\n",
      "19. 28\n",
      "20. 29\n",
      "21. 3\n",
      "22. 30\n",
      "23. 31\n",
      "24. 32\n",
      "25. 33\n",
      "26. 34\n",
      "27. 35\n",
      "28. 36\n",
      "29. 37\n",
      "30. 38\n",
      "31. 39\n",
      "32. 40\n",
      "33. 41\n",
      "34. 42\n",
      "35. 43\n",
      "36. 44\n",
      "37. 45\n",
      "38. 46\n",
      "39. 47\n",
      "40. 48\n",
      "41. 49\n",
      "42. 5\n",
      "43. 50\n",
      "44. 51\n",
      "45. 52\n",
      "46. 53\n",
      "47. 54\n",
      "48. 55\n",
      "49. 56\n",
      "50. 57\n",
      "51. 58\n",
      "52. 59\n",
      "53. 6\n",
      "54. 60\n",
      "55. 61\n",
      "56. 62\n",
      "57. 63\n",
      "58. 64\n",
      "59. 65\n",
      "60. 66\n",
      "61. 67\n",
      "62. 68\n",
      "63. 69\n",
      "64. 7\n",
      "65. 70\n",
      "66. 71\n",
      "67. 72\n",
      "68. 73\n",
      "69. 74\n",
      "70. 75\n",
      "71. 76\n",
      "72. 77\n",
      "73. 78\n",
      "74. 79\n",
      "75. 8\n",
      "76. 80\n",
      "77. 81\n",
      "78. 82\n",
      "79. 83\n",
      "80. 84\n",
      "81. 85\n",
      "82. 86\n",
      "83. 87\n",
      "84. 88\n",
      "85. 89\n",
      "86. 9\n",
      "87. 90\n",
      "88. 91\n",
      "89. 92\n",
      "90. 93\n",
      "91. 94\n",
      "92. 95\n",
      "93. 96\n",
      "94. 97\n",
      "95. 98\n",
      "96. 99\n"
     ]
    }
   ],
   "source": [
    "labels = data_df[\"concept_list\"].tolist()\n",
    "\n",
    "mlb = MultiLabelBinarizer()\n",
    "labels = mlb.fit_transform(labels)\n",
    " \n",
    "# loop over each of the possible class labels and show them\n",
    "for (i, label) in enumerate(mlb.classes_):\n",
    "\tprint(\"{}. {}\".format(i + 1, label))"
   ]
  },
  {
   "cell_type": "code",
   "execution_count": 8,
   "metadata": {},
   "outputs": [],
   "source": [
    "#labels2 = [[\"a\",\"b\",\"c\"],[\"c\",\"d\",\"e\"]]\n",
    "\n",
    "#mlb2 = MultiLabelBinarizer()\n",
    "#labels2 = mlb2.fit_transform(labels2)\n",
    "\n",
    "#print(list(mlb2.classes_))\n",
    "#print(mlb2.transform([[\"a\",\"b\"],[\"c\",\"d\",\"e\"]]))\n",
    "#print(mlb2.inverse_transform(mlb2.transform([[\"a\",\"b\"],[\"c\",\"d\",\"e\"]])))\n",
    "\n",
    "#y = data_df[\"concept_list\"].tolist()[0]\n",
    "#print(\"y = \", y)\n",
    "#print(\"len(y) = \", len(y))\n",
    "#print(\"mlb.transform([y]) = \", mlb.transform([y]))\n",
    "#print(\"len(mlb.transform([y])[0]) = \", len(mlb.transform([y])[0]))\n",
    "#print(\"mlb.transform([y])[0].tolist().count(1) = \", mlb.transform([y])[0].tolist().count(1))\n",
    "#print(\"mlb.inverse_transform(mlb.transform([y])) = \", mlb.inverse_transform(mlb.transform([y])))\n",
    "#print(\"len(mlb.classes_) = \", len(mlb.classes_))"
   ]
  },
  {
   "cell_type": "markdown",
   "metadata": {},
   "source": [
    "A small test to make sure that we are really getting multi-label vectors and not just one-hot vectors."
   ]
  },
  {
   "cell_type": "code",
   "execution_count": 9,
   "metadata": {},
   "outputs": [
    {
     "name": "stdout",
     "output_type": "stream",
     "text": [
      "Labels of the 2nd training example: [('42', '46', '63')]\n"
     ]
    }
   ],
   "source": [
    "print(\"Labels of the 2nd training example: \" + str(mlb.inverse_transform(np.array([labels[1]]))))"
   ]
  },
  {
   "cell_type": "markdown",
   "metadata": {},
   "source": [
    "Next we need to tranform the input into an array of numbers:"
   ]
  },
  {
   "cell_type": "code",
   "execution_count": 10,
   "metadata": {},
   "outputs": [
    {
     "name": "stderr",
     "output_type": "stream",
     "text": [
      "/Users/sebastianthelen/anaconda3/lib/python3.6/site-packages/keras/preprocessing/text.py:172: UserWarning: The `nb_words` argument in `Tokenizer` has been renamed `num_words`.\n",
      "  warnings.warn('The `nb_words` argument in `Tokenizer` '\n"
     ]
    },
    {
     "name": "stdout",
     "output_type": "stream",
     "text": [
      "Found 22343 unique tokens.\n",
      "Shape of data tensor: (35472, 1000)\n",
      "Shape of label tensor: (35472, 96)\n"
     ]
    }
   ],
   "source": [
    "data = data_df[\"cleaned_abstract\"].tolist()\n",
    "\n",
    "#print(len(data[0]))\n",
    "#print(type(data[0]))\n",
    "#print(data[0])\n",
    "tokenizer = Tokenizer(nb_words=MAX_NUM_WORDS)\n",
    "tokenizer.fit_on_texts(data)\n",
    "sequences = tokenizer.texts_to_sequences(data)\n",
    "\n",
    "#print(len(sequences[0]))\n",
    "#print(sequences[0])\n",
    "\n",
    "word_index = tokenizer.word_index\n",
    "print('Found %s unique tokens.' % len(word_index))\n",
    "\n",
    "data = pad_sequences(sequences, maxlen=MAX_SEQUENCE_LENGTH)\n",
    "#labels = to_categorical(np.asarray(labels))\n",
    "print('Shape of data tensor:', data.shape)\n",
    "print('Shape of label tensor:', labels.shape)\n"
   ]
  },
  {
   "cell_type": "markdown",
   "metadata": {},
   "source": [
    "Split data into training data and test data."
   ]
  },
  {
   "cell_type": "code",
   "execution_count": 11,
   "metadata": {},
   "outputs": [
    {
     "name": "stdout",
     "output_type": "stream",
     "text": [
      "7094\n",
      "(35472, 1000)\n",
      "(35472, 96)\n",
      "(28378, 1000)\n",
      "(28378, 96)\n",
      "(7094, 1000)\n",
      "(7094, 96)\n"
     ]
    }
   ],
   "source": [
    "VALIDATION_SPLIT = 0.2\n",
    "\n",
    "# split the data into a training set and a validation set\n",
    "indices = np.arange(data.shape[0])\n",
    "np.random.shuffle(indices)\n",
    "data = data[indices]\n",
    "labels = labels[indices]\n",
    "num_validation_samples = int(VALIDATION_SPLIT * data.shape[0])\n",
    "print(num_validation_samples)\n",
    "trainX = data[:-num_validation_samples]\n",
    "trainY = labels[:-num_validation_samples]\n",
    "testX = data[-num_validation_samples:]\n",
    "testY = labels[-num_validation_samples:]\n",
    "\n",
    "print(data.shape)\n",
    "print(labels.shape)\n",
    "print(trainX.shape)\n",
    "print(trainY.shape)\n",
    "print(testX.shape)\n",
    "print(testY.shape)"
   ]
  },
  {
   "cell_type": "markdown",
   "metadata": {},
   "source": [
    "Load the pre-computed GloVe word embeddings from file and create an embeddings_index:"
   ]
  },
  {
   "cell_type": "code",
   "execution_count": 12,
   "metadata": {},
   "outputs": [
    {
     "name": "stdout",
     "output_type": "stream",
     "text": [
      "Found 400000 word vectors.\n"
     ]
    }
   ],
   "source": [
    "embeddings_index = {}\n",
    "with open(os.path.join('glove.6B', 'glove.6B.100d.txt'), 'r') as f:\n",
    "    for line in f:\n",
    "        values = line.split()\n",
    "        word = values[0]\n",
    "        coefs = np.asarray(values[1:], dtype='float32')\n",
    "        embeddings_index[word] = coefs\n",
    "\n",
    "print('Found %s word vectors.' % len(embeddings_index))"
   ]
  },
  {
   "cell_type": "markdown",
   "metadata": {},
   "source": [
    "Use word_index and embedding_index to compute the embedding_matrix. embedding_matrix is  a matrix storing the embedded_vector for each word in the data set. "
   ]
  },
  {
   "cell_type": "code",
   "execution_count": 13,
   "metadata": {},
   "outputs": [],
   "source": [
    "num_words = min(MAX_NUM_WORDS, len(word_index) + 1)\n",
    "embedding_matrix = np.zeros((num_words, EMBEDDING_DIM))\n",
    "for word, i in word_index.items():\n",
    "    if i >= MAX_NUM_WORDS:\n",
    "        continue\n",
    "    embedding_vector = embeddings_index.get(word)\n",
    "    if embedding_vector is not None:\n",
    "        # words not found in embedding index will be all-zeros.\n",
    "        embedding_matrix[i] = embedding_vector\n",
    "    #else:\n",
    "    #    print(\"Not not in embedding index: \" + word)"
   ]
  },
  {
   "cell_type": "markdown",
   "metadata": {},
   "source": [
    "Build an Keras embedding_layer. Note that trainable=false, i.e., weights are not getting updated. "
   ]
  },
  {
   "cell_type": "code",
   "execution_count": 14,
   "metadata": {},
   "outputs": [],
   "source": [
    "embedding_layer = Embedding(num_words,\n",
    "                            EMBEDDING_DIM,\n",
    "                            embeddings_initializer=Constant(embedding_matrix),\n",
    "                            input_length=MAX_SEQUENCE_LENGTH,\n",
    "                            trainable=False)"
   ]
  },
  {
   "cell_type": "markdown",
   "metadata": {},
   "source": [
    "Let's define the 1D convolutional model."
   ]
  },
  {
   "cell_type": "code",
   "execution_count": 15,
   "metadata": {},
   "outputs": [],
   "source": [
    "from keras.layers import Dropout\n",
    "\n",
    "sequence_input = Input(shape=(MAX_SEQUENCE_LENGTH,), dtype='int32')\n",
    "embedded_sequences = embedding_layer(sequence_input)\n",
    "x = Conv1D(128, 5, activation='relu')(embedded_sequences)\n",
    "x = MaxPooling1D(5)(x)\n",
    "x = Dropout(0.25)(x)\n",
    "x = Conv1D(128, 5, activation='relu')(x)\n",
    "x = MaxPooling1D(5)(x)\n",
    "x = Dropout(0.25)(x)\n",
    "x = Conv1D(128, 5, activation='relu')(x)\n",
    "x = MaxPooling1D(35)(x)  # global max pooling\n",
    "x = Dropout(0.25)(x)\n",
    "x = Flatten()(x)\n",
    "x = Dense(128, activation='relu')(x)\n",
    "preds = Dense(labels.shape[1], activation='sigmoid')(x)\n",
    "\n",
    "model = Model(sequence_input, preds)\n",
    "model.compile(loss='binary_crossentropy',\n",
    "              optimizer='adam',\n",
    "              metrics=['categorical_accuracy'])"
   ]
  },
  {
   "cell_type": "markdown",
   "metadata": {},
   "source": [
    "Now the model needs to be trained."
   ]
  },
  {
   "cell_type": "code",
   "execution_count": 16,
   "metadata": {},
   "outputs": [
    {
     "name": "stdout",
     "output_type": "stream",
     "text": [
      "_________________________________________________________________\n",
      "Layer (type)                 Output Shape              Param #   \n",
      "=================================================================\n",
      "input_1 (InputLayer)         (None, 1000)              0         \n",
      "_________________________________________________________________\n",
      "embedding_1 (Embedding)      (None, 1000, 100)         2000000   \n",
      "_________________________________________________________________\n",
      "conv1d_1 (Conv1D)            (None, 996, 128)          64128     \n",
      "_________________________________________________________________\n",
      "max_pooling1d_1 (MaxPooling1 (None, 199, 128)          0         \n",
      "_________________________________________________________________\n",
      "dropout_1 (Dropout)          (None, 199, 128)          0         \n",
      "_________________________________________________________________\n",
      "conv1d_2 (Conv1D)            (None, 195, 128)          82048     \n",
      "_________________________________________________________________\n",
      "max_pooling1d_2 (MaxPooling1 (None, 39, 128)           0         \n",
      "_________________________________________________________________\n",
      "dropout_2 (Dropout)          (None, 39, 128)           0         \n",
      "_________________________________________________________________\n",
      "conv1d_3 (Conv1D)            (None, 35, 128)           82048     \n",
      "_________________________________________________________________\n",
      "max_pooling1d_3 (MaxPooling1 (None, 1, 128)            0         \n",
      "_________________________________________________________________\n",
      "dropout_3 (Dropout)          (None, 1, 128)            0         \n",
      "_________________________________________________________________\n",
      "flatten_1 (Flatten)          (None, 128)               0         \n",
      "_________________________________________________________________\n",
      "dense_1 (Dense)              (None, 128)               16512     \n",
      "_________________________________________________________________\n",
      "dense_2 (Dense)              (None, 96)                12384     \n",
      "=================================================================\n",
      "Total params: 2,257,120\n",
      "Trainable params: 257,120\n",
      "Non-trainable params: 2,000,000\n",
      "_________________________________________________________________\n",
      "None\n"
     ]
    }
   ],
   "source": [
    "print(model.summary())"
   ]
  },
  {
   "cell_type": "code",
   "execution_count": 17,
   "metadata": {},
   "outputs": [
    {
     "name": "stdout",
     "output_type": "stream",
     "text": [
      "Train on 28378 samples, validate on 7094 samples\n",
      "Epoch 1/20\n",
      "28378/28378 [==============================] - 294s 10ms/step - loss: 0.2388 - categorical_accuracy: 0.0711 - val_loss: 0.2126 - val_categorical_accuracy: 0.0734\n",
      "Epoch 2/20\n",
      "28378/28378 [==============================] - 288s 10ms/step - loss: 0.2081 - categorical_accuracy: 0.0699 - val_loss: 0.2097 - val_categorical_accuracy: 0.0670\n",
      "Epoch 3/20\n",
      "28378/28378 [==============================] - 288s 10ms/step - loss: 0.2012 - categorical_accuracy: 0.0906 - val_loss: 0.1996 - val_categorical_accuracy: 0.1059\n",
      "Epoch 4/20\n",
      "28378/28378 [==============================] - 294s 10ms/step - loss: 0.1953 - categorical_accuracy: 0.0987 - val_loss: 0.1960 - val_categorical_accuracy: 0.1046\n",
      "Epoch 5/20\n",
      "28378/28378 [==============================] - 287s 10ms/step - loss: 0.1908 - categorical_accuracy: 0.0943 - val_loss: 0.1917 - val_categorical_accuracy: 0.0932\n",
      "Epoch 6/20\n",
      "28378/28378 [==============================] - 287s 10ms/step - loss: 0.1872 - categorical_accuracy: 0.0906 - val_loss: 0.1873 - val_categorical_accuracy: 0.0918\n",
      "Epoch 7/20\n",
      "28378/28378 [==============================] - 295s 10ms/step - loss: 0.1840 - categorical_accuracy: 0.1025 - val_loss: 0.1856 - val_categorical_accuracy: 0.0949\n",
      "Epoch 8/20\n",
      "28378/28378 [==============================] - 286s 10ms/step - loss: 0.1811 - categorical_accuracy: 0.1052 - val_loss: 0.1819 - val_categorical_accuracy: 0.1094\n",
      "Epoch 9/20\n",
      "28378/28378 [==============================] - 288s 10ms/step - loss: 0.1786 - categorical_accuracy: 0.1096 - val_loss: 0.1810 - val_categorical_accuracy: 0.1202\n",
      "Epoch 10/20\n",
      "28378/28378 [==============================] - 284s 10ms/step - loss: 0.1766 - categorical_accuracy: 0.1113 - val_loss: 0.1768 - val_categorical_accuracy: 0.1101\n",
      "Epoch 11/20\n",
      "28378/28378 [==============================] - 283s 10ms/step - loss: 0.1750 - categorical_accuracy: 0.1161 - val_loss: 0.1773 - val_categorical_accuracy: 0.1248\n",
      "Epoch 12/20\n",
      "28378/28378 [==============================] - 283s 10ms/step - loss: 0.1733 - categorical_accuracy: 0.1124 - val_loss: 0.1757 - val_categorical_accuracy: 0.1112\n",
      "Epoch 13/20\n",
      "28378/28378 [==============================] - 284s 10ms/step - loss: 0.1719 - categorical_accuracy: 0.1183 - val_loss: 0.1742 - val_categorical_accuracy: 0.1279\n",
      "Epoch 14/20\n",
      "28378/28378 [==============================] - 283s 10ms/step - loss: 0.1705 - categorical_accuracy: 0.1233 - val_loss: 0.1724 - val_categorical_accuracy: 0.1146\n",
      "Epoch 15/20\n",
      "28378/28378 [==============================] - 284s 10ms/step - loss: 0.1692 - categorical_accuracy: 0.1210 - val_loss: 0.1708 - val_categorical_accuracy: 0.1252\n",
      "Epoch 16/20\n",
      "28378/28378 [==============================] - 287s 10ms/step - loss: 0.1680 - categorical_accuracy: 0.1233 - val_loss: 0.1695 - val_categorical_accuracy: 0.1233\n",
      "Epoch 17/20\n",
      "28378/28378 [==============================] - 284s 10ms/step - loss: 0.1670 - categorical_accuracy: 0.1239 - val_loss: 0.1687 - val_categorical_accuracy: 0.1050\n",
      "Epoch 18/20\n",
      "28378/28378 [==============================] - 287s 10ms/step - loss: 0.1662 - categorical_accuracy: 0.1259 - val_loss: 0.1686 - val_categorical_accuracy: 0.1109\n",
      "Epoch 19/20\n",
      "28378/28378 [==============================] - 287s 10ms/step - loss: 0.1651 - categorical_accuracy: 0.1235 - val_loss: 0.1671 - val_categorical_accuracy: 0.1271\n",
      "Epoch 20/20\n",
      "28378/28378 [==============================] - 286s 10ms/step - loss: 0.1645 - categorical_accuracy: 0.1284 - val_loss: 0.1676 - val_categorical_accuracy: 0.1438\n"
     ]
    }
   ],
   "source": [
    "history = model.fit(trainX, trainY, validation_data=(testX, testY),\n",
    "          epochs=20, batch_size=128)\n"
   ]
  },
  {
   "cell_type": "code",
   "execution_count": 18,
   "metadata": {},
   "outputs": [],
   "source": [
    "#from keras.models import load_model\n",
    "model.save(\"model.h5\")"
   ]
  },
  {
   "cell_type": "code",
   "execution_count": 20,
   "metadata": {},
   "outputs": [
    {
     "data": {
      "text/plain": [
       "dict_keys(['val_loss', 'val_categorical_accuracy', 'loss', 'categorical_accuracy'])"
      ]
     },
     "execution_count": 20,
     "metadata": {},
     "output_type": "execute_result"
    }
   ],
   "source": [
    "history.history.keys()"
   ]
  },
  {
   "cell_type": "code",
   "execution_count": 21,
   "metadata": {},
   "outputs": [
    {
     "data": {
      "image/png": "[encoded data removed]",
      "text/plain": [
       "<matplotlib.figure.Figure at 0x1a254bfba8>"
      ]
     },
     "metadata": {},
     "output_type": "display_data"
    },
    {
     "data": {
      "image/png": "[encoded data removed]",
      "text/plain": [
       "<matplotlib.figure.Figure at 0x1a25534400>"
      ]
     },
     "metadata": {},
     "output_type": "display_data"
    }
   ],
   "source": [
    "import matplotlib.pyplot as plt\n",
    "\n",
    "acc = history.history['categorical_accuracy']\n",
    "val_acc = history.history['val_categorical_accuracy']\n",
    "loss = history.history['loss']\n",
    "val_loss = history.history['val_loss']\n",
    "\n",
    "epochs = range(len(acc))\n",
    "\n",
    "plt.plot(epochs, acc, 'bo', label='Training acc')\n",
    "plt.plot(epochs, val_acc, 'b', label='Validation acc')\n",
    "plt.title('Training and validation accuracy')\n",
    "plt.legend()\n",
    "\n",
    "plt.figure()\n",
    "\n",
    "plt.plot(epochs, loss, 'bo', label='Training loss')\n",
    "plt.plot(epochs, val_loss, 'b', label='Validation loss')\n",
    "plt.title('Training and validation loss')\n",
    "plt.legend()\n",
    "\n",
    "plt.show()"
   ]
  },
  {
   "cell_type": "code",
   "execution_count": 23,
   "metadata": {},
   "outputs": [
    {
     "name": "stdout",
     "output_type": "stream",
     "text": [
      "['at institute reference material measurement dismantling campaign obsolete installation glove box run main goal create le waste possible extensive contamination check decontaminating necessary glove box decontamination possible here necessary document stage dismantling process purpose report learn experience campaign gave ability make estimate future radioactive waste classic waste expected dismantled installation', 'statistic focus describes preliminary result balance payment current account detailed figure current account main component good service income current transfer presented together analysis development geographical breakdown flow main partner a detailed breakdown trade service also included']\n",
      "len(ex) =  416\n",
      "seq.shape =  (416, 1000)\n",
      "Example: at institute reference material measurement dismantling campaign obsolete installation glove box run main goal create le waste possible extensive contamination check decontaminating necessary glove box decontamination possible here necessary document stage dismantling process purpose report learn experience campaign gave ability make estimate future radioactive waste classic waste expected dismantled installation\n",
      "\n",
      "Sequence: [[   0    0    0 ...    0    0   32]\n",
      " [   0    0    0 ...    0    0 1891]\n",
      " [   0    0    0 ...    0    0    0]\n",
      " ...\n",
      " [   0    0    0 ...    0    0  298]\n",
      " [   0    0    0 ...    0    0 2905]\n",
      " [   0    0    0 ...    0    0 1544]]\n",
      "\n",
      "Prediction: [0. 0. 0. 0. 0. 0. 0. 0. 0. 0. 0. 0. 0. 0. 0. 0. 0. 0. 0. 0. 0. 0. 0. 0.\n",
      " 0. 0. 0. 0. 0. 0. 0. 0. 0. 0. 0. 0. 0. 0. 0. 0. 0. 0. 0. 0. 0. 0. 0. 0.\n",
      " 0. 0. 0. 0. 0. 0. 0. 0. 0. 0. 0. 0. 0. 0. 0. 0. 0. 0. 0. 0. 0. 0. 0. 0.\n",
      " 0. 0. 0. 0. 0. 0. 0. 0. 0. 0. 0. 0. 0. 0. 0. 0. 0. 0. 0. 0. 0. 0. 0. 0.]\n",
      "<class 'numpy.ndarray'>\n",
      "(96,)\n"
     ]
    },
    {
     "data": {
      "text/plain": [
       "[()]"
      ]
     },
     "execution_count": 23,
     "metadata": {},
     "output_type": "execute_result"
    }
   ],
   "source": [
    "print(data_df['cleaned_abstract'].tolist()[:2])\n",
    "ex = data_df['cleaned_abstract'][0]\n",
    "seq = tokenizer.texts_to_sequences(ex)\n",
    "seq = pad_sequences(seq, maxlen=MAX_SEQUENCE_LENGTH)\n",
    "print(\"len(ex) = \", len(ex))\n",
    "print(\"seq.shape = \", seq.shape)\n",
    "print(\"Example: \" + str(ex) + \"\\n\")\n",
    "print(\"Sequence: \" + str(seq) + \"\\n\")\n",
    "prediction = model.predict(np.array(seq))[0]\n",
    "prediction[prediction>=0.5] = 1\n",
    "prediction[prediction<0.5] = 0\n",
    "print(\"Prediction: \" + str(prediction))\n",
    "print(type(prediction))\n",
    "print(prediction.shape)\n",
    "\n",
    "mlb.inverse_transform(np.array([prediction]))\n",
    "\n",
    "#proba = model.predict(np.array(seq))[0]\n",
    "#idxs = np.argsort(proba)[::-1][:2]\n",
    "\n"
   ]
  },
  {
   "cell_type": "code",
   "execution_count": null,
   "metadata": {
    "collapsed": true
   },
   "outputs": [],
   "source": []
  }
 ],
 "metadata": {
  "kernelspec": {
   "display_name": "Python 3",
   "language": "python",
   "name": "python3"
  },
  "language_info": {
   "codemirror_mode": {
    "name": "ipython",
    "version": 3
   },
   "file_extension": ".py",
   "mimetype": "text/x-python",
   "name": "python",
   "nbconvert_exporter": "python",
   "pygments_lexer": "ipython3",
   "version": "3.6.4"
  }
 },
 "nbformat": 4,
 "nbformat_minor": 2
}
