{
 "cells": [
  {
   "cell_type": "markdown",
   "metadata": {},
   "source": [
    "# DeepEurovoc"
   ]
  },
  {
   "cell_type": "markdown",
   "metadata": {},
   "source": [
    "The aim of this little experiment is to predict Eurovoc categories/fields of publications based on expression abstracts published by the PO. \n",
    "\n",
    "The model used in this notebook is based on the 1D CNN described in the Keras blog article https://blog.keras.io/using-pre-trained-word-embeddings-in-a-keras-model.html. It uses pre-trained GloVe word embeddings for text classification.\n",
    "\n",
    "The input data is retrieved from the public SPARQL endpoint of the PO which is available at http://publications.europa.eu/webapi/rdf/sparql. The following query does the job:"
   ]
  },
  {
   "cell_type": "raw",
   "metadata": {},
   "source": [
    "prefix cdm: <http://publications.europa.eu/ontology/cdm#> \n",
    "select ?exp ?abstract (group_concat(?concept;separator=\";\") as ?concepts)  where \n",
    "{\n",
    "\t?exp cdm:expression_uses_language <http://publications.europa.eu/resource/authority/language/ENG>.\n",
    "\t?exp cdm:expression_abstract ?abstract.\n",
    "\t?exp cdm:expression_belongs_to_work/cdm:work_is_about_concept_eurovoc ?concept.\n",
    "} group by ?exp ?abstract\n"
   ]
  },
  {
   "cell_type": "markdown",
   "metadata": {},
   "source": [
    "The input data has already been downloaded and is stored in data.csv. Before loading the data, the modules needed throughout this notebook are imported."
   ]
  },
  {
   "cell_type": "code",
   "execution_count": 21,
   "metadata": {},
   "outputs": [],
   "source": [
    "import pandas as pd\n",
    "import numpy as np\n",
    "import os\n",
    "import sys\n",
    "import xml.etree.ElementTree as ET\n",
    "from nltk.corpus import stopwords\n",
    "from nltk.tokenize import word_tokenize\n",
    "from nltk.stem import WordNetLemmatizer\n",
    "from nltk.corpus import wordnet\n",
    "\n",
    "import keras\n",
    "from keras.preprocessing.text import Tokenizer\n",
    "from keras.preprocessing.sequence import pad_sequences\n",
    "from keras.utils import to_categorical\n",
    "from keras.layers import Dense, Input, GlobalMaxPooling1D, Flatten\n",
    "from keras.layers import Conv1D, MaxPooling1D, Embedding\n",
    "from keras.models import Model\n",
    "from keras.initializers import Constant\n",
    "from keras.layers import Dropout\n",
    "from keras import regularizers\n",
    "\n",
    "import tensorflow as tf\n",
    "import keras.backend.tensorflow_backend as tfb\n",
    "\n",
    "from sklearn.preprocessing import MultiLabelBinarizer\n",
    "\n",
    "import matplotlib.pyplot as plt"
   ]
  },
  {
   "cell_type": "markdown",
   "metadata": {},
   "source": [
    "Definition of some global variables used in this notebook:"
   ]
  },
  {
   "cell_type": "code",
   "execution_count": 22,
   "metadata": {},
   "outputs": [],
   "source": [
    "CLEANUP_DATA = True # save time by loading a cleaned up version from disc\n",
    "MAX_NUM_WORDS = 20000 # max. size of vocabulary\n",
    "EMBEDDING_DIM = 100 # dimension of GloVe word embeddings\n",
    "MAX_SEQUENCE_LENGTH = 1000 # truncate examples after MAX_SEQUENCE_LENGTH words\n",
    "CROSS_VALIDATION_SPLIT = 0.1\n",
    "# those are the eurovoc fields we want to support\n",
    "EUROVOC_FIELDS = {\n",
    "\"4\":  \"POLITICS\",\n",
    "\"8\":  \"INTERNATIONAL RELATIONS\", \n",
    "\"10\": \"EUROPEAN UNION\",\n",
    "\"12\": \"LAW \",\n",
    "\"16\": \"ECONOMICS\",\n",
    "\"20\": \"TRADE\",\n",
    "\"24\": \"FINANCE\",\n",
    "\"28\": \"SOCIAL QUESTIONS\",\n",
    "\"32\": \"EDUCATION AND COMMUNICATIONS\",\n",
    "\"36\": \"SCIENCE\",\n",
    "\"40\": \"BUSINESS AND COMPETITION\",\n",
    "\"44\": \"EMPLOYMENT AND WORKING CONDITIONS\",\n",
    "\"48\": \"TRANSPORT\",\n",
    "\"52\": \"ENVIRONMENT\",\n",
    "\"56\": \"AGRICULTURE, FORESTRY AND FISHERIES\",\n",
    "\"60\": \"AGRI-FOODSTUFFS\",\n",
    "\"64\": \"PRODUCTION, TECHNOLOGY AND RESEARCH\",\n",
    "\"66\": \"ENERGY\",\n",
    "\"68\": \"INDUSTRY\",\n",
    "\"72\": \"GEOGRAPHY\",\n",
    "\"76\": \"INTERNATIONAL ORGANISATIONS\"\n",
    "}"
   ]
  },
  {
   "cell_type": "markdown",
   "metadata": {},
   "source": [
    "Load the data and get some numbers..."
   ]
  },
  {
   "cell_type": "code",
   "execution_count": 23,
   "metadata": {},
   "outputs": [
    {
     "name": "stdout",
     "output_type": "stream",
     "text": [
      "<class 'pandas.core.frame.DataFrame'>\n",
      "RangeIndex: 35472 entries, 0 to 35471\n",
      "Data columns (total 3 columns):\n",
      "exp         35472 non-null object\n",
      "abstract    35472 non-null object\n",
      "concepts    35472 non-null object\n",
      "dtypes: object(3)\n",
      "memory usage: 831.5+ KB\n",
      "None\n"
     ]
    }
   ],
   "source": [
    "data_df = pd.read_csv(\"data.csv\")\n",
    "print(data_df.info())"
   ]
  },
  {
   "cell_type": "markdown",
   "metadata": {},
   "source": [
    "We define a function that will help us to extract the abstracts as plain text from the XMLLiterals returned by Virtuoso, to remove all non-English words including stop words, and to perform lemmatization on the filtered words."
   ]
  },
  {
   "cell_type": "code",
   "execution_count": 24,
   "metadata": {},
   "outputs": [],
   "source": [
    "def cleanup_abstract(xmlstring):\n",
    "    #import ipdb; ipdb.set_trace()\n",
    "    xmlstring = xmlstring.replace('\"\"', '\"')\n",
    "    text = None\n",
    "    try: \n",
    "        tree = ET.ElementTree(ET.fromstring(xmlstring))\n",
    "        xpath_result = tree.findall(\".//description\")\n",
    "        text = xpath_result[0].text\n",
    "    except:\n",
    "        text = xmlstring\n",
    "    # remove stopwords and punctuation. lower case everything\n",
    "    stop_words = set(stopwords.words('english'))\n",
    "    tokens = word_tokenize(text)\n",
    "    tokens = [w.lower() for w in tokens if not w in stop_words and w.isalpha() and wordnet.synsets(w)]\n",
    "    # lemmatize\n",
    "    lemma = WordNetLemmatizer()\n",
    "    final_tokens = []\n",
    "    for word in tokens:\n",
    "        final_tokens.append(lemma.lemmatize(word))\n",
    "    ret = \" \".join(final_tokens)\n",
    "    return ret\n",
    "    #return text"
   ]
  },
  {
   "cell_type": "markdown",
   "metadata": {},
   "source": [
    "Cleaning the data involves two steps:\n",
    "\n",
    "1\\. processing of the abstracts \n",
    "\n",
    "2\\. transform the \";\" separated eurovoc codes in the concepts column into lists of eurovoc categories. Only consider to first two digits of the eurovoc codes. The total number of codes  in the data set is much too high (>5000) for classification. Therefore, the first two digits indicating the \"subject matter\" are extracted and filtered based on EUROVOC_FIELDS."
   ]
  },
  {
   "cell_type": "code",
   "execution_count": 25,
   "metadata": {
    "scrolled": true
   },
   "outputs": [],
   "source": [
    "if CLEANUP_DATA:\n",
    "    data_df[\"clean_abstract\"] = data_df[\"abstract\"].apply(cleanup_abstract)\n",
    "    data_df[\"clean_concepts\"] = data_df[\"concepts\"].apply(lambda x: list({c[c.rfind(\"/\")+1:c.rfind(\"/\")+3] for c in x.split(\";\") if c[c.rfind(\"/\")+1:c.rfind(\"/\")+3] in EUROVOC_FIELDS}))\n",
    "    data_df = data_df[data_df.astype(str)['clean_concepts'] != '[]']\n",
    "    data_df.drop([\"abstract\"], axis=1)\n",
    "    data_df.drop([\"concepts\"], axis=1)\n",
    "    data_df.to_pickle(\"data_df.pkl\")"
   ]
  },
  {
   "cell_type": "markdown",
   "metadata": {},
   "source": [
    "The next line loads the cleaned up data directly from file instead of computing it everytime the notebook is executed."
   ]
  },
  {
   "cell_type": "code",
   "execution_count": 26,
   "metadata": {},
   "outputs": [
    {
     "name": "stdout",
     "output_type": "stream",
     "text": [
      "                                       clean_abstract    clean_concepts\n",
      "0   at institute reference material measurement di...              [40]\n",
      "2   short document aim provide summary main issue ...      [24, 52, 44]\n",
      "3   briefing note intended provide european parlia...  [10, 52, 36, 44]\n",
      "5   united nation millennium declaration endorsed ...              [24]\n",
      "6   equal access economic resource matter ensuring...      [44, 60, 28]\n",
      "7   an independent expert panel referred panel app...      [24, 36, 28]\n",
      "8   main objective annual country report character...      [24, 56, 28]\n",
      "9   second edition european vacancy recruitment re...      [24, 10, 66]\n",
      "10  in process water temperature far saturation te...              [28]\n",
      "11  study provides overview extent scope form eu t...          [52, 36]\n"
     ]
    }
   ],
   "source": [
    "data_df = pd.read_pickle(\"data_df.pkl\")\n",
    "print(data_df[['clean_abstract', 'clean_concepts']][:10])"
   ]
  },
  {
   "cell_type": "code",
   "execution_count": 27,
   "metadata": {},
   "outputs": [
    {
     "data": {
      "image/png": "[encoded data removed]",
      "text/plain": [
       "<Figure size 432x288 with 1 Axes>"
      ]
     },
     "metadata": {
      "needs_background": "light"
     },
     "output_type": "display_data"
    }
   ],
   "source": [
    "# Let's look at the character length for the rows in the training data and record these\n",
    "data_df['char_length'] = data_df['clean_abstract'].apply(lambda x: len(str(x)))\n",
    "\n",
    "plt.figure()\n",
    "plt.hist(data_df['char_length'])\n",
    "plt.show()"
   ]
  },
  {
   "cell_type": "code",
   "execution_count": 28,
   "metadata": {},
   "outputs": [
    {
     "name": "stdout",
     "output_type": "stream",
     "text": [
      "   index  count\n",
      "0     10   4161\n",
      "1     12   1784\n",
      "2     16   1499\n",
      "3     20   1643\n",
      "4     24   9710\n",
      "5     28  13842\n",
      "6     32   2018\n",
      "7     36   4594\n",
      "8     40   5617\n",
      "9     44   5840\n",
      "10    48   2632\n",
      "11    52   7127\n",
      "12    56   3995\n",
      "13    60   3883\n",
      "14    64   1218\n",
      "15    66    933\n",
      "16    68   1375\n",
      "17    72    979\n",
      "18    76    185\n",
      "19     8      1\n"
     ]
    },
    {
     "data": {
      "image/png": "[encoded data removed]",
      "text/plain": [
       "<Figure size 432x288 with 1 Axes>"
      ]
     },
     "metadata": {
      "needs_background": "light"
     },
     "output_type": "display_data"
    }
   ],
   "source": [
    "tmp = []\n",
    "data_df[\"clean_concepts\"].apply(lambda x: tmp.extend(x))\n",
    "s = pd.Series(data=tmp)\n",
    "grouped_labels = s.groupby(s).size().reset_index(name='count')\n",
    "print(grouped_labels)\n",
    "x_pos = [i for i, _ in enumerate(grouped_labels[\"count\"])]\n",
    "plt.bar(x_pos, grouped_labels[\"count\"])\n",
    "plt.xticks(x_pos, [str(i) for i in grouped_labels[\"index\"] ])\n",
    "plt.xlabel(\"Field code\")\n",
    "plt.ylabel(\"Count\")\n",
    "plt.show()"
   ]
  },
  {
   "cell_type": "markdown",
   "metadata": {},
   "source": [
    "We must convert the data set labels to numbers so that they can be processed by Keras. The approach is described in https://www.pyimagesearch.com/2018/05/07/multi-label-classification-with-keras/."
   ]
  },
  {
   "cell_type": "code",
   "execution_count": 29,
   "metadata": {},
   "outputs": [
    {
     "name": "stdout",
     "output_type": "stream",
     "text": [
      "1. 10\n",
      "2. 12\n",
      "3. 16\n",
      "4. 20\n",
      "5. 24\n",
      "6. 28\n",
      "7. 32\n",
      "8. 36\n",
      "9. 40\n",
      "10. 44\n",
      "11. 48\n",
      "12. 52\n",
      "13. 56\n",
      "14. 60\n",
      "15. 64\n",
      "16. 66\n",
      "17. 68\n",
      "18. 72\n",
      "19. 76\n",
      "20. 8\n",
      "[[0 0 0 ... 0 0 0]\n",
      " [0 0 0 ... 0 0 0]\n",
      " [1 0 0 ... 0 0 0]\n",
      " ...\n",
      " [0 0 0 ... 0 0 0]\n",
      " [0 0 0 ... 0 0 0]\n",
      " [0 0 0 ... 0 0 0]]\n",
      "['10' '12' '16' '20' '24' '28' '32' '36' '40' '44' '48' '52' '56' '60'\n",
      " '64' '66' '68' '72' '76' '8']\n"
     ]
    }
   ],
   "source": [
    "#labels = data_df[\"clean_concepts\"].tolist()\n",
    "#mlb = MultiLabelBinarizer()\n",
    "#labels = mlb.fit_transform(labels)\n",
    "# loop over each of the possible class labels and show them\n",
    "#for (i, label) in enumerate(mlb.classes_):\n",
    "#\tprint(\"{}. {}\".format(i + 1, label))\n",
    "\n",
    "multilabel_binarizer = MultiLabelBinarizer()\n",
    "labels = multilabel_binarizer.fit_transform(data_df[\"clean_concepts\"])\n",
    "tmp_labels = multilabel_binarizer.classes_\n",
    "\n",
    "for (i, label) in enumerate(multilabel_binarizer.classes_):\n",
    "\tprint(\"{}. {}\".format(i + 1, label))\n",
    "\n",
    "print(labels)\n",
    "print(tmp_labels)"
   ]
  },
  {
   "cell_type": "raw",
   "metadata": {},
   "source": [
    "most_common_tags['class_weight'] = len(df_tags) / most_common_tags['count']\n",
    "class_weight = {}\n",
    "for index, label in enumerate(labels):\n",
    "    class_weight[index] = most_common_tags[most_common_tags['Tag'] == label]['class_weight'].values[0]\n",
    "    \n",
    "most_common_tags.head()"
   ]
  },
  {
   "cell_type": "code",
   "execution_count": 30,
   "metadata": {},
   "outputs": [
    {
     "name": "stdout",
     "output_type": "stream",
     "text": [
      "  index  count  class_weight\n",
      "0    10   4161      0.000240\n",
      "1    12   1784      0.000561\n",
      "2    16   1499      0.000667\n",
      "3    20   1643      0.000609\n",
      "4    24   9710      0.000103\n",
      "{0: 0.0002403268445085316, 1: 0.0005605381165919282, 2: 0.00066711140760507, 3: 0.0006086427267194157, 4: 0.00010298661174047374, 5: 7.224389539083947e-05, 6: 0.0004955401387512388, 7: 0.00021767522855898998, 8: 0.00017803097739006588, 9: 0.00017123287671232877, 10: 0.00037993920972644377, 11: 0.00014031149151115475, 12: 0.00025031289111389235, 13: 0.0002575328354365182, 14: 0.0008210180623973727, 15: 0.0010718113612004287, 16: 0.0007272727272727272, 17: 0.0010214504596527069, 18: 0.005405405405405406, 19: 1.0}\n"
     ]
    }
   ],
   "source": [
    "grouped_labels['class_weight'] = len(grouped_labels) / grouped_labels['count']\n",
    "grouped_labels['class_weight'] = 1 / grouped_labels['count']\n",
    "print(grouped_labels.head())\n",
    "class_weight = {}\n",
    "for index, label in enumerate(tmp_labels):\n",
    "    class_weight[index] = grouped_labels[grouped_labels['index'] == label]['class_weight'].values[0]    \n",
    "print(class_weight)"
   ]
  },
  {
   "cell_type": "markdown",
   "metadata": {},
   "source": [
    "A small test to make sure that MultiLabelBinarizer is really generating multi-label vectors and not just one-hot vectors."
   ]
  },
  {
   "cell_type": "code",
   "execution_count": 31,
   "metadata": {},
   "outputs": [
    {
     "name": "stdout",
     "output_type": "stream",
     "text": [
      "Labels of the 2nd training example: [('24', '44', '52')]\n"
     ]
    }
   ],
   "source": [
    "print(\"Labels of the 2nd training example: \" + str(multilabel_binarizer.inverse_transform(np.array([labels[1]]))))"
   ]
  },
  {
   "cell_type": "markdown",
   "metadata": {},
   "source": [
    "Next we need to tranform the input examples into an array of numbers:"
   ]
  },
  {
   "cell_type": "code",
   "execution_count": 32,
   "metadata": {},
   "outputs": [
    {
     "name": "stderr",
     "output_type": "stream",
     "text": [
      "/home/ec2-user/anaconda3/lib/python3.6/site-packages/keras_preprocessing/text.py:175: UserWarning: The `nb_words` argument in `Tokenizer` has been renamed `num_words`.\n",
      "  warnings.warn('The `nb_words` argument in `Tokenizer` '\n"
     ]
    },
    {
     "name": "stdout",
     "output_type": "stream",
     "text": [
      "Found 21792 unique tokens.\n",
      "Shape of data tensor: (31589, 1000)\n",
      "Shape of label tensor: (31589, 20)\n"
     ]
    }
   ],
   "source": [
    "data = data_df[\"clean_abstract\"].tolist()\n",
    "tokenizer = Tokenizer(nb_words=MAX_NUM_WORDS)\n",
    "tokenizer.fit_on_texts(data)\n",
    "sequences = tokenizer.texts_to_sequences(data)\n",
    "word_index = tokenizer.word_index\n",
    "print('Found %s unique tokens.' % len(word_index))\n",
    "data = pad_sequences(sequences, maxlen=MAX_SEQUENCE_LENGTH)\n",
    "print('Shape of data tensor:', data.shape)\n",
    "print('Shape of label tensor:', labels.shape)"
   ]
  },
  {
   "cell_type": "markdown",
   "metadata": {},
   "source": [
    "Split data into training data and test data."
   ]
  },
  {
   "cell_type": "code",
   "execution_count": 33,
   "metadata": {},
   "outputs": [
    {
     "name": "stdout",
     "output_type": "stream",
     "text": [
      "3158\n",
      "train_data.shape (28431, 1000)\n",
      "train_labels.shape (28431, 20)\n",
      "cross_data.shape (3158, 1000)\n",
      "cross_labels.shape (3158, 20)\n"
     ]
    }
   ],
   "source": [
    "# split the data into a training set and a cross validation set\n",
    "indices = np.arange(data.shape[0])\n",
    "np.random.shuffle(indices)\n",
    "data = data[indices]\n",
    "labels = labels[indices]\n",
    "num_validation_samples = int(CROSS_VALIDATION_SPLIT * data.shape[0])\n",
    "print(num_validation_samples)\n",
    "train_data = data[:-num_validation_samples]\n",
    "train_labels = labels[:-num_validation_samples]\n",
    "cross_data = data[-num_validation_samples:]\n",
    "cross_labels = labels[-num_validation_samples:]\n",
    "\n",
    "print(\"train_data.shape\", train_data.shape)\n",
    "print(\"train_labels.shape\", train_labels.shape)\n",
    "print(\"cross_data.shape\", cross_data.shape)\n",
    "print(\"cross_labels.shape\", cross_labels.shape)"
   ]
  },
  {
   "cell_type": "markdown",
   "metadata": {},
   "source": [
    "Load the pre-computed GloVe word embeddings from file and create an embeddings_index:"
   ]
  },
  {
   "cell_type": "code",
   "execution_count": 34,
   "metadata": {},
   "outputs": [
    {
     "name": "stdout",
     "output_type": "stream",
     "text": [
      "Found 400000 word vectors.\n"
     ]
    }
   ],
   "source": [
    "embeddings_index = {}\n",
    "with open(os.path.join('glove.6B', 'glove.6B.100d.txt'), 'r', encoding='utf-8') as f:\n",
    "    for line in f:\n",
    "        values = line.split()\n",
    "        word = values[0]\n",
    "        coefs = np.asarray(values[1:], dtype='float32')\n",
    "        embeddings_index[word] = coefs\n",
    "\n",
    "print('Found %s word vectors.' % len(embeddings_index))"
   ]
  },
  {
   "cell_type": "markdown",
   "metadata": {},
   "source": [
    "Use word_index and embedding_index to compute the embedding_matrix. embedding_matrix is  a matrix storing the embedded_vector for each word in the data set. "
   ]
  },
  {
   "cell_type": "code",
   "execution_count": 35,
   "metadata": {},
   "outputs": [],
   "source": [
    "num_words = min(MAX_NUM_WORDS, len(word_index) + 1)\n",
    "embedding_matrix = np.zeros((num_words, EMBEDDING_DIM))\n",
    "for word, i in word_index.items():\n",
    "    if i >= MAX_NUM_WORDS:\n",
    "        continue\n",
    "    embedding_vector = embeddings_index.get(word)\n",
    "    if embedding_vector is not None:\n",
    "        # words not found in embedding index will be all-zeros.\n",
    "        embedding_matrix[i] = embedding_vector"
   ]
  },
  {
   "cell_type": "markdown",
   "metadata": {},
   "source": [
    "Build an Keras embedding_layer. Note that trainable=false, i.e., weights are not getting updated. "
   ]
  },
  {
   "cell_type": "code",
   "execution_count": 36,
   "metadata": {},
   "outputs": [],
   "source": [
    "embedding_layer = Embedding(num_words,\n",
    "                            EMBEDDING_DIM,\n",
    "                            embeddings_initializer=Constant(embedding_matrix),\n",
    "                            input_length=MAX_SEQUENCE_LENGTH,\n",
    "                            trainable=False)"
   ]
  },
  {
   "cell_type": "code",
   "execution_count": 37,
   "metadata": {},
   "outputs": [],
   "source": [
    "from keras import backend as K\n",
    "\n",
    "def f1(y_true, y_pred):\n",
    "    def recall(y_true, y_pred):\n",
    "        \"\"\"Recall metric.\n",
    "\n",
    "        Only computes a batch-wise average of recall.\n",
    "\n",
    "        Computes the recall, a metric for multi-label classification of\n",
    "        how many relevant items are selected.\n",
    "        \"\"\"\n",
    "        true_positives = K.sum(K.round(K.clip(y_true * y_pred, 0, 1)))\n",
    "        possible_positives = K.sum(K.round(K.clip(y_true, 0, 1)))\n",
    "        recall = true_positives / (possible_positives + K.epsilon())\n",
    "        return recall\n",
    "\n",
    "    def precision(y_true, y_pred):\n",
    "        \"\"\"Precision metric.\n",
    "\n",
    "        Only computes a batch-wise average of precision.\n",
    "\n",
    "        Computes the precision, a metric for multi-label classification of\n",
    "        how many selected items are relevant.\n",
    "        \"\"\"\n",
    "        true_positives = K.sum(K.round(K.clip(y_true * y_pred, 0, 1)))\n",
    "        predicted_positives = K.sum(K.round(K.clip(y_pred, 0, 1)))\n",
    "        precision = true_positives / (predicted_positives + K.epsilon())\n",
    "        return precision\n",
    "    precision = precision(y_true, y_pred)\n",
    "    recall = recall(y_true, y_pred)\n",
    "    return 2*((precision*recall)/(precision+recall+K.epsilon()))"
   ]
  },
  {
   "cell_type": "raw",
   "metadata": {},
   "source": [
    "import numpy as np\n",
    "from keras.callbacks import Callback\n",
    "from sklearn.metrics import confusion_matrix, f1_score, precision_score, recall_score\n",
    "class Metrics(Callback):\n",
    "    def on_train_begin(self, logs={}):\n",
    "        self.val_f1s = []\n",
    "        self.val_recalls = []\n",
    "        self.val_precisions = []\n",
    "\n",
    "    def on_epoch_end(self, epoch, logs={}):\n",
    "        val_predict = (np.asarray(self.model.predict(self.model.validation_data[0]))).round()\n",
    "        val_targ = self.model.validation_data[1]\n",
    "        _val_f1 = f1_score(val_targ, val_predict)\n",
    "        _val_recall = recall_score(val_targ, val_predict)\n",
    "        _val_precision = precision_score(val_targ, val_predict)\n",
    "        self.val_f1s.append(_val_f1)\n",
    "        self.val_recalls.append(_val_recall)\n",
    "        self.val_precisions.append(_val_precision)\n",
    "        print (\"— val_f1: %f — val_precision: %f — val_recall %f\"%(_val_f1, _val_precision, _val_recall))\n",
    "        return\n",
    "metrics = Metrics()"
   ]
  },
  {
   "cell_type": "code",
   "execution_count": 4,
   "metadata": {},
   "outputs": [
    {
     "name": "stdout",
     "output_type": "stream",
     "text": [
      "a: (1, 4)\n",
      "b: (1, 4)\n"
     ]
    },
    {
     "ename": "TypeError",
     "evalue": "x and y must have the same dtype, got tf.int64 != tf.int32",
     "output_type": "error",
     "traceback": [
      "\u001b[0;31m---------------------------------------------------------------------------\u001b[0m",
      "\u001b[0;31mTypeError\u001b[0m                                 Traceback (most recent call last)",
      "\u001b[0;32m<ipython-input-4-114ff1d797af>\u001b[0m in \u001b[0;36m<module>\u001b[0;34m()\u001b[0m\n\u001b[1;32m     10\u001b[0m \u001b[0mprint\u001b[0m \u001b[0;34m(\u001b[0m\u001b[0;34m\"a:\"\u001b[0m\u001b[0;34m,\u001b[0m \u001b[0ma\u001b[0m\u001b[0;34m.\u001b[0m\u001b[0mshape\u001b[0m\u001b[0;34m)\u001b[0m\u001b[0;34m\u001b[0m\u001b[0m\n\u001b[1;32m     11\u001b[0m \u001b[0mprint\u001b[0m \u001b[0;34m(\u001b[0m\u001b[0;34m\"b:\"\u001b[0m\u001b[0;34m,\u001b[0m \u001b[0mb\u001b[0m\u001b[0;34m.\u001b[0m\u001b[0mshape\u001b[0m\u001b[0;34m)\u001b[0m\u001b[0;34m\u001b[0m\u001b[0m\n\u001b[0;32m---> 12\u001b[0;31m \u001b[0mprint\u001b[0m\u001b[0;34m(\u001b[0m\u001b[0mhamming\u001b[0m\u001b[0;34m(\u001b[0m\u001b[0ma\u001b[0m\u001b[0;34m,\u001b[0m \u001b[0mb\u001b[0m\u001b[0;34m)\u001b[0m\u001b[0;34m)\u001b[0m\u001b[0;34m\u001b[0m\u001b[0m\n\u001b[0m\u001b[1;32m     13\u001b[0m \u001b[0;34m\u001b[0m\u001b[0m\n",
      "\u001b[0;32m<ipython-input-4-114ff1d797af>\u001b[0m in \u001b[0;36mhamming\u001b[0;34m(y_true, y_pred)\u001b[0m\n\u001b[1;32m      2\u001b[0m \u001b[0;32mimport\u001b[0m \u001b[0mnumpy\u001b[0m \u001b[0;32mas\u001b[0m \u001b[0mnp\u001b[0m\u001b[0;34m\u001b[0m\u001b[0m\n\u001b[1;32m      3\u001b[0m \u001b[0;32mdef\u001b[0m \u001b[0mhamming\u001b[0m\u001b[0;34m(\u001b[0m\u001b[0my_true\u001b[0m\u001b[0;34m,\u001b[0m \u001b[0my_pred\u001b[0m\u001b[0;34m)\u001b[0m\u001b[0;34m:\u001b[0m\u001b[0;34m\u001b[0m\u001b[0m\n\u001b[0;32m----> 4\u001b[0;31m             \u001b[0;32mreturn\u001b[0m \u001b[0mK\u001b[0m\u001b[0;34m.\u001b[0m\u001b[0msum\u001b[0m\u001b[0;34m(\u001b[0m\u001b[0;34m(\u001b[0m\u001b[0my_true\u001b[0m \u001b[0;34m*\u001b[0m \u001b[0;34m(\u001b[0m\u001b[0;36m1\u001b[0m\u001b[0;34m-\u001b[0m\u001b[0my_pred\u001b[0m\u001b[0;34m)\u001b[0m \u001b[0;34m+\u001b[0m \u001b[0;34m(\u001b[0m\u001b[0;36m1\u001b[0m\u001b[0;34m-\u001b[0m\u001b[0my_true\u001b[0m\u001b[0;34m)\u001b[0m \u001b[0;34m*\u001b[0m \u001b[0my_pred\u001b[0m\u001b[0;34m)\u001b[0m\u001b[0;34m)\u001b[0m \u001b[0;34m/\u001b[0m \u001b[0mK\u001b[0m\u001b[0;34m.\u001b[0m\u001b[0mshape\u001b[0m\u001b[0;34m(\u001b[0m\u001b[0my_true\u001b[0m\u001b[0;34m)\u001b[0m\u001b[0;34m[\u001b[0m\u001b[0;36m1\u001b[0m\u001b[0;34m]\u001b[0m\u001b[0;34m\u001b[0m\u001b[0m\n\u001b[0m\u001b[1;32m      5\u001b[0m \u001b[0;34m\u001b[0m\u001b[0m\n\u001b[1;32m      6\u001b[0m \u001b[0;34m\u001b[0m\u001b[0m\n",
      "\u001b[0;32m~/anaconda3/lib/python3.6/site-packages/tensorflow/python/ops/math_ops.py\u001b[0m in \u001b[0;36mbinary_op_wrapper\u001b[0;34m(x, y)\u001b[0m\n\u001b[1;32m    845\u001b[0m     \u001b[0;32mwith\u001b[0m \u001b[0mops\u001b[0m\u001b[0;34m.\u001b[0m\u001b[0mname_scope\u001b[0m\u001b[0;34m(\u001b[0m\u001b[0;32mNone\u001b[0m\u001b[0;34m,\u001b[0m \u001b[0mop_name\u001b[0m\u001b[0;34m,\u001b[0m \u001b[0;34m[\u001b[0m\u001b[0mx\u001b[0m\u001b[0;34m,\u001b[0m \u001b[0my\u001b[0m\u001b[0;34m]\u001b[0m\u001b[0;34m)\u001b[0m \u001b[0;32mas\u001b[0m \u001b[0mname\u001b[0m\u001b[0;34m:\u001b[0m\u001b[0;34m\u001b[0m\u001b[0m\n\u001b[1;32m    846\u001b[0m       \u001b[0;32mif\u001b[0m \u001b[0misinstance\u001b[0m\u001b[0;34m(\u001b[0m\u001b[0mx\u001b[0m\u001b[0;34m,\u001b[0m \u001b[0mops\u001b[0m\u001b[0;34m.\u001b[0m\u001b[0mTensor\u001b[0m\u001b[0;34m)\u001b[0m \u001b[0;32mand\u001b[0m \u001b[0misinstance\u001b[0m\u001b[0;34m(\u001b[0m\u001b[0my\u001b[0m\u001b[0;34m,\u001b[0m \u001b[0mops\u001b[0m\u001b[0;34m.\u001b[0m\u001b[0mTensor\u001b[0m\u001b[0;34m)\u001b[0m\u001b[0;34m:\u001b[0m\u001b[0;34m\u001b[0m\u001b[0m\n\u001b[0;32m--> 847\u001b[0;31m         \u001b[0;32mreturn\u001b[0m \u001b[0mfunc\u001b[0m\u001b[0;34m(\u001b[0m\u001b[0mx\u001b[0m\u001b[0;34m,\u001b[0m \u001b[0my\u001b[0m\u001b[0;34m,\u001b[0m \u001b[0mname\u001b[0m\u001b[0;34m=\u001b[0m\u001b[0mname\u001b[0m\u001b[0;34m)\u001b[0m\u001b[0;34m\u001b[0m\u001b[0m\n\u001b[0m\u001b[1;32m    848\u001b[0m       \u001b[0;32melif\u001b[0m \u001b[0;32mnot\u001b[0m \u001b[0misinstance\u001b[0m\u001b[0;34m(\u001b[0m\u001b[0my\u001b[0m\u001b[0;34m,\u001b[0m \u001b[0msparse_tensor\u001b[0m\u001b[0;34m.\u001b[0m\u001b[0mSparseTensor\u001b[0m\u001b[0;34m)\u001b[0m\u001b[0;34m:\u001b[0m\u001b[0;34m\u001b[0m\u001b[0m\n\u001b[1;32m    849\u001b[0m         \u001b[0;32mtry\u001b[0m\u001b[0;34m:\u001b[0m\u001b[0;34m\u001b[0m\u001b[0m\n",
      "\u001b[0;32m~/anaconda3/lib/python3.6/site-packages/tensorflow/python/ops/math_ops.py\u001b[0m in \u001b[0;36m_truediv_python3\u001b[0;34m(x, y, name)\u001b[0m\n\u001b[1;32m    945\u001b[0m     \u001b[0;32mif\u001b[0m \u001b[0mx_dtype\u001b[0m \u001b[0;34m!=\u001b[0m \u001b[0my_dtype\u001b[0m\u001b[0;34m:\u001b[0m\u001b[0;34m\u001b[0m\u001b[0m\n\u001b[1;32m    946\u001b[0m       raise TypeError(\"x and y must have the same dtype, got %r != %r\" %\n\u001b[0;32m--> 947\u001b[0;31m                       (x_dtype, y_dtype))\n\u001b[0m\u001b[1;32m    948\u001b[0m     \u001b[0;32mtry\u001b[0m\u001b[0;34m:\u001b[0m\u001b[0;34m\u001b[0m\u001b[0m\n\u001b[1;32m    949\u001b[0m       \u001b[0mdtype\u001b[0m \u001b[0;34m=\u001b[0m \u001b[0m_TRUEDIV_TABLE\u001b[0m\u001b[0;34m[\u001b[0m\u001b[0mx_dtype\u001b[0m\u001b[0;34m]\u001b[0m\u001b[0;34m\u001b[0m\u001b[0m\n",
      "\u001b[0;31mTypeError\u001b[0m: x and y must have the same dtype, got tf.int64 != tf.int32"
     ]
    }
   ],
   "source": [
    "from keras import backend as K\n",
    "import numpy as np\n",
    "def hamming(y_true, y_pred):\n",
    "            return K.sum((y_true * (1-y_pred) + (1-y_true) * y_pred)) / K.shape(y_true)[1]\n",
    "\n",
    "    \n",
    "a = np.array([[1, 0, 1, 0]])\n",
    "b = np.array([[1, 0, 0, 1]])\n",
    "\n",
    "print (\"a:\", a.shape)\n",
    "print (\"b:\", b.shape)\n",
    "print(hamming(a, b))\n",
    "        "
   ]
  },
  {
   "cell_type": "markdown",
   "metadata": {},
   "source": [
    "Let's define the 1D convolutional model."
   ]
  },
  {
   "cell_type": "code",
   "execution_count": 38,
   "metadata": {},
   "outputs": [],
   "source": [
    "VALIDATION_SPLIT = 0.2 # ration for split of training data and test data\n",
    "NUM_EPOCHS = 75 # number of epochs the network is trained\n",
    "DROPOUT = 0.25\n",
    "REGULARIZATION = 5.0\n",
    "BATCH_SIZE = 256\n",
    "LR = 0.0001\n",
    "\n",
    "sequence_input = Input(shape=(MAX_SEQUENCE_LENGTH,), dtype='int32')\n",
    "embedded_sequences = embedding_layer(sequence_input)\n",
    "x = Conv1D(64, 5, activation='relu', kernel_regularizer=regularizers.l2(REGULARIZATION))(embedded_sequences)\n",
    "x = MaxPooling1D(5)(x)\n",
    "x = Conv1D(64, 5, activation='relu', kernel_regularizer=regularizers.l2(REGULARIZATION))(x)\n",
    "x = MaxPooling1D(5)(x)\n",
    "x = Conv1D(64, 5, activation='relu', kernel_regularizer=regularizers.l2(REGULARIZATION))(x)\n",
    "x = MaxPooling1D(35)(x)  # global max pooling\n",
    "x = Flatten()(x)\n",
    "x = Dropout(DROPOUT)(x)\n",
    "x = Dense(64, activation='relu',kernel_regularizer=regularizers.l2(REGULARIZATION))(x)\n",
    "x = Dropout(DROPOUT)(x)\n",
    "preds = Dense(labels.shape[1], activation='sigmoid', kernel_regularizer=regularizers.l2(REGULARIZATION))(x)\n",
    "\n",
    "adam = keras.optimizers.Adam(lr=LR, beta_1=0.9, beta_2=0.999, epsilon=None, decay=0.0, amsgrad=False)\n",
    "\n",
    "model = Model(sequence_input, preds)\n",
    "model.compile(loss='binary_crossentropy',\n",
    "              optimizer=adam,\n",
    "              metrics=['categorical_accuracy', f1])     "
   ]
  },
  {
   "cell_type": "code",
   "execution_count": 39,
   "metadata": {},
   "outputs": [
    {
     "name": "stdout",
     "output_type": "stream",
     "text": [
      "Train on 22744 samples, validate on 5687 samples\n",
      "Epoch 1/75\n",
      "22744/22744 [==============================] - 9s 392us/step - loss: 1341.1044 - categorical_accuracy: 0.0479 - f1: 0.1811 - val_loss: 1186.4561 - val_categorical_accuracy: 0.0480 - val_f1: 0.1925\n",
      "Epoch 2/75\n",
      "22744/22744 [==============================] - 6s 242us/step - loss: 1059.3331 - categorical_accuracy: 0.0448 - f1: 0.1805 - val_loss: 939.2997 - val_categorical_accuracy: 0.0709 - val_f1: 0.1954\n",
      "Epoch 3/75\n",
      "22744/22744 [==============================] - 6s 243us/step - loss: 840.0630 - categorical_accuracy: 0.0579 - f1: 0.1795 - val_loss: 746.1948 - val_categorical_accuracy: 0.1189 - val_f1: 0.2175\n",
      "Epoch 4/75\n",
      "22744/22744 [==============================] - 6s 243us/step - loss: 668.4385 - categorical_accuracy: 0.0766 - f1: 0.1728 - val_loss: 594.8532 - val_categorical_accuracy: 0.1913 - val_f1: 0.1987\n",
      "Epoch 5/75\n",
      "22744/22744 [==============================] - 6s 243us/step - loss: 533.8664 - categorical_accuracy: 0.1134 - f1: 0.1564 - val_loss: 476.1435 - val_categorical_accuracy: 0.2479 - val_f1: 0.1315\n",
      "Epoch 6/75\n",
      "22744/22744 [==============================] - 6s 243us/step - loss: 428.2929 - categorical_accuracy: 0.1457 - f1: 0.1276 - val_loss: 382.9969 - val_categorical_accuracy: 0.2500 - val_f1: 0.0020\n",
      "Epoch 7/75\n",
      "22744/22744 [==============================] - 6s 243us/step - loss: 345.4302 - categorical_accuracy: 0.1690 - f1: 0.0931 - val_loss: 309.8556 - val_categorical_accuracy: 0.2500 - val_f1: 0.0000e+00\n",
      "Epoch 8/75\n",
      "22744/22744 [==============================] - 6s 243us/step - loss: 280.3180 - categorical_accuracy: 0.1656 - f1: 0.0546 - val_loss: 252.3247 - val_categorical_accuracy: 0.2500 - val_f1: 0.0000e+00\n",
      "Epoch 9/75\n",
      "22744/22744 [==============================] - 6s 243us/step - loss: 229.0332 - categorical_accuracy: 0.1431 - f1: 0.0205 - val_loss: 206.9300 - val_categorical_accuracy: 0.2500 - val_f1: 0.0000e+00\n",
      "Epoch 10/75\n",
      "22744/22744 [==============================] - 6s 243us/step - loss: 188.4792 - categorical_accuracy: 0.1263 - f1: 0.0072 - val_loss: 170.9355 - val_categorical_accuracy: 0.2500 - val_f1: 0.0000e+00\n",
      "Epoch 11/75\n",
      "22744/22744 [==============================] - 6s 243us/step - loss: 156.2246 - categorical_accuracy: 0.1176 - f1: 0.0026 - val_loss: 142.2011 - val_categorical_accuracy: 0.2500 - val_f1: 0.0000e+00\n",
      "Epoch 12/75\n",
      "22744/22744 [==============================] - 6s 243us/step - loss: 130.3749 - categorical_accuracy: 0.1064 - f1: 7.5558e-04 - val_loss: 119.0662 - val_categorical_accuracy: 0.0049 - val_f1: 0.0000e+00\n",
      "Epoch 13/75\n",
      "22744/22744 [==============================] - 6s 243us/step - loss: 109.4662 - categorical_accuracy: 0.1013 - f1: 3.7394e-05 - val_loss: 100.2544 - val_categorical_accuracy: 0.0049 - val_f1: 0.0000e+00\n",
      "Epoch 14/75\n",
      "22744/22744 [==============================] - 6s 244us/step - loss: 92.3786 - categorical_accuracy: 0.0992 - f1: 0.0000e+00 - val_loss: 84.7939 - val_categorical_accuracy: 0.0049 - val_f1: 0.0000e+00\n",
      "Epoch 15/75\n",
      "22744/22744 [==============================] - 6s 244us/step - loss: 78.2626 - categorical_accuracy: 0.0934 - f1: 0.0000e+00 - val_loss: 71.9506 - val_categorical_accuracy: 0.0049 - val_f1: 0.0000e+00\n",
      "Epoch 16/75\n",
      "22744/22744 [==============================] - 6s 245us/step - loss: 66.4788 - categorical_accuracy: 0.0956 - f1: 0.0000e+00 - val_loss: 61.1741 - val_categorical_accuracy: 0.0049 - val_f1: 0.0000e+00\n",
      "Epoch 17/75\n",
      "22744/22744 [==============================] - 6s 245us/step - loss: 56.5485 - categorical_accuracy: 0.0939 - f1: 0.0000e+00 - val_loss: 52.0525 - val_categorical_accuracy: 0.0049 - val_f1: 0.0000e+00\n",
      "Epoch 18/75\n",
      "22744/22744 [==============================] - 6s 245us/step - loss: 48.1137 - categorical_accuracy: 0.0943 - f1: 0.0000e+00 - val_loss: 44.2775 - val_categorical_accuracy: 0.0049 - val_f1: 0.0000e+00\n",
      "Epoch 19/75\n",
      "22744/22744 [==============================] - 6s 244us/step - loss: 40.9055 - categorical_accuracy: 0.0991 - f1: 0.0000e+00 - val_loss: 37.6167 - val_categorical_accuracy: 0.0049 - val_f1: 0.0000e+00\n",
      "Epoch 20/75\n",
      "22744/22744 [==============================] - 6s 244us/step - loss: 34.7197 - categorical_accuracy: 0.1024 - f1: 0.0000e+00 - val_loss: 31.8921 - val_categorical_accuracy: 0.0049 - val_f1: 0.0000e+00\n",
      "Epoch 21/75\n",
      "22744/22744 [==============================] - 6s 244us/step - loss: 29.3989 - categorical_accuracy: 0.1078 - f1: 0.0000e+00 - val_loss: 26.9649 - val_categorical_accuracy: 0.2500 - val_f1: 0.0000e+00\n",
      "Epoch 22/75\n",
      "22744/22744 [==============================] - 6s 244us/step - loss: 24.8189 - categorical_accuracy: 0.1157 - f1: 0.0000e+00 - val_loss: 22.7244 - val_categorical_accuracy: 0.2500 - val_f1: 0.0000e+00\n",
      "Epoch 23/75\n",
      "22744/22744 [==============================] - 6s 245us/step - loss: 20.8792 - categorical_accuracy: 0.1210 - f1: 0.0000e+00 - val_loss: 19.0794 - val_categorical_accuracy: 0.2500 - val_f1: 0.0000e+00\n",
      "Epoch 24/75\n",
      "22744/22744 [==============================] - 6s 245us/step - loss: 17.4963 - categorical_accuracy: 0.1303 - f1: 0.0000e+00 - val_loss: 15.9535 - val_categorical_accuracy: 0.2500 - val_f1: 0.0000e+00\n",
      "Epoch 25/75\n",
      "22744/22744 [==============================] - 6s 246us/step - loss: 14.5992 - categorical_accuracy: 0.1383 - f1: 0.0000e+00 - val_loss: 13.2809 - val_categorical_accuracy: 0.2500 - val_f1: 0.0000e+00\n",
      "Epoch 26/75\n",
      "22744/22744 [==============================] - 6s 248us/step - loss: 12.1265 - categorical_accuracy: 0.1513 - f1: 0.0000e+00 - val_loss: 11.0043 - val_categorical_accuracy: 0.2500 - val_f1: 0.0000e+00\n",
      "Epoch 27/75\n",
      "22744/22744 [==============================] - 6s 248us/step - loss: 10.0244 - categorical_accuracy: 0.1644 - f1: 0.0000e+00 - val_loss: 9.0731 - val_categorical_accuracy: 0.2500 - val_f1: 0.0000e+00\n",
      "Epoch 28/75\n",
      "22744/22744 [==============================] - 6s 247us/step - loss: 8.2450 - categorical_accuracy: 0.1789 - f1: 0.0000e+00 - val_loss: 7.4423 - val_categorical_accuracy: 0.2500 - val_f1: 0.0000e+00\n",
      "Epoch 29/75\n",
      "22744/22744 [==============================] - 6s 247us/step - loss: 6.7459 - categorical_accuracy: 0.1925 - f1: 0.0000e+00 - val_loss: 6.0720 - val_categorical_accuracy: 0.2500 - val_f1: 0.0000e+00\n",
      "Epoch 30/75\n",
      "22744/22744 [==============================] - 6s 247us/step - loss: 5.4893 - categorical_accuracy: 0.2067 - f1: 0.0000e+00 - val_loss: 4.9265 - val_categorical_accuracy: 0.2500 - val_f1: 0.0000e+00\n",
      "Epoch 31/75\n",
      "22744/22744 [==============================] - 6s 246us/step - loss: 4.4415 - categorical_accuracy: 0.2197 - f1: 0.0000e+00 - val_loss: 3.9740 - val_categorical_accuracy: 0.2500 - val_f1: 0.0000e+00\n",
      "Epoch 32/75\n",
      "22744/22744 [==============================] - 6s 247us/step - loss: 3.5728 - categorical_accuracy: 0.2314 - f1: 0.0000e+00 - val_loss: 3.1866 - val_categorical_accuracy: 0.2500 - val_f1: 0.0000e+00\n",
      "Epoch 33/75\n",
      "22744/22744 [==============================] - 6s 246us/step - loss: 2.8565 - categorical_accuracy: 0.2381 - f1: 0.0000e+00 - val_loss: 2.5395 - val_categorical_accuracy: 0.2500 - val_f1: 0.0000e+00\n",
      "Epoch 34/75\n",
      "22744/22744 [==============================] - 6s 247us/step - loss: 2.2696 - categorical_accuracy: 0.2428 - f1: 0.0000e+00 - val_loss: 2.0110 - val_categorical_accuracy: 0.2500 - val_f1: 0.0000e+00\n",
      "Epoch 35/75\n",
      "22744/22744 [==============================] - 6s 246us/step - loss: 1.7917 - categorical_accuracy: 0.2443 - f1: 0.0000e+00 - val_loss: 1.5820 - val_categorical_accuracy: 0.2500 - val_f1: 0.0000e+00\n",
      "Epoch 36/75\n",
      "22744/22744 [==============================] - 6s 247us/step - loss: 1.4049 - categorical_accuracy: 0.2448 - f1: 0.0000e+00 - val_loss: 1.2360 - val_categorical_accuracy: 0.2500 - val_f1: 0.0000e+00\n",
      "Epoch 37/75\n",
      "22744/22744 [==============================] - 6s 245us/step - loss: 1.0941 - categorical_accuracy: 0.2448 - f1: 0.0000e+00 - val_loss: 0.9589 - val_categorical_accuracy: 0.2500 - val_f1: 0.0000e+00\n",
      "Epoch 38/75\n",
      "22744/22744 [==============================] - 6s 243us/step - loss: 0.8459 - categorical_accuracy: 0.2448 - f1: 0.0000e+00 - val_loss: 0.7386 - val_categorical_accuracy: 0.2500 - val_f1: 0.0000e+00\n",
      "Epoch 39/75\n",
      "22744/22744 [==============================] - 6s 243us/step - loss: 0.6492 - categorical_accuracy: 0.2448 - f1: 0.0000e+00 - val_loss: 0.5645 - val_categorical_accuracy: 0.2500 - val_f1: 0.0000e+00\n",
      "Epoch 40/75\n",
      "22744/22744 [==============================] - 6s 244us/step - loss: 0.4944 - categorical_accuracy: 0.2448 - f1: 0.0000e+00 - val_loss: 0.4281 - val_categorical_accuracy: 0.2500 - val_f1: 0.0000e+00\n",
      "Epoch 41/75\n",
      "22744/22744 [==============================] - 6s 246us/step - loss: 0.3735 - categorical_accuracy: 0.2448 - f1: 0.0000e+00 - val_loss: 0.3221 - val_categorical_accuracy: 0.2500 - val_f1: 0.0000e+00\n",
      "Epoch 42/75\n",
      "22744/22744 [==============================] - 6s 246us/step - loss: 0.2799 - categorical_accuracy: 0.2448 - f1: 0.0000e+00 - val_loss: 0.2402 - val_categorical_accuracy: 0.2500 - val_f1: 0.0000e+00\n",
      "Epoch 43/75\n",
      "22744/22744 [==============================] - 6s 245us/step - loss: 0.2079 - categorical_accuracy: 0.2448 - f1: 0.0000e+00 - val_loss: 0.1776 - val_categorical_accuracy: 0.2500 - val_f1: 0.0000e+00\n",
      "Epoch 44/75\n",
      "22744/22744 [==============================] - 6s 245us/step - loss: 0.1530 - categorical_accuracy: 0.2448 - f1: 0.0000e+00 - val_loss: 0.1300 - val_categorical_accuracy: 0.2500 - val_f1: 0.0000e+00\n",
      "Epoch 45/75\n",
      "22744/22744 [==============================] - 6s 245us/step - loss: 0.1115 - categorical_accuracy: 0.2448 - f1: 0.0000e+00 - val_loss: 0.0943 - val_categorical_accuracy: 0.2500 - val_f1: 0.0000e+00\n",
      "Epoch 46/75\n",
      "22744/22744 [==============================] - 6s 243us/step - loss: 0.0805 - categorical_accuracy: 0.2448 - f1: 0.0000e+00 - val_loss: 0.0677 - val_categorical_accuracy: 0.2500 - val_f1: 0.0000e+00\n",
      "Epoch 47/75\n",
      "22744/22744 [==============================] - 6s 244us/step - loss: 0.0575 - categorical_accuracy: 0.2448 - f1: 0.0000e+00 - val_loss: 0.0481 - val_categorical_accuracy: 0.2500 - val_f1: 0.0000e+00\n",
      "Epoch 48/75\n",
      "22744/22744 [==============================] - 6s 244us/step - loss: 0.0406 - categorical_accuracy: 0.2448 - f1: 0.0000e+00 - val_loss: 0.0337 - val_categorical_accuracy: 0.2500 - val_f1: 0.0000e+00\n",
      "Epoch 49/75\n",
      "22744/22744 [==============================] - 6s 244us/step - loss: 0.0284 - categorical_accuracy: 0.2448 - f1: 0.0000e+00 - val_loss: 0.0234 - val_categorical_accuracy: 0.2500 - val_f1: 0.0000e+00\n",
      "Epoch 50/75\n",
      "22744/22744 [==============================] - 6s 245us/step - loss: 0.0196 - categorical_accuracy: 0.2448 - f1: 0.0000e+00 - val_loss: 0.0161 - val_categorical_accuracy: 0.2500 - val_f1: 0.0000e+00\n",
      "Epoch 51/75\n",
      "22744/22744 [==============================] - 6s 246us/step - loss: 0.0133 - categorical_accuracy: 0.2448 - f1: 0.0000e+00 - val_loss: 0.0109 - val_categorical_accuracy: 0.2500 - val_f1: 0.0000e+00\n",
      "Epoch 52/75\n",
      "22744/22744 [==============================] - 6s 246us/step - loss: 0.0090 - categorical_accuracy: 0.2448 - f1: 0.0000e+00 - val_loss: 0.0073 - val_categorical_accuracy: 0.2500 - val_f1: 0.0000e+00\n",
      "Epoch 53/75\n",
      "22744/22744 [==============================] - 6s 246us/step - loss: 0.0060 - categorical_accuracy: 0.2448 - f1: 0.0000e+00 - val_loss: 0.0048 - val_categorical_accuracy: 0.2500 - val_f1: 0.0000e+00\n",
      "Epoch 54/75\n",
      "22744/22744 [==============================] - 6s 245us/step - loss: 0.0039 - categorical_accuracy: 0.2448 - f1: 0.0000e+00 - val_loss: 0.0031 - val_categorical_accuracy: 0.2500 - val_f1: 0.0000e+00\n",
      "Epoch 55/75\n",
      "22744/22744 [==============================] - 6s 244us/step - loss: 0.0025 - categorical_accuracy: 0.2448 - f1: 0.0000e+00 - val_loss: 0.0020 - val_categorical_accuracy: 0.2500 - val_f1: 0.0000e+00\n",
      "Epoch 56/75\n",
      "22744/22744 [==============================] - 6s 243us/step - loss: 0.0016 - categorical_accuracy: 0.2448 - f1: 0.0000e+00 - val_loss: 0.0013 - val_categorical_accuracy: 0.2500 - val_f1: 0.0000e+00\n",
      "Epoch 57/75\n",
      "22744/22744 [==============================] - 6s 243us/step - loss: 0.0011 - categorical_accuracy: 0.2448 - f1: 0.0000e+00 - val_loss: 8.4247e-04 - val_categorical_accuracy: 0.2500 - val_f1: 0.0000e+00\n",
      "Epoch 58/75\n",
      "22744/22744 [==============================] - 6s 243us/step - loss: 6.8873e-04 - categorical_accuracy: 0.2448 - f1: 0.0000e+00 - val_loss: 5.5137e-04 - val_categorical_accuracy: 0.2500 - val_f1: 0.0000e+00\n",
      "Epoch 59/75\n",
      "22744/22744 [==============================] - 6s 245us/step - loss: 4.5678e-04 - categorical_accuracy: 0.2448 - f1: 0.0000e+00 - val_loss: 3.7184e-04 - val_categorical_accuracy: 0.2500 - val_f1: 0.0000e+00\n",
      "Epoch 60/75\n",
      "22744/22744 [==============================] - 6s 244us/step - loss: 3.1505e-04 - categorical_accuracy: 0.2448 - f1: 0.0000e+00 - val_loss: 2.6338e-04 - val_categorical_accuracy: 0.2500 - val_f1: 0.0000e+00\n",
      "Epoch 61/75\n",
      "22744/22744 [==============================] - 6s 245us/step - loss: 2.3025e-04 - categorical_accuracy: 0.2448 - f1: 0.0000e+00 - val_loss: 1.9927e-04 - val_categorical_accuracy: 0.2500 - val_f1: 0.0000e+00\n",
      "Epoch 62/75\n",
      "22744/22744 [==============================] - 6s 248us/step - loss: 1.8059e-04 - categorical_accuracy: 0.2448 - f1: 0.0000e+00 - val_loss: 1.6215e-04 - val_categorical_accuracy: 0.2500 - val_f1: 0.0000e+00\n",
      "Epoch 63/75\n",
      "22744/22744 [==============================] - 6s 247us/step - loss: 1.5212e-04 - categorical_accuracy: 0.2448 - f1: 0.0000e+00 - val_loss: 1.4111e-04 - val_categorical_accuracy: 0.2500 - val_f1: 0.0000e+00\n",
      "Epoch 64/75\n",
      "22744/22744 [==============================] - 6s 246us/step - loss: 1.3612e-04 - categorical_accuracy: 0.2448 - f1: 0.0000e+00 - val_loss: 1.2941e-04 - val_categorical_accuracy: 0.2500 - val_f1: 0.0000e+00\n",
      "Epoch 65/75\n",
      "22744/22744 [==============================] - 6s 246us/step - loss: 1.2727e-04 - categorical_accuracy: 0.2448 - f1: 0.0000e+00 - val_loss: 1.2299e-04 - val_categorical_accuracy: 0.2500 - val_f1: 0.0000e+00\n",
      "Epoch 66/75\n",
      "22744/22744 [==============================] - 6s 245us/step - loss: 1.2242e-04 - categorical_accuracy: 0.2448 - f1: 0.0000e+00 - val_loss: 1.1946e-04 - val_categorical_accuracy: 0.2500 - val_f1: 0.0000e+00\n",
      "Epoch 67/75\n",
      "22744/22744 [==============================] - 6s 246us/step - loss: 1.1973e-04 - categorical_accuracy: 0.2448 - f1: 0.0000e+00 - val_loss: 1.1747e-04 - val_categorical_accuracy: 0.2500 - val_f1: 0.0000e+00\n",
      "Epoch 68/75\n",
      "22744/22744 [==============================] - 6s 246us/step - loss: 1.1818e-04 - categorical_accuracy: 0.2448 - f1: 0.0000e+00 - val_loss: 1.1628e-04 - val_categorical_accuracy: 0.2500 - val_f1: 0.0000e+00\n",
      "Epoch 69/75\n",
      "22744/22744 [==============================] - 6s 245us/step - loss: 1.1721e-04 - categorical_accuracy: 0.2448 - f1: 0.0000e+00 - val_loss: 1.1550e-04 - val_categorical_accuracy: 0.2500 - val_f1: 0.0000e+00\n",
      "Epoch 70/75\n",
      "22744/22744 [==============================] - 6s 246us/step - loss: 1.1654e-04 - categorical_accuracy: 0.2448 - f1: 0.0000e+00 - val_loss: 1.1493e-04 - val_categorical_accuracy: 0.2500 - val_f1: 0.0000e+00\n",
      "Epoch 71/75\n",
      "22744/22744 [==============================] - 6s 246us/step - loss: 1.1600e-04 - categorical_accuracy: 0.2448 - f1: 0.0000e+00 - val_loss: 1.1442e-04 - val_categorical_accuracy: 0.2500 - val_f1: 0.0000e+00\n",
      "Epoch 72/75\n",
      "22744/22744 [==============================] - 6s 246us/step - loss: 1.1552e-04 - categorical_accuracy: 0.2448 - f1: 0.0000e+00 - val_loss: 1.1398e-04 - val_categorical_accuracy: 0.2500 - val_f1: 0.0000e+00\n",
      "Epoch 73/75\n",
      "22744/22744 [==============================] - 6s 247us/step - loss: 1.1508e-04 - categorical_accuracy: 0.2448 - f1: 0.0000e+00 - val_loss: 1.1354e-04 - val_categorical_accuracy: 0.2500 - val_f1: 0.0000e+00\n",
      "Epoch 74/75\n",
      "22744/22744 [==============================] - 6s 246us/step - loss: 1.1464e-04 - categorical_accuracy: 0.2448 - f1: 0.0000e+00 - val_loss: 1.1312e-04 - val_categorical_accuracy: 0.2500 - val_f1: 0.0000e+00\n",
      "Epoch 75/75\n",
      "22744/22744 [==============================] - 6s 245us/step - loss: 1.1422e-04 - categorical_accuracy: 0.2448 - f1: 0.0000e+00 - val_loss: 1.1271e-04 - val_categorical_accuracy: 0.2500 - val_f1: 0.0000e+00\n"
     ]
    }
   ],
   "source": [
    "history = model.fit(train_data, train_labels, class_weight=class_weight, validation_split=0.2,\n",
    "          epochs=NUM_EPOCHS, batch_size=BATCH_SIZE)     "
   ]
  },
  {
   "cell_type": "code",
   "execution_count": 40,
   "metadata": {},
   "outputs": [],
   "source": [
    "acc = history.history['categorical_accuracy']\n",
    "val_acc = history.history['val_categorical_accuracy']\n",
    "loss = history.history['loss']\n",
    "val_loss = history.history['val_loss'] \n",
    "F1 = history.history['f1'] \n",
    "val_F1 = history.history['val_f1'] "
   ]
  },
  {
   "cell_type": "code",
   "execution_count": 41,
   "metadata": {},
   "outputs": [
    {
     "data": {
      "image/png": "[encoded data removed]",
      "text/plain": [
       "<Figure size 864x288 with 3 Axes>"
      ]
     },
     "metadata": {
      "needs_background": "light"
     },
     "output_type": "display_data"
    }
   ],
   "source": [
    "epochs = range(len(acc))                \n",
    "fig, (ax1, ax2, ax3) = plt.subplots(nrows=1, ncols=3, figsize=(12, 4))\n",
    "ax1.plot(epochs, acc, label='Training acc')\n",
    "ax1.plot(epochs, val_acc, label='Validation acc')\n",
    "ax1.set_ylabel('accuracy')\n",
    "ax1.set_xlabel('epoch')\n",
    "ax1.set_title('Accuracy')\n",
    "ax1.legend()\n",
    "ax2.plot(epochs, loss, label='Training loss')\n",
    "ax2.plot(epochs, val_loss, label='Validation loss')\n",
    "ax2.set_ylabel('loss')\n",
    "ax2.set_xlabel('epoch')\n",
    "ax2.set_title('Loss')\n",
    "ax2.legend()\n",
    "ax3.plot(epochs, F1, label='Training F1')\n",
    "ax3.plot(epochs, val_F1, label='Validation F1')\n",
    "ax3.set_ylabel('F1')\n",
    "ax3.set_xlabel('epoch')\n",
    "ax3.set_title('F1')\n",
    "ax3.legend()\n",
    "plt.show()"
   ]
  },
  {
   "cell_type": "markdown",
   "metadata": {},
   "source": [
    "Now the model needs to be trained."
   ]
  },
  {
   "cell_type": "markdown",
   "metadata": {},
   "source": [
    "Save the model to disc!"
   ]
  },
  {
   "cell_type": "markdown",
   "metadata": {},
   "source": [
    "Predict using an example from the training set. Later we should also create a dev set for prediction."
   ]
  },
  {
   "cell_type": "code",
   "execution_count": 42,
   "metadata": {},
   "outputs": [],
   "source": [
    "pred_labels = model.predict(cross_data) "
   ]
  },
  {
   "cell_type": "code",
   "execution_count": 46,
   "metadata": {},
   "outputs": [
    {
     "name": "stdout",
     "output_type": "stream",
     "text": [
      "[[0.3525779  0.35226926 0.3530585  0.3525899  0.3576091  0.37423712\n",
      "  0.35000527 0.35116193 0.35687238 0.35364702 0.3524502  0.35751945\n",
      "  0.35339794 0.35398602 0.3492352  0.34998485 0.3508698  0.34906664\n",
      "  0.35021114 0.34929684]\n",
      " [0.3525779  0.35226926 0.3530585  0.3525899  0.3576091  0.37423712\n",
      "  0.35000527 0.35116193 0.35687238 0.35364702 0.3524502  0.35751945\n",
      "  0.35339794 0.35398602 0.3492352  0.34998485 0.3508698  0.34906664\n",
      "  0.35021114 0.34929684]\n",
      " [0.3525779  0.35226926 0.3530585  0.3525899  0.3576091  0.37423712\n",
      "  0.35000527 0.35116193 0.35687238 0.35364702 0.3524502  0.35751945\n",
      "  0.35339794 0.35398602 0.3492352  0.34998485 0.3508698  0.34906664\n",
      "  0.35021114 0.34929684]\n",
      " [0.3525779  0.35226926 0.3530585  0.3525899  0.3576091  0.37423712\n",
      "  0.35000527 0.35116193 0.35687238 0.35364702 0.3524502  0.35751945\n",
      "  0.35339794 0.35398602 0.3492352  0.34998485 0.3508698  0.34906664\n",
      "  0.35021114 0.34929684]\n",
      " [0.3525779  0.35226926 0.3530585  0.3525899  0.3576091  0.37423712\n",
      "  0.35000527 0.35116193 0.35687238 0.35364702 0.3524502  0.35751945\n",
      "  0.35339794 0.35398602 0.3492352  0.34998485 0.3508698  0.34906664\n",
      "  0.35021114 0.34929684]\n",
      " [0.3525779  0.35226926 0.3530585  0.3525899  0.3576091  0.37423712\n",
      "  0.35000527 0.35116193 0.35687238 0.35364702 0.3524502  0.35751945\n",
      "  0.35339794 0.35398602 0.3492352  0.34998485 0.3508698  0.34906664\n",
      "  0.35021114 0.34929684]\n",
      " [0.3525779  0.35226926 0.3530585  0.3525899  0.3576091  0.37423712\n",
      "  0.35000527 0.35116193 0.35687238 0.35364702 0.3524502  0.35751945\n",
      "  0.35339794 0.35398602 0.3492352  0.34998485 0.3508698  0.34906664\n",
      "  0.35021114 0.34929684]\n",
      " [0.3525779  0.35226926 0.3530585  0.3525899  0.3576091  0.37423712\n",
      "  0.35000527 0.35116193 0.35687238 0.35364702 0.3524502  0.35751945\n",
      "  0.35339794 0.35398602 0.3492352  0.34998485 0.3508698  0.34906664\n",
      "  0.35021114 0.34929684]\n",
      " [0.3525779  0.35226926 0.3530585  0.3525899  0.3576091  0.37423712\n",
      "  0.35000527 0.35116193 0.35687238 0.35364702 0.3524502  0.35751945\n",
      "  0.35339794 0.35398602 0.3492352  0.34998485 0.3508698  0.34906664\n",
      "  0.35021114 0.34929684]\n",
      " [0.3525779  0.35226926 0.3530585  0.3525899  0.3576091  0.37423712\n",
      "  0.35000527 0.35116193 0.35687238 0.35364702 0.3524502  0.35751945\n",
      "  0.35339794 0.35398602 0.3492352  0.34998485 0.3508698  0.34906664\n",
      "  0.35021114 0.34929684]\n",
      " [0.3525779  0.35226926 0.3530585  0.3525899  0.3576091  0.37423712\n",
      "  0.35000527 0.35116193 0.35687238 0.35364702 0.3524502  0.35751945\n",
      "  0.35339794 0.35398602 0.3492352  0.34998485 0.3508698  0.34906664\n",
      "  0.35021114 0.34929684]\n",
      " [0.3525779  0.35226926 0.3530585  0.3525899  0.3576091  0.37423712\n",
      "  0.35000527 0.35116193 0.35687238 0.35364702 0.3524502  0.35751945\n",
      "  0.35339794 0.35398602 0.3492352  0.34998485 0.3508698  0.34906664\n",
      "  0.35021114 0.34929684]\n",
      " [0.3525779  0.35226926 0.3530585  0.3525899  0.3576091  0.37423712\n",
      "  0.35000527 0.35116193 0.35687238 0.35364702 0.3524502  0.35751945\n",
      "  0.35339794 0.35398602 0.3492352  0.34998485 0.3508698  0.34906664\n",
      "  0.35021114 0.34929684]\n",
      " [0.3525779  0.35226926 0.3530585  0.3525899  0.3576091  0.37423712\n",
      "  0.35000527 0.35116193 0.35687238 0.35364702 0.3524502  0.35751945\n",
      "  0.35339794 0.35398602 0.3492352  0.34998485 0.3508698  0.34906664\n",
      "  0.35021114 0.34929684]\n",
      " [0.3525779  0.35226926 0.3530585  0.3525899  0.3576091  0.37423712\n",
      "  0.35000527 0.35116193 0.35687238 0.35364702 0.3524502  0.35751945\n",
      "  0.35339794 0.35398602 0.3492352  0.34998485 0.3508698  0.34906664\n",
      "  0.35021114 0.34929684]\n",
      " [0.3525779  0.35226926 0.3530585  0.3525899  0.3576091  0.37423712\n",
      "  0.35000527 0.35116193 0.35687238 0.35364702 0.3524502  0.35751945\n",
      "  0.35339794 0.35398602 0.3492352  0.34998485 0.3508698  0.34906664\n",
      "  0.35021114 0.34929684]\n",
      " [0.3525779  0.35226926 0.3530585  0.3525899  0.3576091  0.37423712\n",
      "  0.35000527 0.35116193 0.35687238 0.35364702 0.3524502  0.35751945\n",
      "  0.35339794 0.35398602 0.3492352  0.34998485 0.3508698  0.34906664\n",
      "  0.35021114 0.34929684]\n",
      " [0.3525779  0.35226926 0.3530585  0.3525899  0.3576091  0.37423712\n",
      "  0.35000527 0.35116193 0.35687238 0.35364702 0.3524502  0.35751945\n",
      "  0.35339794 0.35398602 0.3492352  0.34998485 0.3508698  0.34906664\n",
      "  0.35021114 0.34929684]\n",
      " [0.3525779  0.35226926 0.3530585  0.3525899  0.3576091  0.37423712\n",
      "  0.35000527 0.35116193 0.35687238 0.35364702 0.3524502  0.35751945\n",
      "  0.35339794 0.35398602 0.3492352  0.34998485 0.3508698  0.34906664\n",
      "  0.35021114 0.34929684]\n",
      " [0.3525779  0.35226926 0.3530585  0.3525899  0.3576091  0.37423712\n",
      "  0.35000527 0.35116193 0.35687238 0.35364702 0.3524502  0.35751945\n",
      "  0.35339794 0.35398602 0.3492352  0.34998485 0.3508698  0.34906664\n",
      "  0.35021114 0.34929684]\n",
      " [0.3525779  0.35226926 0.3530585  0.3525899  0.3576091  0.37423712\n",
      "  0.35000527 0.35116193 0.35687238 0.35364702 0.3524502  0.35751945\n",
      "  0.35339794 0.35398602 0.3492352  0.34998485 0.3508698  0.34906664\n",
      "  0.35021114 0.34929684]\n",
      " [0.3525779  0.35226926 0.3530585  0.3525899  0.3576091  0.37423712\n",
      "  0.35000527 0.35116193 0.35687238 0.35364702 0.3524502  0.35751945\n",
      "  0.35339794 0.35398602 0.3492352  0.34998485 0.3508698  0.34906664\n",
      "  0.35021114 0.34929684]\n",
      " [0.3525779  0.35226926 0.3530585  0.3525899  0.3576091  0.37423712\n",
      "  0.35000527 0.35116193 0.35687238 0.35364702 0.3524502  0.35751945\n",
      "  0.35339794 0.35398602 0.3492352  0.34998485 0.3508698  0.34906664\n",
      "  0.35021114 0.34929684]\n",
      " [0.3525779  0.35226926 0.3530585  0.3525899  0.3576091  0.37423712\n",
      "  0.35000527 0.35116193 0.35687238 0.35364702 0.3524502  0.35751945\n",
      "  0.35339794 0.35398602 0.3492352  0.34998485 0.3508698  0.34906664\n",
      "  0.35021114 0.34929684]\n",
      " [0.3525779  0.35226926 0.3530585  0.3525899  0.3576091  0.37423712\n",
      "  0.35000527 0.35116193 0.35687238 0.35364702 0.3524502  0.35751945\n",
      "  0.35339794 0.35398602 0.3492352  0.34998485 0.3508698  0.34906664\n",
      "  0.35021114 0.34929684]\n",
      " [0.3525779  0.35226926 0.3530585  0.3525899  0.3576091  0.37423712\n",
      "  0.35000527 0.35116193 0.35687238 0.35364702 0.3524502  0.35751945\n",
      "  0.35339794 0.35398602 0.3492352  0.34998485 0.3508698  0.34906664\n",
      "  0.35021114 0.34929684]\n",
      " [0.3525779  0.35226926 0.3530585  0.3525899  0.3576091  0.37423712\n",
      "  0.35000527 0.35116193 0.35687238 0.35364702 0.3524502  0.35751945\n",
      "  0.35339794 0.35398602 0.3492352  0.34998485 0.3508698  0.34906664\n",
      "  0.35021114 0.34929684]\n",
      " [0.3525779  0.35226926 0.3530585  0.3525899  0.3576091  0.37423712\n",
      "  0.35000527 0.35116193 0.35687238 0.35364702 0.3524502  0.35751945\n",
      "  0.35339794 0.35398602 0.3492352  0.34998485 0.3508698  0.34906664\n",
      "  0.35021114 0.34929684]\n",
      " [0.3525779  0.35226926 0.3530585  0.3525899  0.3576091  0.37423712\n",
      "  0.35000527 0.35116193 0.35687238 0.35364702 0.3524502  0.35751945\n",
      "  0.35339794 0.35398602 0.3492352  0.34998485 0.3508698  0.34906664\n",
      "  0.35021114 0.34929684]\n",
      " [0.3525779  0.35226926 0.3530585  0.3525899  0.3576091  0.37423712\n",
      "  0.35000527 0.35116193 0.35687238 0.35364702 0.3524502  0.35751945\n",
      "  0.35339794 0.35398602 0.3492352  0.34998485 0.3508698  0.34906664\n",
      "  0.35021114 0.34929684]\n",
      " [0.3525779  0.35226926 0.3530585  0.3525899  0.3576091  0.37423712\n",
      "  0.35000527 0.35116193 0.35687238 0.35364702 0.3524502  0.35751945\n",
      "  0.35339794 0.35398602 0.3492352  0.34998485 0.3508698  0.34906664\n",
      "  0.35021114 0.34929684]\n",
      " [0.3525779  0.35226926 0.3530585  0.3525899  0.3576091  0.37423712\n",
      "  0.35000527 0.35116193 0.35687238 0.35364702 0.3524502  0.35751945\n",
      "  0.35339794 0.35398602 0.3492352  0.34998485 0.3508698  0.34906664\n",
      "  0.35021114 0.34929684]\n",
      " [0.3525779  0.35226926 0.3530585  0.3525899  0.3576091  0.37423712\n",
      "  0.35000527 0.35116193 0.35687238 0.35364702 0.3524502  0.35751945\n",
      "  0.35339794 0.35398602 0.3492352  0.34998485 0.3508698  0.34906664\n",
      "  0.35021114 0.34929684]\n",
      " [0.3525779  0.35226926 0.3530585  0.3525899  0.3576091  0.37423712\n",
      "  0.35000527 0.35116193 0.35687238 0.35364702 0.3524502  0.35751945\n",
      "  0.35339794 0.35398602 0.3492352  0.34998485 0.3508698  0.34906664\n",
      "  0.35021114 0.34929684]\n",
      " [0.3525779  0.35226926 0.3530585  0.3525899  0.3576091  0.37423712\n",
      "  0.35000527 0.35116193 0.35687238 0.35364702 0.3524502  0.35751945\n",
      "  0.35339794 0.35398602 0.3492352  0.34998485 0.3508698  0.34906664\n",
      "  0.35021114 0.34929684]\n",
      " [0.3525779  0.35226926 0.3530585  0.3525899  0.3576091  0.37423712\n",
      "  0.35000527 0.35116193 0.35687238 0.35364702 0.3524502  0.35751945\n",
      "  0.35339794 0.35398602 0.3492352  0.34998485 0.3508698  0.34906664\n",
      "  0.35021114 0.34929684]\n",
      " [0.3525779  0.35226926 0.3530585  0.3525899  0.3576091  0.37423712\n",
      "  0.35000527 0.35116193 0.35687238 0.35364702 0.3524502  0.35751945\n",
      "  0.35339794 0.35398602 0.3492352  0.34998485 0.3508698  0.34906664\n",
      "  0.35021114 0.34929684]\n",
      " [0.3525779  0.35226926 0.3530585  0.3525899  0.3576091  0.37423712\n",
      "  0.35000527 0.35116193 0.35687238 0.35364702 0.3524502  0.35751945\n",
      "  0.35339794 0.35398602 0.3492352  0.34998485 0.3508698  0.34906664\n",
      "  0.35021114 0.34929684]\n",
      " [0.3525779  0.35226926 0.3530585  0.3525899  0.3576091  0.37423712\n",
      "  0.35000527 0.35116193 0.35687238 0.35364702 0.3524502  0.35751945\n",
      "  0.35339794 0.35398602 0.3492352  0.34998485 0.3508698  0.34906664\n",
      "  0.35021114 0.34929684]\n",
      " [0.3525779  0.35226926 0.3530585  0.3525899  0.3576091  0.37423712\n",
      "  0.35000527 0.35116193 0.35687238 0.35364702 0.3524502  0.35751945\n",
      "  0.35339794 0.35398602 0.3492352  0.34998485 0.3508698  0.34906664\n",
      "  0.35021114 0.34929684]\n",
      " [0.3525779  0.35226926 0.3530585  0.3525899  0.3576091  0.37423712\n",
      "  0.35000527 0.35116193 0.35687238 0.35364702 0.3524502  0.35751945\n",
      "  0.35339794 0.35398602 0.3492352  0.34998485 0.3508698  0.34906664\n",
      "  0.35021114 0.34929684]\n",
      " [0.3525779  0.35226926 0.3530585  0.3525899  0.3576091  0.37423712\n",
      "  0.35000527 0.35116193 0.35687238 0.35364702 0.3524502  0.35751945\n",
      "  0.35339794 0.35398602 0.3492352  0.34998485 0.3508698  0.34906664\n",
      "  0.35021114 0.34929684]\n",
      " [0.3525779  0.35226926 0.3530585  0.3525899  0.3576091  0.37423712\n",
      "  0.35000527 0.35116193 0.35687238 0.35364702 0.3524502  0.35751945\n",
      "  0.35339794 0.35398602 0.3492352  0.34998485 0.3508698  0.34906664\n",
      "  0.35021114 0.34929684]\n",
      " [0.3525779  0.35226926 0.3530585  0.3525899  0.3576091  0.37423712\n",
      "  0.35000527 0.35116193 0.35687238 0.35364702 0.3524502  0.35751945\n",
      "  0.35339794 0.35398602 0.3492352  0.34998485 0.3508698  0.34906664\n",
      "  0.35021114 0.34929684]\n",
      " [0.3525779  0.35226926 0.3530585  0.3525899  0.3576091  0.37423712\n",
      "  0.35000527 0.35116193 0.35687238 0.35364702 0.3524502  0.35751945\n",
      "  0.35339794 0.35398602 0.3492352  0.34998485 0.3508698  0.34906664\n",
      "  0.35021114 0.34929684]\n",
      " [0.3525779  0.35226926 0.3530585  0.3525899  0.3576091  0.37423712\n",
      "  0.35000527 0.35116193 0.35687238 0.35364702 0.3524502  0.35751945\n",
      "  0.35339794 0.35398602 0.3492352  0.34998485 0.3508698  0.34906664\n",
      "  0.35021114 0.34929684]\n",
      " [0.3525779  0.35226926 0.3530585  0.3525899  0.3576091  0.37423712\n",
      "  0.35000527 0.35116193 0.35687238 0.35364702 0.3524502  0.35751945\n",
      "  0.35339794 0.35398602 0.3492352  0.34998485 0.3508698  0.34906664\n",
      "  0.35021114 0.34929684]\n",
      " [0.3525779  0.35226926 0.3530585  0.3525899  0.3576091  0.37423712\n",
      "  0.35000527 0.35116193 0.35687238 0.35364702 0.3524502  0.35751945\n",
      "  0.35339794 0.35398602 0.3492352  0.34998485 0.3508698  0.34906664\n",
      "  0.35021114 0.34929684]\n",
      " [0.3525779  0.35226926 0.3530585  0.3525899  0.3576091  0.37423712\n",
      "  0.35000527 0.35116193 0.35687238 0.35364702 0.3524502  0.35751945\n",
      "  0.35339794 0.35398602 0.3492352  0.34998485 0.3508698  0.34906664\n",
      "  0.35021114 0.34929684]\n",
      " [0.3525779  0.35226926 0.3530585  0.3525899  0.3576091  0.37423712\n",
      "  0.35000527 0.35116193 0.35687238 0.35364702 0.3524502  0.35751945\n",
      "  0.35339794 0.35398602 0.3492352  0.34998485 0.3508698  0.34906664\n",
      "  0.35021114 0.34929684]]\n"
     ]
    }
   ],
   "source": [
    "print(pred_labels[:50])"
   ]
  },
  {
   "cell_type": "code",
   "execution_count": null,
   "metadata": {},
   "outputs": [],
   "source": []
  }
 ],
 "metadata": {
  "kernelspec": {
   "display_name": "Python [default]",
   "language": "python",
   "name": "python3"
  },
  "language_info": {
   "codemirror_mode": {
    "name": "ipython",
    "version": 3
   },
   "file_extension": ".py",
   "mimetype": "text/x-python",
   "name": "python",
   "nbconvert_exporter": "python",
   "pygments_lexer": "ipython3",
   "version": "3.6.6"
  }
 },
 "nbformat": 4,
 "nbformat_minor": 2
}
