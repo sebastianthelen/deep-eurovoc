{
 "cells": [
  {
   "cell_type": "markdown",
   "metadata": {},
   "source": [
    "# DeepEurovoc"
   ]
  },
  {
   "cell_type": "markdown",
   "metadata": {},
   "source": [
    "The aim of this little experiment is to predict Eurovoc categories/fields of publications based on expression abstracts published by the PO. \n",
    "\n",
    "The model used in this notebook is based on the 1D CNN described in the Keras blog article https://blog.keras.io/using-pre-trained-word-embeddings-in-a-keras-model.html. It uses pre-trained GloVe word embeddings for text classification.\n",
    "\n",
    "The input data is retrieved from the public SPARQL endpoint of the PO which is available at http://publications.europa.eu/webapi/rdf/sparql. The following query does the job:"
   ]
  },
  {
   "cell_type": "raw",
   "metadata": {},
   "source": [
    "prefix cdm: <http://publications.europa.eu/ontology/cdm#> \n",
    "select ?exp ?abstract (group_concat(?concept;separator=\";\") as ?concepts)  where \n",
    "{\n",
    "\t?exp cdm:expression_uses_language <http://publications.europa.eu/resource/authority/language/ENG>.\n",
    "\t?exp cdm:expression_abstract ?abstract.\n",
    "\t?exp cdm:expression_belongs_to_work/cdm:work_is_about_concept_eurovoc ?concept.\n",
    "} group by ?exp ?abstract\n"
   ]
  },
  {
   "cell_type": "markdown",
   "metadata": {},
   "source": [
    "The input data has already been downloaded and is stored in data.csv. Before loading the data, the modules needed throughout this notebook are imported."
   ]
  },
  {
   "cell_type": "code",
   "execution_count": 46,
   "metadata": {},
   "outputs": [],
   "source": [
    "import pandas as pd\n",
    "import numpy as np\n",
    "import os\n",
    "import sys\n",
    "import xml.etree.ElementTree as ET\n",
    "from nltk.corpus import stopwords\n",
    "from nltk.tokenize import word_tokenize\n",
    "from nltk.stem import WordNetLemmatizer\n",
    "from nltk.corpus import wordnet\n",
    "\n",
    "import keras\n",
    "from keras.preprocessing.text import Tokenizer\n",
    "from keras.preprocessing.sequence import pad_sequences\n",
    "from keras.utils import to_categorical\n",
    "from keras.layers import Dense, Input, GlobalMaxPooling1D, Flatten\n",
    "from keras.layers import Conv1D, MaxPooling1D, Embedding\n",
    "from keras.models import Model\n",
    "from keras.initializers import Constant\n",
    "from keras.layers import Dropout\n",
    "from keras import regularizers\n",
    "\n",
    "import tensorflow as tf\n",
    "import keras.backend.tensorflow_backend as tfb\n",
    "\n",
    "from sklearn.preprocessing import MultiLabelBinarizer\n",
    "\n",
    "import matplotlib.pyplot as plt"
   ]
  },
  {
   "cell_type": "markdown",
   "metadata": {},
   "source": [
    "Definition of some global variables used in this notebook:"
   ]
  },
  {
   "cell_type": "code",
   "execution_count": 47,
   "metadata": {},
   "outputs": [],
   "source": [
    "CLEANUP_DATA = True # save time by loading a cleaned up version from disc\n",
    "MAX_NUM_WORDS = 20000 # max. size of vocabulary\n",
    "EMBEDDING_DIM = 100 # dimension of GloVe word embeddings\n",
    "MAX_SEQUENCE_LENGTH = 1000 # truncate examples after MAX_SEQUENCE_LENGTH words\n",
    "CROSS_VALIDATION_SPLIT = 0.1\n",
    "# those are the eurovoc fields we want to support\n",
    "EUROVOC_FIELDS = {\n",
    "\"4\":  \"POLITICS\",\n",
    "\"8\":  \"INTERNATIONAL RELATIONS\", \n",
    "\"10\": \"EUROPEAN UNION\",\n",
    "\"12\": \"LAW \",\n",
    "\"16\": \"ECONOMICS\",\n",
    "\"20\": \"TRADE\",\n",
    "\"24\": \"FINANCE\",\n",
    "\"28\": \"SOCIAL QUESTIONS\",\n",
    "\"32\": \"EDUCATION AND COMMUNICATIONS\",\n",
    "\"36\": \"SCIENCE\",\n",
    "\"40\": \"BUSINESS AND COMPETITION\",\n",
    "\"44\": \"EMPLOYMENT AND WORKING CONDITIONS\",\n",
    "\"48\": \"TRANSPORT\",\n",
    "\"52\": \"ENVIRONMENT\",\n",
    "\"56\": \"AGRICULTURE, FORESTRY AND FISHERIES\",\n",
    "\"60\": \"AGRI-FOODSTUFFS\",\n",
    "\"64\": \"PRODUCTION, TECHNOLOGY AND RESEARCH\",\n",
    "\"66\": \"ENERGY\",\n",
    "\"68\": \"INDUSTRY\",\n",
    "\"72\": \"GEOGRAPHY\",\n",
    "\"76\": \"INTERNATIONAL ORGANISATIONS\"\n",
    "}"
   ]
  },
  {
   "cell_type": "markdown",
   "metadata": {},
   "source": [
    "Load the data and get some numbers..."
   ]
  },
  {
   "cell_type": "code",
   "execution_count": 48,
   "metadata": {},
   "outputs": [
    {
     "name": "stdout",
     "output_type": "stream",
     "text": [
      "<class 'pandas.core.frame.DataFrame'>\n",
      "RangeIndex: 35472 entries, 0 to 35471\n",
      "Data columns (total 3 columns):\n",
      "exp         35472 non-null object\n",
      "abstract    35472 non-null object\n",
      "concepts    35472 non-null object\n",
      "dtypes: object(3)\n",
      "memory usage: 831.5+ KB\n",
      "None\n"
     ]
    }
   ],
   "source": [
    "data_df = pd.read_csv(\"data.csv\")\n",
    "print(data_df.info())"
   ]
  },
  {
   "cell_type": "markdown",
   "metadata": {},
   "source": [
    "We define a function that will help us to extract the abstracts as plain text from the XMLLiterals returned by Virtuoso, to remove all non-English words including stop words, and to perform lemmatization on the filtered words."
   ]
  },
  {
   "cell_type": "code",
   "execution_count": 49,
   "metadata": {},
   "outputs": [],
   "source": [
    "def cleanup_abstract(xmlstring):\n",
    "    #import ipdb; ipdb.set_trace()\n",
    "    xmlstring = xmlstring.replace('\"\"', '\"')\n",
    "    text = None\n",
    "    try: \n",
    "        tree = ET.ElementTree(ET.fromstring(xmlstring))\n",
    "        xpath_result = tree.findall(\".//description\")\n",
    "        text = xpath_result[0].text\n",
    "    except:\n",
    "        text = xmlstring\n",
    "    # remove stopwords and punctuation. lower case everything\n",
    "    stop_words = set(stopwords.words('english'))\n",
    "    tokens = word_tokenize(text)\n",
    "    tokens = [w.lower() for w in tokens if not w in stop_words and w.isalpha() and wordnet.synsets(w)]\n",
    "    # lemmatize\n",
    "    lemma = WordNetLemmatizer()\n",
    "    final_tokens = []\n",
    "    for word in tokens:\n",
    "        final_tokens.append(lemma.lemmatize(word))\n",
    "    ret = \" \".join(final_tokens)\n",
    "    return ret\n",
    "    #return text"
   ]
  },
  {
   "cell_type": "markdown",
   "metadata": {},
   "source": [
    "Cleaning the data involves two steps:\n",
    "\n",
    "1\\. processing of the abstracts \n",
    "\n",
    "2\\. transform the \";\" separated eurovoc codes in the concepts column into lists of eurovoc categories. Only consider to first two digits of the eurovoc codes. The total number of codes  in the data set is much too high (>5000) for classification. Therefore, the first two digits indicating the \"subject matter\" are extracted and filtered based on EUROVOC_FIELDS."
   ]
  },
  {
   "cell_type": "code",
   "execution_count": 50,
   "metadata": {
    "scrolled": true
   },
   "outputs": [],
   "source": [
    "if CLEANUP_DATA:\n",
    "    data_df[\"clean_abstract\"] = data_df[\"abstract\"].apply(cleanup_abstract)\n",
    "    data_df[\"clean_concepts\"] = data_df[\"concepts\"].apply(lambda x: list({c[c.rfind(\"/\")+1:c.rfind(\"/\")+3] for c in x.split(\";\") if c[c.rfind(\"/\")+1:c.rfind(\"/\")+3] in EUROVOC_FIELDS}))\n",
    "    data_df = data_df[data_df.astype(str)['clean_concepts'] != '[]']\n",
    "    data_df.drop([\"abstract\"], axis=1)\n",
    "    data_df.drop([\"concepts\"], axis=1)\n",
    "    data_df.to_pickle(\"data_df.pkl\")"
   ]
  },
  {
   "cell_type": "markdown",
   "metadata": {},
   "source": [
    "The next line loads the cleaned up data directly from file instead of computing it everytime the notebook is executed."
   ]
  },
  {
   "cell_type": "code",
   "execution_count": 51,
   "metadata": {},
   "outputs": [
    {
     "name": "stdout",
     "output_type": "stream",
     "text": [
      "                                       clean_abstract    clean_concepts\n",
      "0   at institute reference material measurement di...              [40]\n",
      "2   short document aim provide summary main issue ...      [24, 44, 52]\n",
      "3   briefing note intended provide european parlia...  [44, 52, 36, 10]\n",
      "5   united nation millennium declaration endorsed ...              [24]\n",
      "6   equal access economic resource matter ensuring...      [60, 44, 28]\n",
      "7   an independent expert panel referred panel app...      [24, 36, 28]\n",
      "8   main objective annual country report character...      [24, 56, 28]\n",
      "9   second edition european vacancy recruitment re...      [24, 10, 66]\n",
      "10  in process water temperature far saturation te...              [28]\n",
      "11  study provides overview extent scope form eu t...          [52, 36]\n"
     ]
    }
   ],
   "source": [
    "data_df = pd.read_pickle(\"data_df.pkl\")\n",
    "print(data_df[['clean_abstract', 'clean_concepts']][:10])"
   ]
  },
  {
   "cell_type": "code",
   "execution_count": 137,
   "metadata": {},
   "outputs": [
    {
     "data": {
      "image/png": "[encoded data removed]",
      "text/plain": [
       "<matplotlib.figure.Figure at 0x1a301cd908>"
      ]
     },
     "metadata": {},
     "output_type": "display_data"
    }
   ],
   "source": [
    "# Let's look at the character length for the rows in the training data and record these\n",
    "data_df['char_length'] = data_df['clean_abstract'].apply(lambda x: len(str(x)))\n",
    "\n",
    "plt.figure()\n",
    "plt.hist(data_df['char_length'])\n",
    "plt.title(\"Number of words per abstract\")\n",
    "plt.ylabel(\"Count\")\n",
    "plt.xlabel(\"# Words\")\n",
    "plt.show()"
   ]
  },
  {
   "cell_type": "code",
   "execution_count": 53,
   "metadata": {},
   "outputs": [
    {
     "name": "stdout",
     "output_type": "stream",
     "text": [
      "   index  count\n",
      "0     10   4161\n",
      "1     12   1784\n",
      "2     16   1499\n",
      "3     20   1643\n",
      "4     24   9710\n",
      "5     28  13842\n",
      "6     32   2018\n",
      "7     36   4594\n",
      "8     40   5617\n",
      "9     44   5840\n",
      "10    48   2632\n",
      "11    52   7127\n",
      "12    56   3995\n",
      "13    60   3883\n",
      "14    64   1218\n",
      "15    66    933\n",
      "16    68   1375\n",
      "17    72    979\n",
      "18    76    185\n",
      "19     8      1\n"
     ]
    },
    {
     "data": {
      "image/png": "[encoded data removed]",
      "text/plain": [
       "<matplotlib.figure.Figure at 0x1a313d30b8>"
      ]
     },
     "metadata": {},
     "output_type": "display_data"
    }
   ],
   "source": [
    "tmp = []\n",
    "data_df[\"clean_concepts\"].apply(lambda x: tmp.extend(x))\n",
    "s = pd.Series(data=tmp)\n",
    "grouped_labels = s.groupby(s).size().reset_index(name='count')\n",
    "print(grouped_labels)\n",
    "x_pos = [i for i, _ in enumerate(grouped_labels[\"count\"])]\n",
    "plt.bar(x_pos, grouped_labels[\"count\"])\n",
    "plt.xticks(x_pos, [str(i) for i in grouped_labels[\"index\"] ])\n",
    "plt.xlabel(\"Field code\")\n",
    "plt.ylabel(\"Count\")\n",
    "plt.show()"
   ]
  },
  {
   "cell_type": "markdown",
   "metadata": {},
   "source": [
    "We must convert the data set labels to numbers so that they can be processed by Keras. The approach is described in https://www.pyimagesearch.com/2018/05/07/multi-label-classification-with-keras/."
   ]
  },
  {
   "cell_type": "code",
   "execution_count": 54,
   "metadata": {},
   "outputs": [
    {
     "name": "stdout",
     "output_type": "stream",
     "text": [
      "1. 10\n",
      "2. 12\n",
      "3. 16\n",
      "4. 20\n",
      "5. 24\n",
      "6. 28\n",
      "7. 32\n",
      "8. 36\n",
      "9. 40\n",
      "10. 44\n",
      "11. 48\n",
      "12. 52\n",
      "13. 56\n",
      "14. 60\n",
      "15. 64\n",
      "16. 66\n",
      "17. 68\n",
      "18. 72\n",
      "19. 76\n",
      "20. 8\n",
      "[[0 0 0 ... 0 0 0]\n",
      " [0 0 0 ... 0 0 0]\n",
      " [1 0 0 ... 0 0 0]\n",
      " ...\n",
      " [0 0 0 ... 0 0 0]\n",
      " [0 0 0 ... 0 0 0]\n",
      " [0 0 0 ... 0 0 0]]\n",
      "['10' '12' '16' '20' '24' '28' '32' '36' '40' '44' '48' '52' '56' '60'\n",
      " '64' '66' '68' '72' '76' '8']\n"
     ]
    }
   ],
   "source": [
    "#labels = data_df[\"clean_concepts\"].tolist()\n",
    "#mlb = MultiLabelBinarizer()\n",
    "#labels = mlb.fit_transform(labels)\n",
    "# loop over each of the possible class labels and show them\n",
    "#for (i, label) in enumerate(mlb.classes_):\n",
    "#\tprint(\"{}. {}\".format(i + 1, label))\n",
    "\n",
    "multilabel_binarizer = MultiLabelBinarizer()\n",
    "labels = multilabel_binarizer.fit_transform(data_df[\"clean_concepts\"])\n",
    "tmp_labels = multilabel_binarizer.classes_\n",
    "\n",
    "for (i, label) in enumerate(multilabel_binarizer.classes_):\n",
    "\tprint(\"{}. {}\".format(i + 1, label))\n",
    "\n",
    "print(labels)\n",
    "print(tmp_labels)"
   ]
  },
  {
   "cell_type": "raw",
   "metadata": {},
   "source": [
    "most_common_tags['class_weight'] = len(df_tags) / most_common_tags['count']\n",
    "class_weight = {}\n",
    "for index, label in enumerate(labels):\n",
    "    class_weight[index] = most_common_tags[most_common_tags['Tag'] == label]['class_weight'].values[0]\n",
    "    \n",
    "most_common_tags.head()"
   ]
  },
  {
   "cell_type": "code",
   "execution_count": 55,
   "metadata": {},
   "outputs": [
    {
     "name": "stdout",
     "output_type": "stream",
     "text": [
      "  index  count  class_weight\n",
      "0    10   4161      0.000240\n",
      "1    12   1784      0.000561\n",
      "2    16   1499      0.000667\n",
      "3    20   1643      0.000609\n",
      "4    24   9710      0.000103\n",
      "{0: 0.0002403268445085316, 1: 0.0005605381165919282, 2: 0.00066711140760507, 3: 0.0006086427267194157, 4: 0.00010298661174047374, 5: 7.224389539083947e-05, 6: 0.0004955401387512388, 7: 0.00021767522855898998, 8: 0.00017803097739006588, 9: 0.00017123287671232877, 10: 0.00037993920972644377, 11: 0.00014031149151115475, 12: 0.00025031289111389235, 13: 0.0002575328354365182, 14: 0.0008210180623973727, 15: 0.0010718113612004287, 16: 0.0007272727272727272, 17: 0.0010214504596527069, 18: 0.005405405405405406, 19: 1.0}\n"
     ]
    }
   ],
   "source": [
    "grouped_labels['class_weight'] = len(grouped_labels) / grouped_labels['count']\n",
    "grouped_labels['class_weight'] = 1 / grouped_labels['count']\n",
    "print(grouped_labels.head())\n",
    "class_weight = {}\n",
    "for index, label in enumerate(tmp_labels):\n",
    "    class_weight[index] = grouped_labels[grouped_labels['index'] == label]['class_weight'].values[0]    \n",
    "print(class_weight)"
   ]
  },
  {
   "cell_type": "markdown",
   "metadata": {},
   "source": [
    "A small test to make sure that MultiLabelBinarizer is really generating multi-label vectors and not just one-hot vectors."
   ]
  },
  {
   "cell_type": "code",
   "execution_count": 56,
   "metadata": {},
   "outputs": [
    {
     "name": "stdout",
     "output_type": "stream",
     "text": [
      "Labels of the 2nd training example: [('24', '44', '52')]\n"
     ]
    }
   ],
   "source": [
    "print(\"Labels of the 2nd training example: \" + str(multilabel_binarizer.inverse_transform(np.array([labels[1]]))))"
   ]
  },
  {
   "cell_type": "markdown",
   "metadata": {},
   "source": [
    "Next we need to tranform the input examples into an array of numbers:"
   ]
  },
  {
   "cell_type": "code",
   "execution_count": 57,
   "metadata": {},
   "outputs": [
    {
     "name": "stderr",
     "output_type": "stream",
     "text": [
      "/Users/sebastianthelen/anaconda3/lib/python3.6/site-packages/keras/preprocessing/text.py:172: UserWarning: The `nb_words` argument in `Tokenizer` has been renamed `num_words`.\n",
      "  warnings.warn('The `nb_words` argument in `Tokenizer` '\n"
     ]
    },
    {
     "name": "stdout",
     "output_type": "stream",
     "text": [
      "Found 21792 unique tokens.\n",
      "Shape of data tensor: (31589, 1000)\n",
      "Shape of label tensor: (31589, 20)\n"
     ]
    }
   ],
   "source": [
    "data = data_df[\"clean_abstract\"].tolist()\n",
    "tokenizer = Tokenizer(nb_words=MAX_NUM_WORDS)\n",
    "tokenizer.fit_on_texts(data)\n",
    "sequences = tokenizer.texts_to_sequences(data)\n",
    "word_index = tokenizer.word_index\n",
    "print('Found %s unique tokens.' % len(word_index))\n",
    "data = pad_sequences(sequences, maxlen=MAX_SEQUENCE_LENGTH)\n",
    "print('Shape of data tensor:', data.shape)\n",
    "print('Shape of label tensor:', labels.shape)"
   ]
  },
  {
   "cell_type": "markdown",
   "metadata": {},
   "source": [
    "Split data into training data and test data."
   ]
  },
  {
   "cell_type": "code",
   "execution_count": 58,
   "metadata": {},
   "outputs": [
    {
     "name": "stdout",
     "output_type": "stream",
     "text": [
      "3158\n",
      "train_data.shape (28431, 1000)\n",
      "train_labels.shape (28431, 20)\n",
      "cross_data.shape (3158, 1000)\n",
      "cross_labels.shape (3158, 20)\n"
     ]
    }
   ],
   "source": [
    "# split the data into a training set and a cross validation set\n",
    "indices = np.arange(data.shape[0])\n",
    "np.random.shuffle(indices)\n",
    "data = data[indices]\n",
    "labels = labels[indices]\n",
    "num_validation_samples = int(CROSS_VALIDATION_SPLIT * data.shape[0])\n",
    "print(num_validation_samples)\n",
    "train_data = data[:-num_validation_samples]\n",
    "train_labels = labels[:-num_validation_samples]\n",
    "cross_data = data[-num_validation_samples:]\n",
    "cross_labels = labels[-num_validation_samples:]\n",
    "\n",
    "print(\"train_data.shape\", train_data.shape)\n",
    "print(\"train_labels.shape\", train_labels.shape)\n",
    "print(\"cross_data.shape\", cross_data.shape)\n",
    "print(\"cross_labels.shape\", cross_labels.shape)"
   ]
  },
  {
   "cell_type": "markdown",
   "metadata": {},
   "source": [
    "Load the pre-computed GloVe word embeddings from file and create an embeddings_index:"
   ]
  },
  {
   "cell_type": "code",
   "execution_count": 64,
   "metadata": {},
   "outputs": [
    {
     "name": "stdout",
     "output_type": "stream",
     "text": [
      "Found 400000 word vectors.\n"
     ]
    }
   ],
   "source": [
    "embeddings_index = {}\n",
    "with open(os.path.join('glove.6B', 'glove.6B.100d.txt'), 'r', encoding='utf-8') as f:\n",
    "    for line in f:\n",
    "        values = line.split()\n",
    "        word = values[0]\n",
    "        coefs = np.asarray(values[1:], dtype='float32')\n",
    "        embeddings_index[word] = coefs\n",
    "\n",
    "print('Found %s word vectors.' % len(embeddings_index))"
   ]
  },
  {
   "cell_type": "markdown",
   "metadata": {},
   "source": [
    "Use word_index and embedding_index to compute the embedding_matrix. embedding_matrix is  a matrix storing the embedded_vector for each word in the data set. "
   ]
  },
  {
   "cell_type": "code",
   "execution_count": 65,
   "metadata": {},
   "outputs": [],
   "source": [
    "num_words = min(MAX_NUM_WORDS, len(word_index) + 1)\n",
    "embedding_matrix = np.zeros((num_words, EMBEDDING_DIM))\n",
    "for word, i in word_index.items():\n",
    "    if i >= MAX_NUM_WORDS:\n",
    "        continue\n",
    "    embedding_vector = embeddings_index.get(word)\n",
    "    if embedding_vector is not None:\n",
    "        # words not found in embedding index will be all-zeros.\n",
    "        embedding_matrix[i] = embedding_vector"
   ]
  },
  {
   "cell_type": "markdown",
   "metadata": {},
   "source": [
    "Build an Keras embedding_layer. Note that trainable=false, i.e., weights are not getting updated. "
   ]
  },
  {
   "cell_type": "code",
   "execution_count": 66,
   "metadata": {},
   "outputs": [],
   "source": [
    "embedding_layer = Embedding(num_words,\n",
    "                            EMBEDDING_DIM,\n",
    "                            embeddings_initializer=Constant(embedding_matrix),\n",
    "                            input_length=MAX_SEQUENCE_LENGTH,\n",
    "                            trainable=False)"
   ]
  },
  {
   "cell_type": "code",
   "execution_count": 67,
   "metadata": {},
   "outputs": [],
   "source": [
    "from keras import backend as K\n",
    "\n",
    "def f1(y_true, y_pred):\n",
    "    def recall(y_true, y_pred):\n",
    "        \"\"\"Recall metric.\n",
    "\n",
    "        Only computes a batch-wise average of recall.\n",
    "\n",
    "        Computes the recall, a metric for multi-label classification of\n",
    "        how many relevant items are selected.\n",
    "        \"\"\"\n",
    "        true_positives = K.sum(K.round(K.clip(y_true * y_pred, 0, 1)))\n",
    "        possible_positives = K.sum(K.round(K.clip(y_true, 0, 1)))\n",
    "        recall = true_positives / (possible_positives + K.epsilon())\n",
    "        return recall\n",
    "\n",
    "    def precision(y_true, y_pred):\n",
    "        \"\"\"Precision metric.\n",
    "\n",
    "        Only computes a batch-wise average of precision.\n",
    "\n",
    "        Computes the precision, a metric for multi-label classification of\n",
    "        how many selected items are relevant.\n",
    "        \"\"\"\n",
    "        true_positives = K.sum(K.round(K.clip(y_true * y_pred, 0, 1)))\n",
    "        predicted_positives = K.sum(K.round(K.clip(y_pred, 0, 1)))\n",
    "        precision = true_positives / (predicted_positives + K.epsilon())\n",
    "        return precision\n",
    "    precision = precision(y_true, y_pred)\n",
    "    recall = recall(y_true, y_pred)\n",
    "    return 2*((precision*recall)/(precision+recall+K.epsilon()))"
   ]
  },
  {
   "cell_type": "code",
   "execution_count": 196,
   "metadata": {},
   "outputs": [
    {
     "name": "stdout",
     "output_type": "stream",
     "text": [
      "0.87625\n",
      "0.87625\n"
     ]
    }
   ],
   "source": [
    "from keras import backend as K\n",
    "import numpy as np\n",
    "def hamming_discrete(y_true, y_pred):\n",
    "            denominator = K.sum(K.ones(shape=K.shape(K.flatten(y_true))))\n",
    "            nominator = K.sum((y_true * (1-K.round(K.clip(y_pred, 0, 1))) + (1-y_true) * K.round(K.clip(y_pred, 0, 1))))\n",
    "            return (nominator / denominator)\n",
    "\n",
    "def hamming_smooth(y_true, y_pred):\n",
    "            denominator = K.sum(K.ones(shape=K.shape(K.flatten(y_true))))\n",
    "            nominator = K.sum((y_true * (1-K.clip(y_pred, 0, 1)) + (1-y_true) * K.clip(y_pred, 0, 1)))\n",
    "            return (nominator / denominator)\n",
    "a = K.variable(value=np.array([[.99, 0, 0, 0], [0, 0, 0, 0]]), dtype='float32')\n",
    "b = K.variable(value=np.array([[1, 1, 1, 1], [1, 1, 1, 1]]), dtype='float32')\n",
    "print(K.get_value(hamming_discrete(a, b))) \n",
    "print(K.get_value(hamming_smooth(a, b))) "
   ]
  },
  {
   "cell_type": "markdown",
   "metadata": {},
   "source": [
    "Let's define the 1D convolutional model."
   ]
  },
  {
   "cell_type": "code",
   "execution_count": 191,
   "metadata": {},
   "outputs": [],
   "source": [
    "VALIDATION_SPLIT = 0.2 # ration for split of training data and test data\n",
    "NUM_EPOCHS = 50 # number of epochs the network is trained\n",
    "DROPOUT = 0.25\n",
    "REGULARIZATION = 4.0\n",
    "BATCH_SIZE = 256\n",
    "LR = 0.005\n",
    "\n",
    "sequence_input = Input(shape=(MAX_SEQUENCE_LENGTH,), dtype='int32')\n",
    "embedded_sequences = embedding_layer(sequence_input)\n",
    "x = Conv1D(128, 5, activation='relu', kernel_regularizer=regularizers.l2(REGULARIZATION))(embedded_sequences)\n",
    "x = MaxPooling1D(5)(x)\n",
    "x = Conv1D(128, 5, activation='relu', kernel_regularizer=regularizers.l2(REGULARIZATION))(x)\n",
    "x = MaxPooling1D(5)(x)\n",
    "x = Conv1D(128, 5, activation='relu', kernel_regularizer=regularizers.l2(REGULARIZATION))(x)\n",
    "x = MaxPooling1D(35)(x)  # global max pooling\n",
    "x = Flatten()(x)\n",
    "x = Dropout(DROPOUT)(x)\n",
    "x = Dense(128, activation='relu',kernel_regularizer=regularizers.l2(REGULARIZATION))(x)\n",
    "x = Dropout(DROPOUT)(x)\n",
    "preds = Dense(labels.shape[1], activation='sigmoid', kernel_regularizer=regularizers.l2(REGULARIZATION))(x)\n",
    "\n",
    "adam = keras.optimizers.Adam(lr=LR, beta_1=0.9, beta_2=0.999, epsilon=None, decay=0.0, amsgrad=False)\n",
    "\n",
    "model = Model(sequence_input, preds)\n",
    "model.compile(loss='binary_crossentropy',\n",
    "              optimizer=adam,\n",
    "              metrics=[hamming_smooth, hamming_discrete])     "
   ]
  },
  {
   "cell_type": "code",
   "execution_count": 192,
   "metadata": {},
   "outputs": [
    {
     "name": "stdout",
     "output_type": "stream",
     "text": [
      "Train on 80 samples, validate on 20 samples\n",
      "Epoch 1/10\n",
      "80/80 [==============================] - 2s 27ms/step - loss: 2653.7366 - hamming_smooth: 0.5403 - hamming_discrete: 0.6475 - val_loss: 2560.5776 - val_hamming_smooth: 0.5390 - val_hamming_discrete: 0.6625\n",
      "Epoch 2/10\n",
      "80/80 [==============================] - 1s 10ms/step - loss: 2560.5776 - hamming_smooth: 0.5392 - hamming_discrete: 0.6444 - val_loss: 2469.9189 - val_hamming_smooth: 0.5359 - val_hamming_discrete: 0.6600\n",
      "Epoch 3/10\n",
      "80/80 [==============================] - 1s 10ms/step - loss: 2469.9189 - hamming_smooth: 0.5385 - hamming_discrete: 0.6388 - val_loss: 2381.7708 - val_hamming_smooth: 0.5328 - val_hamming_discrete: 0.6575\n",
      "Epoch 4/10\n",
      "80/80 [==============================] - 1s 10ms/step - loss: 2381.7710 - hamming_smooth: 0.5349 - hamming_discrete: 0.6513 - val_loss: 2296.1243 - val_hamming_smooth: 0.5298 - val_hamming_discrete: 0.6525\n",
      "Epoch 5/10\n",
      "80/80 [==============================] - 1s 13ms/step - loss: 2296.1243 - hamming_smooth: 0.5281 - hamming_discrete: 0.6281 - val_loss: 2212.9644 - val_hamming_smooth: 0.5269 - val_hamming_discrete: 0.6550\n",
      "Epoch 6/10\n",
      "80/80 [==============================] - 1s 12ms/step - loss: 2212.9644 - hamming_smooth: 0.5281 - hamming_discrete: 0.6431 - val_loss: 2132.2769 - val_hamming_smooth: 0.5242 - val_hamming_discrete: 0.6475\n",
      "Epoch 7/10\n",
      "80/80 [==============================] - 1s 14ms/step - loss: 2132.2769 - hamming_smooth: 0.5272 - hamming_discrete: 0.6469 - val_loss: 2054.0388 - val_hamming_smooth: 0.5216 - val_hamming_discrete: 0.6475\n",
      "Epoch 8/10\n",
      "80/80 [==============================] - 1s 12ms/step - loss: 2054.0388 - hamming_smooth: 0.5226 - hamming_discrete: 0.6219 - val_loss: 1978.2266 - val_hamming_smooth: 0.5191 - val_hamming_discrete: 0.6400\n",
      "Epoch 9/10\n",
      "80/80 [==============================] - 1s 11ms/step - loss: 1978.2266 - hamming_smooth: 0.5220 - hamming_discrete: 0.6081 - val_loss: 1904.8091 - val_hamming_smooth: 0.5168 - val_hamming_discrete: 0.6375\n",
      "Epoch 10/10\n",
      "80/80 [==============================] - 1s 14ms/step - loss: 1904.8091 - hamming_smooth: 0.5173 - hamming_discrete: 0.6212 - val_loss: 1833.7500 - val_hamming_smooth: 0.5145 - val_hamming_discrete: 0.6325\n"
     ]
    }
   ],
   "source": [
    "history = model.fit(train_data, train_labels, class_weight=class_weight, validation_split=0.2,\n",
    "          epochs=NUM_EPOCHS, batch_size=BATCH_SIZE)     "
   ]
  },
  {
   "cell_type": "code",
   "execution_count": 180,
   "metadata": {},
   "outputs": [],
   "source": [
    "model.save(\"model_EP_%s_DO_%s_REG_%s_BAT_%s_LR_%s.h5\" % (str(NUM_EPOCHS), \n",
    "                                                        str(DROPOUT), \n",
    "                                                        str(REGULARIZATION), \n",
    "                                                        str(BATCH_SIZE), \n",
    "                                                        str(LR)))"
   ]
  },
  {
   "cell_type": "code",
   "execution_count": 193,
   "metadata": {},
   "outputs": [
    {
     "name": "stdout",
     "output_type": "stream",
     "text": [
      "10\n"
     ]
    }
   ],
   "source": [
    "loss = history.history['loss']\n",
    "val_loss = history.history['val_loss']\n",
    "hams = history.history['hamming_smooth']\n",
    "val_hams = history.history['val_hamming_smooth']\n",
    "hamd = history.history['hamming_discrete']\n",
    "val_hamd = history.history['val_hamming_discrete']\n",
    "\n",
    "print(len(hams))"
   ]
  },
  {
   "cell_type": "code",
   "execution_count": 195,
   "metadata": {},
   "outputs": [
    {
     "data": {
      "image/png": "[encoded data removed]",
      "text/plain": [
       "<matplotlib.figure.Figure at 0x1a4b04d668>"
      ]
     },
     "metadata": {},
     "output_type": "display_data"
    }
   ],
   "source": [
    "epochs = range(len(hams))                \n",
    "fig, (ax1, ax2, ax3) = plt.subplots(nrows=1, ncols=3, figsize=(18, 6))\n",
    "ax1.plot(epochs, hams, label='Training hams')\n",
    "ax1.plot(epochs, val_hams, label='Validation hams')\n",
    "ax1.set_ylabel('hams')\n",
    "ax1.set_xlabel('epoch')\n",
    "ax1.set_title('Hamming Smooth')\n",
    "ax1.legend()\n",
    "ax2.plot(epochs, loss, label='Training loss')\n",
    "ax2.plot(epochs, val_loss, label='Validation loss')\n",
    "ax2.set_ylabel('loss')\n",
    "ax2.set_xlabel('epoch')\n",
    "ax2.set_title('Loss')\n",
    "ax2.legend()\n",
    "ax3.plot(epochs, hamd, label='Training hamd')\n",
    "ax3.plot(epochs, val_hamd, label='Validation hamd')\n",
    "ax3.set_ylabel('hamd')\n",
    "ax3.set_xlabel('epoch')\n",
    "ax3.set_title('Hamming Discrete')\n",
    "ax3.legend()\n",
    "fig.savefig(\"figures/model_EP_%s_DO_%s_REG_%s_BAT_%s_LR_%s.png\" % (str(NUM_EPOCHS), \n",
    "                                                        str(DROPOUT), \n",
    "                                                        str(REGULARIZATION), \n",
    "                                                        str(BATCH_SIZE), \n",
    "                                                        str(LR)))\n",
    "plt.show()"
   ]
  },
  {
   "cell_type": "markdown",
   "metadata": {},
   "source": [
    "Now the model needs to be trained."
   ]
  },
  {
   "cell_type": "markdown",
   "metadata": {},
   "source": [
    "Save the model to disc!"
   ]
  },
  {
   "cell_type": "markdown",
   "metadata": {},
   "source": [
    "Predict using an example from the training set. Later we should also create a dev set for prediction."
   ]
  },
  {
   "cell_type": "code",
   "execution_count": 162,
   "metadata": {},
   "outputs": [],
   "source": [
    "pred_labels = model.predict(cross_data) "
   ]
  },
  {
   "cell_type": "code",
   "execution_count": 163,
   "metadata": {},
   "outputs": [
    {
     "name": "stdout",
     "output_type": "stream",
     "text": [
      "[[0.15248798 0.1467915  0.1432294  0.14826094 0.23777692 0.30878744\n",
      "  0.11797024 0.13894676 0.18355341 0.17016691 0.11230595 0.20710665\n",
      "  0.1465194  0.13541311 0.09643088 0.09610522 0.1016616  0.09479623\n",
      "  0.09034812 0.08241165]\n",
      " [0.15248798 0.1467915  0.1432294  0.14826094 0.23777692 0.30878744\n",
      "  0.11797024 0.13894676 0.18355341 0.17016691 0.11230595 0.20710665\n",
      "  0.1465194  0.13541311 0.09643088 0.09610522 0.1016616  0.09479623\n",
      "  0.09034812 0.08241165]\n",
      " [0.15248798 0.1467915  0.1432294  0.14826094 0.23777692 0.30878744\n",
      "  0.11797024 0.13894676 0.18355341 0.17016691 0.11230595 0.20710665\n",
      "  0.1465194  0.13541311 0.09643088 0.09610522 0.1016616  0.09479623\n",
      "  0.09034812 0.08241165]\n",
      " [0.15248798 0.1467915  0.1432294  0.14826094 0.23777692 0.30878744\n",
      "  0.11797024 0.13894676 0.18355341 0.17016691 0.11230595 0.20710665\n",
      "  0.1465194  0.13541311 0.09643088 0.09610522 0.1016616  0.09479623\n",
      "  0.09034812 0.08241165]\n",
      " [0.15248798 0.1467915  0.1432294  0.14826094 0.23777692 0.30878744\n",
      "  0.11797024 0.13894676 0.18355341 0.17016691 0.11230595 0.20710665\n",
      "  0.1465194  0.13541311 0.09643088 0.09610522 0.1016616  0.09479623\n",
      "  0.09034812 0.08241165]\n",
      " [0.15248798 0.1467915  0.1432294  0.14826094 0.23777692 0.30878744\n",
      "  0.11797024 0.13894676 0.18355341 0.17016691 0.11230595 0.20710665\n",
      "  0.1465194  0.13541311 0.09643088 0.09610522 0.1016616  0.09479623\n",
      "  0.09034812 0.08241165]\n",
      " [0.15248798 0.1467915  0.1432294  0.14826094 0.23777692 0.30878744\n",
      "  0.11797024 0.13894676 0.18355341 0.17016691 0.11230595 0.20710665\n",
      "  0.1465194  0.13541311 0.09643088 0.09610522 0.1016616  0.09479623\n",
      "  0.09034812 0.08241165]\n",
      " [0.15248798 0.1467915  0.1432294  0.14826094 0.23777692 0.30878744\n",
      "  0.11797024 0.13894676 0.18355341 0.17016691 0.11230595 0.20710665\n",
      "  0.1465194  0.13541311 0.09643088 0.09610522 0.1016616  0.09479623\n",
      "  0.09034812 0.08241165]\n",
      " [0.15248798 0.1467915  0.1432294  0.14826094 0.23777692 0.30878744\n",
      "  0.11797024 0.13894676 0.18355341 0.17016691 0.11230595 0.20710665\n",
      "  0.1465194  0.13541311 0.09643088 0.09610522 0.1016616  0.09479623\n",
      "  0.09034812 0.08241165]\n",
      " [0.15248798 0.1467915  0.1432294  0.14826094 0.23777692 0.30878744\n",
      "  0.11797024 0.13894676 0.18355341 0.17016691 0.11230595 0.20710665\n",
      "  0.1465194  0.13541311 0.09643088 0.09610522 0.1016616  0.09479623\n",
      "  0.09034812 0.08241165]\n",
      " [0.15248798 0.1467915  0.1432294  0.14826094 0.23777692 0.30878744\n",
      "  0.11797024 0.13894676 0.18355341 0.17016691 0.11230595 0.20710665\n",
      "  0.1465194  0.13541311 0.09643088 0.09610522 0.1016616  0.09479623\n",
      "  0.09034812 0.08241165]\n",
      " [0.15248798 0.1467915  0.1432294  0.14826094 0.23777692 0.30878744\n",
      "  0.11797024 0.13894676 0.18355341 0.17016691 0.11230595 0.20710665\n",
      "  0.1465194  0.13541311 0.09643088 0.09610522 0.1016616  0.09479623\n",
      "  0.09034812 0.08241165]\n",
      " [0.15248798 0.1467915  0.1432294  0.14826094 0.23777692 0.30878744\n",
      "  0.11797024 0.13894676 0.18355341 0.17016691 0.11230595 0.20710665\n",
      "  0.1465194  0.13541311 0.09643088 0.09610522 0.1016616  0.09479623\n",
      "  0.09034812 0.08241165]\n",
      " [0.15248798 0.1467915  0.1432294  0.14826094 0.23777692 0.30878744\n",
      "  0.11797024 0.13894676 0.18355341 0.17016691 0.11230595 0.20710665\n",
      "  0.1465194  0.13541311 0.09643088 0.09610522 0.1016616  0.09479623\n",
      "  0.09034812 0.08241165]\n",
      " [0.15248798 0.1467915  0.1432294  0.14826094 0.23777692 0.30878744\n",
      "  0.11797024 0.13894676 0.18355341 0.17016691 0.11230595 0.20710665\n",
      "  0.1465194  0.13541311 0.09643088 0.09610522 0.1016616  0.09479623\n",
      "  0.09034812 0.08241165]\n",
      " [0.15248798 0.1467915  0.1432294  0.14826094 0.23777692 0.30878744\n",
      "  0.11797024 0.13894676 0.18355341 0.17016691 0.11230595 0.20710665\n",
      "  0.1465194  0.13541311 0.09643088 0.09610522 0.1016616  0.09479623\n",
      "  0.09034812 0.08241165]\n",
      " [0.15248798 0.1467915  0.1432294  0.14826094 0.23777692 0.30878744\n",
      "  0.11797024 0.13894676 0.18355341 0.17016691 0.11230595 0.20710665\n",
      "  0.1465194  0.13541311 0.09643088 0.09610522 0.1016616  0.09479623\n",
      "  0.09034812 0.08241165]\n",
      " [0.15248798 0.1467915  0.1432294  0.14826094 0.23777692 0.30878744\n",
      "  0.11797024 0.13894676 0.18355341 0.17016691 0.11230595 0.20710665\n",
      "  0.1465194  0.13541311 0.09643088 0.09610522 0.1016616  0.09479623\n",
      "  0.09034812 0.08241165]\n",
      " [0.15248798 0.1467915  0.1432294  0.14826094 0.23777692 0.30878744\n",
      "  0.11797024 0.13894676 0.18355341 0.17016691 0.11230595 0.20710665\n",
      "  0.1465194  0.13541311 0.09643088 0.09610522 0.1016616  0.09479623\n",
      "  0.09034812 0.08241165]\n",
      " [0.15248798 0.1467915  0.1432294  0.14826094 0.23777692 0.30878744\n",
      "  0.11797024 0.13894676 0.18355341 0.17016691 0.11230595 0.20710665\n",
      "  0.1465194  0.13541311 0.09643088 0.09610522 0.1016616  0.09479623\n",
      "  0.09034812 0.08241165]\n",
      " [0.15248798 0.1467915  0.1432294  0.14826094 0.23777692 0.30878744\n",
      "  0.11797024 0.13894676 0.18355341 0.17016691 0.11230595 0.20710665\n",
      "  0.1465194  0.13541311 0.09643088 0.09610522 0.1016616  0.09479623\n",
      "  0.09034812 0.08241165]\n",
      " [0.15248798 0.1467915  0.1432294  0.14826094 0.23777692 0.30878744\n",
      "  0.11797024 0.13894676 0.18355341 0.17016691 0.11230595 0.20710665\n",
      "  0.1465194  0.13541311 0.09643088 0.09610522 0.1016616  0.09479623\n",
      "  0.09034812 0.08241165]\n",
      " [0.15248798 0.1467915  0.1432294  0.14826094 0.23777692 0.30878744\n",
      "  0.11797024 0.13894676 0.18355341 0.17016691 0.11230595 0.20710665\n",
      "  0.1465194  0.13541311 0.09643088 0.09610522 0.1016616  0.09479623\n",
      "  0.09034812 0.08241165]\n",
      " [0.15248798 0.1467915  0.1432294  0.14826094 0.23777692 0.30878744\n",
      "  0.11797024 0.13894676 0.18355341 0.17016691 0.11230595 0.20710665\n",
      "  0.1465194  0.13541311 0.09643088 0.09610522 0.1016616  0.09479623\n",
      "  0.09034812 0.08241165]\n",
      " [0.15248798 0.1467915  0.1432294  0.14826094 0.23777692 0.30878744\n",
      "  0.11797024 0.13894676 0.18355341 0.17016691 0.11230595 0.20710665\n",
      "  0.1465194  0.13541311 0.09643088 0.09610522 0.1016616  0.09479623\n",
      "  0.09034812 0.08241165]\n",
      " [0.15248798 0.1467915  0.1432294  0.14826094 0.23777692 0.30878744\n",
      "  0.11797024 0.13894676 0.18355341 0.17016691 0.11230595 0.20710665\n",
      "  0.1465194  0.13541311 0.09643088 0.09610522 0.1016616  0.09479623\n",
      "  0.09034812 0.08241165]\n",
      " [0.15248798 0.1467915  0.1432294  0.14826094 0.23777692 0.30878744\n",
      "  0.11797024 0.13894676 0.18355341 0.17016691 0.11230595 0.20710665\n",
      "  0.1465194  0.13541311 0.09643088 0.09610522 0.1016616  0.09479623\n",
      "  0.09034812 0.08241165]\n",
      " [0.15248798 0.1467915  0.1432294  0.14826094 0.23777692 0.30878744\n",
      "  0.11797024 0.13894676 0.18355341 0.17016691 0.11230595 0.20710665\n",
      "  0.1465194  0.13541311 0.09643088 0.09610522 0.1016616  0.09479623\n",
      "  0.09034812 0.08241165]\n",
      " [0.15248798 0.1467915  0.1432294  0.14826094 0.23777692 0.30878744\n",
      "  0.11797024 0.13894676 0.18355341 0.17016691 0.11230595 0.20710665\n",
      "  0.1465194  0.13541311 0.09643088 0.09610522 0.1016616  0.09479623\n",
      "  0.09034812 0.08241165]\n",
      " [0.15248798 0.1467915  0.1432294  0.14826094 0.23777692 0.30878744\n",
      "  0.11797024 0.13894676 0.18355341 0.17016691 0.11230595 0.20710665\n",
      "  0.1465194  0.13541311 0.09643088 0.09610522 0.1016616  0.09479623\n",
      "  0.09034812 0.08241165]\n",
      " [0.15248798 0.1467915  0.1432294  0.14826094 0.23777692 0.30878744\n",
      "  0.11797024 0.13894676 0.18355341 0.17016691 0.11230595 0.20710665\n",
      "  0.1465194  0.13541311 0.09643088 0.09610522 0.1016616  0.09479623\n",
      "  0.09034812 0.08241165]\n",
      " [0.15248798 0.1467915  0.1432294  0.14826094 0.23777692 0.30878744\n",
      "  0.11797024 0.13894676 0.18355341 0.17016691 0.11230595 0.20710665\n",
      "  0.1465194  0.13541311 0.09643088 0.09610522 0.1016616  0.09479623\n",
      "  0.09034812 0.08241165]\n",
      " [0.15248798 0.1467915  0.1432294  0.14826094 0.23777692 0.30878744\n",
      "  0.11797024 0.13894676 0.18355341 0.17016691 0.11230595 0.20710665\n",
      "  0.1465194  0.13541311 0.09643088 0.09610522 0.1016616  0.09479623\n",
      "  0.09034812 0.08241165]\n",
      " [0.15248798 0.1467915  0.1432294  0.14826094 0.23777692 0.30878744\n",
      "  0.11797024 0.13894676 0.18355341 0.17016691 0.11230595 0.20710665\n",
      "  0.1465194  0.13541311 0.09643088 0.09610522 0.1016616  0.09479623\n",
      "  0.09034812 0.08241165]\n",
      " [0.15248798 0.1467915  0.1432294  0.14826094 0.23777692 0.30878744\n",
      "  0.11797024 0.13894676 0.18355341 0.17016691 0.11230595 0.20710665\n",
      "  0.1465194  0.13541311 0.09643088 0.09610522 0.1016616  0.09479623\n",
      "  0.09034812 0.08241165]\n",
      " [0.15248798 0.1467915  0.1432294  0.14826094 0.23777692 0.30878744\n",
      "  0.11797024 0.13894676 0.18355341 0.17016691 0.11230595 0.20710665\n",
      "  0.1465194  0.13541311 0.09643088 0.09610522 0.1016616  0.09479623\n",
      "  0.09034812 0.08241165]\n",
      " [0.15248798 0.1467915  0.1432294  0.14826094 0.23777692 0.30878744\n",
      "  0.11797024 0.13894676 0.18355341 0.17016691 0.11230595 0.20710665\n",
      "  0.1465194  0.13541311 0.09643088 0.09610522 0.1016616  0.09479623\n",
      "  0.09034812 0.08241165]\n",
      " [0.15248798 0.1467915  0.1432294  0.14826094 0.23777692 0.30878744\n",
      "  0.11797024 0.13894676 0.18355341 0.17016691 0.11230595 0.20710665\n",
      "  0.1465194  0.13541311 0.09643088 0.09610522 0.1016616  0.09479623\n",
      "  0.09034812 0.08241165]\n",
      " [0.15248798 0.1467915  0.1432294  0.14826094 0.23777692 0.30878744\n",
      "  0.11797024 0.13894676 0.18355341 0.17016691 0.11230595 0.20710665\n",
      "  0.1465194  0.13541311 0.09643088 0.09610522 0.1016616  0.09479623\n",
      "  0.09034812 0.08241165]\n",
      " [0.15248798 0.1467915  0.1432294  0.14826094 0.23777692 0.30878744\n",
      "  0.11797024 0.13894676 0.18355341 0.17016691 0.11230595 0.20710665\n",
      "  0.1465194  0.13541311 0.09643088 0.09610522 0.1016616  0.09479623\n",
      "  0.09034812 0.08241165]\n",
      " [0.15248798 0.1467915  0.1432294  0.14826094 0.23777692 0.30878744\n",
      "  0.11797024 0.13894676 0.18355341 0.17016691 0.11230595 0.20710665\n",
      "  0.1465194  0.13541311 0.09643088 0.09610522 0.1016616  0.09479623\n",
      "  0.09034812 0.08241165]\n",
      " [0.15248798 0.1467915  0.1432294  0.14826094 0.23777692 0.30878744\n",
      "  0.11797024 0.13894676 0.18355341 0.17016691 0.11230595 0.20710665\n",
      "  0.1465194  0.13541311 0.09643088 0.09610522 0.1016616  0.09479623\n",
      "  0.09034812 0.08241165]\n",
      " [0.15248798 0.1467915  0.1432294  0.14826094 0.23777692 0.30878744\n",
      "  0.11797024 0.13894676 0.18355341 0.17016691 0.11230595 0.20710665\n",
      "  0.1465194  0.13541311 0.09643088 0.09610522 0.1016616  0.09479623\n",
      "  0.09034812 0.08241165]\n",
      " [0.15248798 0.1467915  0.1432294  0.14826094 0.23777692 0.30878744\n",
      "  0.11797024 0.13894676 0.18355341 0.17016691 0.11230595 0.20710665\n",
      "  0.1465194  0.13541311 0.09643088 0.09610522 0.1016616  0.09479623\n",
      "  0.09034812 0.08241165]\n",
      " [0.15248798 0.1467915  0.1432294  0.14826094 0.23777692 0.30878744\n",
      "  0.11797024 0.13894676 0.18355341 0.17016691 0.11230595 0.20710665\n",
      "  0.1465194  0.13541311 0.09643088 0.09610522 0.1016616  0.09479623\n",
      "  0.09034812 0.08241165]\n",
      " [0.15248798 0.1467915  0.1432294  0.14826094 0.23777692 0.30878744\n",
      "  0.11797024 0.13894676 0.18355341 0.17016691 0.11230595 0.20710665\n",
      "  0.1465194  0.13541311 0.09643088 0.09610522 0.1016616  0.09479623\n",
      "  0.09034812 0.08241165]\n",
      " [0.15248798 0.1467915  0.1432294  0.14826094 0.23777692 0.30878744\n",
      "  0.11797024 0.13894676 0.18355341 0.17016691 0.11230595 0.20710665\n",
      "  0.1465194  0.13541311 0.09643088 0.09610522 0.1016616  0.09479623\n",
      "  0.09034812 0.08241165]\n",
      " [0.15248798 0.1467915  0.1432294  0.14826094 0.23777692 0.30878744\n",
      "  0.11797024 0.13894676 0.18355341 0.17016691 0.11230595 0.20710665\n",
      "  0.1465194  0.13541311 0.09643088 0.09610522 0.1016616  0.09479623\n",
      "  0.09034812 0.08241165]\n",
      " [0.15248798 0.1467915  0.1432294  0.14826094 0.23777692 0.30878744\n",
      "  0.11797024 0.13894676 0.18355341 0.17016691 0.11230595 0.20710665\n",
      "  0.1465194  0.13541311 0.09643088 0.09610522 0.1016616  0.09479623\n",
      "  0.09034812 0.08241165]\n",
      " [0.15248798 0.1467915  0.1432294  0.14826094 0.23777692 0.30878744\n",
      "  0.11797024 0.13894676 0.18355341 0.17016691 0.11230595 0.20710665\n",
      "  0.1465194  0.13541311 0.09643088 0.09610522 0.1016616  0.09479623\n",
      "  0.09034812 0.08241165]]\n"
     ]
    }
   ],
   "source": [
    "print(pred_labels[:50])"
   ]
  },
  {
   "cell_type": "code",
   "execution_count": null,
   "metadata": {},
   "outputs": [],
   "source": []
  }
 ],
 "metadata": {
  "kernelspec": {
   "display_name": "Python 3",
   "language": "python",
   "name": "python3"
  },
  "language_info": {
   "codemirror_mode": {
    "name": "ipython",
    "version": 3
   },
   "file_extension": ".py",
   "mimetype": "text/x-python",
   "name": "python",
   "nbconvert_exporter": "python",
   "pygments_lexer": "ipython3",
   "version": "3.6.4"
  }
 },
 "nbformat": 4,
 "nbformat_minor": 2
}
