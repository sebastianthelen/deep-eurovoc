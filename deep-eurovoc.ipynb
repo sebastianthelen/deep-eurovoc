{
 "cells": [
  {
   "cell_type": "markdown",
   "metadata": {},
   "source": [
    "# DeepEurovoc"
   ]
  },
  {
   "cell_type": "markdown",
   "metadata": {},
   "source": [
    "The aim of this little experiment is to predict Eurovoc categories/fields of publications based on expression abstracts published by the PO. \n",
    "\n",
    "The model used in this notebook is based on the 1D CNN described in the Keras blog article https://blog.keras.io/using-pre-trained-word-embeddings-in-a-keras-model.html. It uses pre-trained GloVe word embeddings for text classification.\n",
    "\n",
    "The input data is retrieved from the public SPARQL endpoint of the PO which is available at http://publications.europa.eu/webapi/rdf/sparql. The following query does the job:"
   ]
  },
  {
   "cell_type": "raw",
   "metadata": {},
   "source": [
    "prefix cdm: <http://publications.europa.eu/ontology/cdm#> \n",
    "select ?exp ?abstract (group_concat(?concept;separator=\";\") as ?concepts)  where \n",
    "{\n",
    "\t?exp cdm:expression_uses_language <http://publications.europa.eu/resource/authority/language/ENG>.\n",
    "\t?exp cdm:expression_abstract ?abstract.\n",
    "\t?exp cdm:expression_belongs_to_work/cdm:work_is_about_concept_eurovoc ?concept.\n",
    "} group by ?exp ?abstract\n"
   ]
  },
  {
   "cell_type": "markdown",
   "metadata": {},
   "source": [
    "The input data has already been downloaded and is stored in data.csv. Before loading the data, the modules needed throughout this notebook are imported."
   ]
  },
  {
   "cell_type": "code",
   "execution_count": 28,
   "metadata": {},
   "outputs": [],
   "source": [
    "import pandas as pd\n",
    "import numpy as np\n",
    "import os\n",
    "import sys\n",
    "import xml.etree.ElementTree as ET\n",
    "from nltk.corpus import stopwords\n",
    "from nltk.tokenize import word_tokenize\n",
    "from nltk.stem import WordNetLemmatizer\n",
    "from nltk.corpus import wordnet\n",
    "\n",
    "import keras\n",
    "from keras.preprocessing.text import Tokenizer\n",
    "from keras.preprocessing.sequence import pad_sequences\n",
    "from keras.utils import to_categorical\n",
    "from keras.layers import Dense, Input, GlobalMaxPooling1D, Flatten\n",
    "from keras.layers import Conv1D, MaxPooling1D, Embedding\n",
    "from keras.models import Model\n",
    "from keras.initializers import Constant\n",
    "from keras.layers import Dropout\n",
    "from keras import regularizers\n",
    "\n",
    "import tensorflow as tf\n",
    "import keras.backend.tensorflow_backend as tfb\n",
    "\n",
    "from sklearn.preprocessing import MultiLabelBinarizer\n",
    "\n",
    "import matplotlib.pyplot as plt"
   ]
  },
  {
   "cell_type": "markdown",
   "metadata": {},
   "source": [
    "Definition of some global variables used in this notebook:"
   ]
  },
  {
   "cell_type": "code",
   "execution_count": 29,
   "metadata": {},
   "outputs": [],
   "source": [
    "CLEANUP_DATA = True # save time by loading a cleaned up version from disc\n",
    "MAX_NUM_WORDS = 20000 # max. size of vocabulary\n",
    "EMBEDDING_DIM = 100 # dimension of GloVe word embeddings\n",
    "MAX_SEQUENCE_LENGTH = 1000 # truncate examples after MAX_SEQUENCE_LENGTH words\n",
    "CROSS_VALIDATION_SPLIT = 0.1\n",
    "# those are the eurovoc fields we want to support\n",
    "EUROVOC_FIELDS = {\n",
    "\"4\":  \"POLITICS\",\n",
    "\"8\":  \"INTERNATIONAL RELATIONS\", \n",
    "\"10\": \"EUROPEAN UNION\",\n",
    "\"12\": \"LAW \",\n",
    "\"16\": \"ECONOMICS\",\n",
    "\"20\": \"TRADE\",\n",
    "\"24\": \"FINANCE\",\n",
    "\"28\": \"SOCIAL QUESTIONS\",\n",
    "\"32\": \"EDUCATION AND COMMUNICATIONS\",\n",
    "\"36\": \"SCIENCE\",\n",
    "\"40\": \"BUSINESS AND COMPETITION\",\n",
    "\"44\": \"EMPLOYMENT AND WORKING CONDITIONS\",\n",
    "\"48\": \"TRANSPORT\",\n",
    "\"52\": \"ENVIRONMENT\",\n",
    "\"56\": \"AGRICULTURE, FORESTRY AND FISHERIES\",\n",
    "\"60\": \"AGRI-FOODSTUFFS\",\n",
    "\"64\": \"PRODUCTION, TECHNOLOGY AND RESEARCH\",\n",
    "\"66\": \"ENERGY\",\n",
    "\"68\": \"INDUSTRY\",\n",
    "\"72\": \"GEOGRAPHY\",\n",
    "\"76\": \"INTERNATIONAL ORGANISATIONS\"\n",
    "}"
   ]
  },
  {
   "cell_type": "markdown",
   "metadata": {},
   "source": [
    "Load the data and get some numbers..."
   ]
  },
  {
   "cell_type": "code",
   "execution_count": 30,
   "metadata": {},
   "outputs": [
    {
     "name": "stdout",
     "output_type": "stream",
     "text": [
      "<class 'pandas.core.frame.DataFrame'>\n",
      "RangeIndex: 35472 entries, 0 to 35471\n",
      "Data columns (total 3 columns):\n",
      "exp         35472 non-null object\n",
      "abstract    35472 non-null object\n",
      "concepts    35472 non-null object\n",
      "dtypes: object(3)\n",
      "memory usage: 831.5+ KB\n",
      "None\n"
     ]
    }
   ],
   "source": [
    "data_df = pd.read_csv(\"data.csv\")\n",
    "print(data_df.info())"
   ]
  },
  {
   "cell_type": "markdown",
   "metadata": {},
   "source": [
    "We define a function that will help us to extract the abstracts as plain text from the XMLLiterals returned by Virtuoso, to remove all non-English words including stop words, and to perform lemmatization on the filtered words."
   ]
  },
  {
   "cell_type": "code",
   "execution_count": 31,
   "metadata": {},
   "outputs": [],
   "source": [
    "def cleanup_abstract(xmlstring):\n",
    "    #import ipdb; ipdb.set_trace()\n",
    "    xmlstring = xmlstring.replace('\"\"', '\"')\n",
    "    text = None\n",
    "    try: \n",
    "        tree = ET.ElementTree(ET.fromstring(xmlstring))\n",
    "        xpath_result = tree.findall(\".//description\")\n",
    "        text = xpath_result[0].text\n",
    "    except:\n",
    "        text = xmlstring\n",
    "    # remove stopwords and punctuation. lower case everything\n",
    "    stop_words = set(stopwords.words('english'))\n",
    "    tokens = word_tokenize(text)\n",
    "    tokens = [w.lower() for w in tokens if not w in stop_words and w.isalpha() and wordnet.synsets(w)]\n",
    "    # lemmatize\n",
    "    lemma = WordNetLemmatizer()\n",
    "    final_tokens = []\n",
    "    for word in tokens:\n",
    "        final_tokens.append(lemma.lemmatize(word))\n",
    "    ret = \" \".join(final_tokens)\n",
    "    return ret\n",
    "    #return text"
   ]
  },
  {
   "cell_type": "markdown",
   "metadata": {},
   "source": [
    "Cleaning the data involves two steps:\n",
    "\n",
    "1\\. processing of the abstracts \n",
    "\n",
    "2\\. transform the \";\" separated eurovoc codes in the concepts column into lists of eurovoc categories. Only consider to first two digits of the eurovoc codes. The total number of codes  in the data set is much too high (>5000) for classification. Therefore, the first two digits indicating the \"subject matter\" are extracted and filtered based on EUROVOC_FIELDS."
   ]
  },
  {
   "cell_type": "code",
   "execution_count": 32,
   "metadata": {
    "scrolled": true
   },
   "outputs": [
    {
     "ename": "KeyboardInterrupt",
     "evalue": "",
     "output_type": "error",
     "traceback": [
      "\u001b[0;31m---------------------------------------------------------------------------\u001b[0m",
      "\u001b[0;31mKeyboardInterrupt\u001b[0m                         Traceback (most recent call last)",
      "\u001b[0;32m<ipython-input-32-ebdce2ece3ce>\u001b[0m in \u001b[0;36m<module>\u001b[0;34m()\u001b[0m\n\u001b[1;32m      1\u001b[0m \u001b[0;32mif\u001b[0m \u001b[0mCLEANUP_DATA\u001b[0m\u001b[0;34m:\u001b[0m\u001b[0;34m\u001b[0m\u001b[0m\n\u001b[0;32m----> 2\u001b[0;31m     \u001b[0mdata_df\u001b[0m\u001b[0;34m[\u001b[0m\u001b[0;34m\"clean_abstract\"\u001b[0m\u001b[0;34m]\u001b[0m \u001b[0;34m=\u001b[0m \u001b[0mdata_df\u001b[0m\u001b[0;34m[\u001b[0m\u001b[0;34m\"abstract\"\u001b[0m\u001b[0;34m]\u001b[0m\u001b[0;34m.\u001b[0m\u001b[0mapply\u001b[0m\u001b[0;34m(\u001b[0m\u001b[0mcleanup_abstract\u001b[0m\u001b[0;34m)\u001b[0m\u001b[0;34m\u001b[0m\u001b[0m\n\u001b[0m\u001b[1;32m      3\u001b[0m     \u001b[0mdata_df\u001b[0m\u001b[0;34m[\u001b[0m\u001b[0;34m\"clean_concepts\"\u001b[0m\u001b[0;34m]\u001b[0m \u001b[0;34m=\u001b[0m \u001b[0mdata_df\u001b[0m\u001b[0;34m[\u001b[0m\u001b[0;34m\"concepts\"\u001b[0m\u001b[0;34m]\u001b[0m\u001b[0;34m.\u001b[0m\u001b[0mapply\u001b[0m\u001b[0;34m(\u001b[0m\u001b[0;32mlambda\u001b[0m \u001b[0mx\u001b[0m\u001b[0;34m:\u001b[0m \u001b[0mlist\u001b[0m\u001b[0;34m(\u001b[0m\u001b[0;34m{\u001b[0m\u001b[0mc\u001b[0m\u001b[0;34m[\u001b[0m\u001b[0mc\u001b[0m\u001b[0;34m.\u001b[0m\u001b[0mrfind\u001b[0m\u001b[0;34m(\u001b[0m\u001b[0;34m\"/\"\u001b[0m\u001b[0;34m)\u001b[0m\u001b[0;34m+\u001b[0m\u001b[0;36m1\u001b[0m\u001b[0;34m:\u001b[0m\u001b[0mc\u001b[0m\u001b[0;34m.\u001b[0m\u001b[0mrfind\u001b[0m\u001b[0;34m(\u001b[0m\u001b[0;34m\"/\"\u001b[0m\u001b[0;34m)\u001b[0m\u001b[0;34m+\u001b[0m\u001b[0;36m3\u001b[0m\u001b[0;34m]\u001b[0m \u001b[0;32mfor\u001b[0m \u001b[0mc\u001b[0m \u001b[0;32min\u001b[0m \u001b[0mx\u001b[0m\u001b[0;34m.\u001b[0m\u001b[0msplit\u001b[0m\u001b[0;34m(\u001b[0m\u001b[0;34m\";\"\u001b[0m\u001b[0;34m)\u001b[0m \u001b[0;32mif\u001b[0m \u001b[0mc\u001b[0m\u001b[0;34m[\u001b[0m\u001b[0mc\u001b[0m\u001b[0;34m.\u001b[0m\u001b[0mrfind\u001b[0m\u001b[0;34m(\u001b[0m\u001b[0;34m\"/\"\u001b[0m\u001b[0;34m)\u001b[0m\u001b[0;34m+\u001b[0m\u001b[0;36m1\u001b[0m\u001b[0;34m:\u001b[0m\u001b[0mc\u001b[0m\u001b[0;34m.\u001b[0m\u001b[0mrfind\u001b[0m\u001b[0;34m(\u001b[0m\u001b[0;34m\"/\"\u001b[0m\u001b[0;34m)\u001b[0m\u001b[0;34m+\u001b[0m\u001b[0;36m3\u001b[0m\u001b[0;34m]\u001b[0m \u001b[0;32min\u001b[0m \u001b[0mEUROVOC_FIELDS\u001b[0m\u001b[0;34m}\u001b[0m\u001b[0;34m)\u001b[0m\u001b[0;34m)\u001b[0m\u001b[0;34m\u001b[0m\u001b[0m\n\u001b[1;32m      4\u001b[0m     \u001b[0mdata_df\u001b[0m \u001b[0;34m=\u001b[0m \u001b[0mdata_df\u001b[0m\u001b[0;34m[\u001b[0m\u001b[0mdata_df\u001b[0m\u001b[0;34m.\u001b[0m\u001b[0mastype\u001b[0m\u001b[0;34m(\u001b[0m\u001b[0mstr\u001b[0m\u001b[0;34m)\u001b[0m\u001b[0;34m[\u001b[0m\u001b[0;34m'clean_concepts'\u001b[0m\u001b[0;34m]\u001b[0m \u001b[0;34m!=\u001b[0m \u001b[0;34m'[]'\u001b[0m\u001b[0;34m]\u001b[0m\u001b[0;34m\u001b[0m\u001b[0m\n\u001b[1;32m      5\u001b[0m     \u001b[0mdata_df\u001b[0m\u001b[0;34m.\u001b[0m\u001b[0mdrop\u001b[0m\u001b[0;34m(\u001b[0m\u001b[0;34m[\u001b[0m\u001b[0;34m\"abstract\"\u001b[0m\u001b[0;34m]\u001b[0m\u001b[0;34m,\u001b[0m \u001b[0maxis\u001b[0m\u001b[0;34m=\u001b[0m\u001b[0;36m1\u001b[0m\u001b[0;34m)\u001b[0m\u001b[0;34m\u001b[0m\u001b[0m\n",
      "\u001b[0;32m~/anaconda3/lib/python3.6/site-packages/pandas/core/series.py\u001b[0m in \u001b[0;36mapply\u001b[0;34m(self, func, convert_dtype, args, **kwds)\u001b[0m\n\u001b[1;32m   2549\u001b[0m             \u001b[0;32melse\u001b[0m\u001b[0;34m:\u001b[0m\u001b[0;34m\u001b[0m\u001b[0m\n\u001b[1;32m   2550\u001b[0m                 \u001b[0mvalues\u001b[0m \u001b[0;34m=\u001b[0m \u001b[0mself\u001b[0m\u001b[0;34m.\u001b[0m\u001b[0masobject\u001b[0m\u001b[0;34m\u001b[0m\u001b[0m\n\u001b[0;32m-> 2551\u001b[0;31m                 \u001b[0mmapped\u001b[0m \u001b[0;34m=\u001b[0m \u001b[0mlib\u001b[0m\u001b[0;34m.\u001b[0m\u001b[0mmap_infer\u001b[0m\u001b[0;34m(\u001b[0m\u001b[0mvalues\u001b[0m\u001b[0;34m,\u001b[0m \u001b[0mf\u001b[0m\u001b[0;34m,\u001b[0m \u001b[0mconvert\u001b[0m\u001b[0;34m=\u001b[0m\u001b[0mconvert_dtype\u001b[0m\u001b[0;34m)\u001b[0m\u001b[0;34m\u001b[0m\u001b[0m\n\u001b[0m\u001b[1;32m   2552\u001b[0m \u001b[0;34m\u001b[0m\u001b[0m\n\u001b[1;32m   2553\u001b[0m         \u001b[0;32mif\u001b[0m \u001b[0mlen\u001b[0m\u001b[0;34m(\u001b[0m\u001b[0mmapped\u001b[0m\u001b[0;34m)\u001b[0m \u001b[0;32mand\u001b[0m \u001b[0misinstance\u001b[0m\u001b[0;34m(\u001b[0m\u001b[0mmapped\u001b[0m\u001b[0;34m[\u001b[0m\u001b[0;36m0\u001b[0m\u001b[0;34m]\u001b[0m\u001b[0;34m,\u001b[0m \u001b[0mSeries\u001b[0m\u001b[0;34m)\u001b[0m\u001b[0;34m:\u001b[0m\u001b[0;34m\u001b[0m\u001b[0m\n",
      "\u001b[0;32mpandas/_libs/src/inference.pyx\u001b[0m in \u001b[0;36mpandas._libs.lib.map_infer\u001b[0;34m()\u001b[0m\n",
      "\u001b[0;32m<ipython-input-31-2e169413c978>\u001b[0m in \u001b[0;36mcleanup_abstract\u001b[0;34m(xmlstring)\u001b[0m\n\u001b[1;32m     10\u001b[0m         \u001b[0mtext\u001b[0m \u001b[0;34m=\u001b[0m \u001b[0mxmlstring\u001b[0m\u001b[0;34m\u001b[0m\u001b[0m\n\u001b[1;32m     11\u001b[0m     \u001b[0;31m# remove stopwords and punctuation. lower case everything\u001b[0m\u001b[0;34m\u001b[0m\u001b[0;34m\u001b[0m\u001b[0m\n\u001b[0;32m---> 12\u001b[0;31m     \u001b[0mstop_words\u001b[0m \u001b[0;34m=\u001b[0m \u001b[0mset\u001b[0m\u001b[0;34m(\u001b[0m\u001b[0mstopwords\u001b[0m\u001b[0;34m.\u001b[0m\u001b[0mwords\u001b[0m\u001b[0;34m(\u001b[0m\u001b[0;34m'english'\u001b[0m\u001b[0;34m)\u001b[0m\u001b[0;34m)\u001b[0m\u001b[0;34m\u001b[0m\u001b[0m\n\u001b[0m\u001b[1;32m     13\u001b[0m     \u001b[0mtokens\u001b[0m \u001b[0;34m=\u001b[0m \u001b[0mword_tokenize\u001b[0m\u001b[0;34m(\u001b[0m\u001b[0mtext\u001b[0m\u001b[0;34m)\u001b[0m\u001b[0;34m\u001b[0m\u001b[0m\n\u001b[1;32m     14\u001b[0m     \u001b[0mtokens\u001b[0m \u001b[0;34m=\u001b[0m \u001b[0;34m[\u001b[0m\u001b[0mw\u001b[0m\u001b[0;34m.\u001b[0m\u001b[0mlower\u001b[0m\u001b[0;34m(\u001b[0m\u001b[0;34m)\u001b[0m \u001b[0;32mfor\u001b[0m \u001b[0mw\u001b[0m \u001b[0;32min\u001b[0m \u001b[0mtokens\u001b[0m \u001b[0;32mif\u001b[0m \u001b[0;32mnot\u001b[0m \u001b[0mw\u001b[0m \u001b[0;32min\u001b[0m \u001b[0mstop_words\u001b[0m \u001b[0;32mand\u001b[0m \u001b[0mw\u001b[0m\u001b[0;34m.\u001b[0m\u001b[0misalpha\u001b[0m\u001b[0;34m(\u001b[0m\u001b[0;34m)\u001b[0m \u001b[0;32mand\u001b[0m \u001b[0mwordnet\u001b[0m\u001b[0;34m.\u001b[0m\u001b[0msynsets\u001b[0m\u001b[0;34m(\u001b[0m\u001b[0mw\u001b[0m\u001b[0;34m)\u001b[0m\u001b[0;34m]\u001b[0m\u001b[0;34m\u001b[0m\u001b[0m\n",
      "\u001b[0;32m~/anaconda3/lib/python3.6/site-packages/nltk/corpus/reader/wordlist.py\u001b[0m in \u001b[0;36mwords\u001b[0;34m(self, fileids, ignore_lines_startswith)\u001b[0m\n\u001b[1;32m     20\u001b[0m     \"\"\"\n\u001b[1;32m     21\u001b[0m     \u001b[0;32mdef\u001b[0m \u001b[0mwords\u001b[0m\u001b[0;34m(\u001b[0m\u001b[0mself\u001b[0m\u001b[0;34m,\u001b[0m \u001b[0mfileids\u001b[0m\u001b[0;34m=\u001b[0m\u001b[0;32mNone\u001b[0m\u001b[0;34m,\u001b[0m \u001b[0mignore_lines_startswith\u001b[0m\u001b[0;34m=\u001b[0m\u001b[0;34m'\\n'\u001b[0m\u001b[0;34m)\u001b[0m\u001b[0;34m:\u001b[0m\u001b[0;34m\u001b[0m\u001b[0m\n\u001b[0;32m---> 22\u001b[0;31m         return [line for line in line_tokenize(self.raw(fileids))\n\u001b[0m\u001b[1;32m     23\u001b[0m                 if not line.startswith(ignore_lines_startswith)]\n\u001b[1;32m     24\u001b[0m \u001b[0;34m\u001b[0m\u001b[0m\n",
      "\u001b[0;32m~/anaconda3/lib/python3.6/site-packages/nltk/corpus/reader/wordlist.py\u001b[0m in \u001b[0;36mraw\u001b[0;34m(self, fileids)\u001b[0m\n\u001b[1;32m     26\u001b[0m         \u001b[0;32mif\u001b[0m \u001b[0mfileids\u001b[0m \u001b[0;32mis\u001b[0m \u001b[0;32mNone\u001b[0m\u001b[0;34m:\u001b[0m \u001b[0mfileids\u001b[0m \u001b[0;34m=\u001b[0m \u001b[0mself\u001b[0m\u001b[0;34m.\u001b[0m\u001b[0m_fileids\u001b[0m\u001b[0;34m\u001b[0m\u001b[0m\n\u001b[1;32m     27\u001b[0m         \u001b[0;32melif\u001b[0m \u001b[0misinstance\u001b[0m\u001b[0;34m(\u001b[0m\u001b[0mfileids\u001b[0m\u001b[0;34m,\u001b[0m \u001b[0mstring_types\u001b[0m\u001b[0;34m)\u001b[0m\u001b[0;34m:\u001b[0m \u001b[0mfileids\u001b[0m \u001b[0;34m=\u001b[0m \u001b[0;34m[\u001b[0m\u001b[0mfileids\u001b[0m\u001b[0;34m]\u001b[0m\u001b[0;34m\u001b[0m\u001b[0m\n\u001b[0;32m---> 28\u001b[0;31m         \u001b[0;32mreturn\u001b[0m \u001b[0mconcat\u001b[0m\u001b[0;34m(\u001b[0m\u001b[0;34m[\u001b[0m\u001b[0mself\u001b[0m\u001b[0;34m.\u001b[0m\u001b[0mopen\u001b[0m\u001b[0;34m(\u001b[0m\u001b[0mf\u001b[0m\u001b[0;34m)\u001b[0m\u001b[0;34m.\u001b[0m\u001b[0mread\u001b[0m\u001b[0;34m(\u001b[0m\u001b[0;34m)\u001b[0m \u001b[0;32mfor\u001b[0m \u001b[0mf\u001b[0m \u001b[0;32min\u001b[0m \u001b[0mfileids\u001b[0m\u001b[0;34m]\u001b[0m\u001b[0;34m)\u001b[0m\u001b[0;34m\u001b[0m\u001b[0m\n\u001b[0m\u001b[1;32m     29\u001b[0m \u001b[0;34m\u001b[0m\u001b[0m\n\u001b[1;32m     30\u001b[0m \u001b[0;34m\u001b[0m\u001b[0m\n",
      "\u001b[0;32m~/anaconda3/lib/python3.6/site-packages/nltk/corpus/reader/wordlist.py\u001b[0m in \u001b[0;36m<listcomp>\u001b[0;34m(.0)\u001b[0m\n\u001b[1;32m     26\u001b[0m         \u001b[0;32mif\u001b[0m \u001b[0mfileids\u001b[0m \u001b[0;32mis\u001b[0m \u001b[0;32mNone\u001b[0m\u001b[0;34m:\u001b[0m \u001b[0mfileids\u001b[0m \u001b[0;34m=\u001b[0m \u001b[0mself\u001b[0m\u001b[0;34m.\u001b[0m\u001b[0m_fileids\u001b[0m\u001b[0;34m\u001b[0m\u001b[0m\n\u001b[1;32m     27\u001b[0m         \u001b[0;32melif\u001b[0m \u001b[0misinstance\u001b[0m\u001b[0;34m(\u001b[0m\u001b[0mfileids\u001b[0m\u001b[0;34m,\u001b[0m \u001b[0mstring_types\u001b[0m\u001b[0;34m)\u001b[0m\u001b[0;34m:\u001b[0m \u001b[0mfileids\u001b[0m \u001b[0;34m=\u001b[0m \u001b[0;34m[\u001b[0m\u001b[0mfileids\u001b[0m\u001b[0;34m]\u001b[0m\u001b[0;34m\u001b[0m\u001b[0m\n\u001b[0;32m---> 28\u001b[0;31m         \u001b[0;32mreturn\u001b[0m \u001b[0mconcat\u001b[0m\u001b[0;34m(\u001b[0m\u001b[0;34m[\u001b[0m\u001b[0mself\u001b[0m\u001b[0;34m.\u001b[0m\u001b[0mopen\u001b[0m\u001b[0;34m(\u001b[0m\u001b[0mf\u001b[0m\u001b[0;34m)\u001b[0m\u001b[0;34m.\u001b[0m\u001b[0mread\u001b[0m\u001b[0;34m(\u001b[0m\u001b[0;34m)\u001b[0m \u001b[0;32mfor\u001b[0m \u001b[0mf\u001b[0m \u001b[0;32min\u001b[0m \u001b[0mfileids\u001b[0m\u001b[0;34m]\u001b[0m\u001b[0;34m)\u001b[0m\u001b[0;34m\u001b[0m\u001b[0m\n\u001b[0m\u001b[1;32m     29\u001b[0m \u001b[0;34m\u001b[0m\u001b[0m\n\u001b[1;32m     30\u001b[0m \u001b[0;34m\u001b[0m\u001b[0m\n",
      "\u001b[0;31mKeyboardInterrupt\u001b[0m: "
     ]
    }
   ],
   "source": [
    "if CLEANUP_DATA:\n",
    "    data_df[\"clean_abstract\"] = data_df[\"abstract\"].apply(cleanup_abstract)\n",
    "    data_df[\"clean_concepts\"] = data_df[\"concepts\"].apply(lambda x: list({c[c.rfind(\"/\")+1:c.rfind(\"/\")+3] for c in x.split(\";\") if c[c.rfind(\"/\")+1:c.rfind(\"/\")+3] in EUROVOC_FIELDS}))\n",
    "    data_df = data_df[data_df.astype(str)['clean_concepts'] != '[]']\n",
    "    data_df.drop([\"abstract\"], axis=1)\n",
    "    data_df.drop([\"concepts\"], axis=1)\n",
    "    data_df.to_pickle(\"data_df.pkl\")"
   ]
  },
  {
   "cell_type": "markdown",
   "metadata": {},
   "source": [
    "The next line loads the cleaned up data directly from file instead of computing it everytime the notebook is executed."
   ]
  },
  {
   "cell_type": "code",
   "execution_count": null,
   "metadata": {},
<<<<<<< HEAD
   "outputs": [],
=======
   "outputs": [
    {
     "name": "stdout",
     "output_type": "stream",
     "text": [
      "                                       clean_abstract    clean_concepts\n",
      "0   at institute reference material measurement di...              [40]\n",
      "2   short document aim provide summary main issue ...      [24, 52, 44]\n",
      "3   briefing note intended provide european parlia...  [52, 44, 36, 10]\n",
      "5   united nation millennium declaration endorsed ...              [24]\n",
      "6   equal access economic resource matter ensuring...      [44, 60, 28]\n",
      "7   an independent expert panel referred panel app...      [24, 36, 28]\n",
      "8   main objective annual country report character...      [24, 56, 28]\n",
      "9   second edition european vacancy recruitment re...      [24, 66, 10]\n",
      "10  in process water temperature far saturation te...              [28]\n",
      "11  study provides overview extent scope form eu t...          [52, 36]\n"
     ]
    }
   ],
>>>>>>> vanilla
   "source": [
    "data_df = pd.read_pickle(\"data_df.pkl\")\n",
    "print(data_df[['clean_abstract', 'clean_concepts']][:10])"
   ]
  },
  {
   "cell_type": "code",
   "execution_count": 7,
   "metadata": {},
   "outputs": [
    {
     "data": {
      "image/png": "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\n",
      "text/plain": [
       "<matplotlib.figure.Figure at 0x1a283d5630>"
      ]
     },
     "metadata": {},
     "output_type": "display_data"
    }
   ],
   "source": [
    "# Let's look at the character length for the rows in the training data and record these\n",
    "data_df['char_length'] = data_df['clean_abstract'].apply(lambda x: len(str(x)))\n",
    "\n",
    "plt.figure()\n",
    "plt.hist(data_df['char_length'])\n",
    "plt.title(\"Number of words per abstract\")\n",
    "plt.ylabel(\"Count\")\n",
    "plt.xlabel(\"# Words\")\n",
    "plt.show()"
   ]
  },
  {
   "cell_type": "code",
   "execution_count": 8,
   "metadata": {},
   "outputs": [
    {
     "name": "stdout",
     "output_type": "stream",
     "text": [
      "   index  count\n",
      "0     10   4161\n",
      "1     12   1784\n",
      "2     16   1499\n",
      "3     20   1643\n",
      "4     24   9710\n",
      "5     28  13842\n",
      "6     32   2018\n",
      "7     36   4594\n",
      "8     40   5617\n",
      "9     44   5840\n",
      "10    48   2632\n",
      "11    52   7127\n",
      "12    56   3995\n",
      "13    60   3883\n",
      "14    64   1218\n",
      "15    66    933\n",
      "16    68   1375\n",
      "17    72    979\n",
      "18    76    185\n",
      "19     8      1\n"
     ]
    },
    {
     "data": {
      "image/png": "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\n",
      "text/plain": [
       "<matplotlib.figure.Figure at 0x1a26d579e8>"
      ]
     },
     "metadata": {},
     "output_type": "display_data"
    }
   ],
   "source": [
    "tmp = []\n",
    "data_df[\"clean_concepts\"].apply(lambda x: tmp.extend(x))\n",
    "s = pd.Series(data=tmp)\n",
    "grouped_labels = s.groupby(s).size().reset_index(name='count')\n",
    "print(grouped_labels)\n",
    "x_pos = [i for i, _ in enumerate(grouped_labels[\"count\"])]\n",
    "plt.bar(x_pos, grouped_labels[\"count\"])\n",
    "plt.xticks(x_pos, [str(i) for i in grouped_labels[\"index\"] ])\n",
    "plt.xlabel(\"Field code\")\n",
    "plt.ylabel(\"Count\")\n",
    "plt.show()"
   ]
  },
  {
   "cell_type": "markdown",
   "metadata": {},
   "source": [
    "We must convert the data set labels to numbers so that they can be processed by Keras. The approach is described in https://www.pyimagesearch.com/2018/05/07/multi-label-classification-with-keras/."
   ]
  },
  {
   "cell_type": "code",
<<<<<<< HEAD
   "execution_count": 18,
=======
   "execution_count": 9,
>>>>>>> vanilla
   "metadata": {},
   "outputs": [
    {
     "name": "stdout",
     "output_type": "stream",
     "text": [
      "1. 10\n",
      "2. 12\n",
      "3. 16\n",
      "4. 20\n",
      "5. 24\n",
      "6. 28\n",
      "7. 32\n",
      "8. 36\n",
      "9. 40\n",
      "10. 44\n",
      "11. 48\n",
      "12. 52\n",
      "13. 56\n",
      "14. 60\n",
      "15. 64\n",
      "16. 66\n",
      "17. 68\n",
      "18. 72\n",
      "19. 76\n",
      "20. 8\n",
      "[[0 0 0 ... 0 0 0]\n",
      " [0 0 0 ... 0 0 0]\n",
      " [1 0 0 ... 0 0 0]\n",
      " ...\n",
      " [0 0 0 ... 0 0 0]\n",
      " [0 0 0 ... 0 0 0]\n",
      " [0 0 0 ... 0 0 0]]\n",
      "['10' '12' '16' '20' '24' '28' '32' '36' '40' '44' '48' '52' '56' '60'\n",
      " '64' '66' '68' '72' '76' '8']\n"
     ]
    }
   ],
   "source": [
    "#labels = data_df[\"clean_concepts\"].tolist()\n",
    "#mlb = MultiLabelBinarizer()\n",
    "#labels = mlb.fit_transform(labels)\n",
    "# loop over each of the possible class labels and show them\n",
    "#for (i, label) in enumerate(mlb.classes_):\n",
    "#\tprint(\"{}. {}\".format(i + 1, label))\n",
    "\n",
    "multilabel_binarizer = MultiLabelBinarizer()\n",
    "labels = multilabel_binarizer.fit_transform(data_df[\"clean_concepts\"])\n",
    "tmp_labels = multilabel_binarizer.classes_\n",
    "\n",
    "for (i, label) in enumerate(multilabel_binarizer.classes_):\n",
    "\tprint(\"{}. {}\".format(i + 1, label))\n",
    "\n",
    "print(labels)\n",
    "print(tmp_labels)"
   ]
  },
  {
   "cell_type": "raw",
   "metadata": {},
   "source": [
    "most_common_tags['class_weight'] = len(df_tags) / most_common_tags['count']\n",
    "class_weight = {}\n",
    "for index, label in enumerate(labels):\n",
    "    class_weight[index] = most_common_tags[most_common_tags['Tag'] == label]['class_weight'].values[0]\n",
    "    \n",
    "most_common_tags.head()"
   ]
  },
  {
   "cell_type": "code",
   "execution_count": 10,
   "metadata": {},
   "outputs": [
    {
     "name": "stdout",
     "output_type": "stream",
     "text": [
      "  index  count  class_weight\n",
      "0    10   4161      0.004807\n",
      "1    12   1784      0.011211\n",
      "2    16   1499      0.013342\n",
      "3    20   1643      0.012173\n",
      "4    24   9710      0.002060\n",
      "{0: 0.004806536890170632, 1: 0.011210762331838564, 2: 0.0133422281521014, 3: 0.012172854534388313, 4: 0.0020597322348094747, 5: 0.0014448779078167894, 6: 0.009910802775024777, 7: 0.0043535045711798, 8: 0.0035606195478013174, 9: 0.003424657534246575, 10: 0.007598784194528876, 11: 0.002806229830223095, 12: 0.0050062578222778474, 13: 0.0051506567087303634, 14: 0.016420361247947456, 15: 0.021436227224008574, 16: 0.014545454545454545, 17: 0.020429009193054137, 18: 0.10810810810810811, 19: 20.0}\n"
     ]
    }
   ],
   "source": [
    "grouped_labels['class_weight'] = len(grouped_labels) / grouped_labels['count']\n",
    "#grouped_labels['class_weight'] = 1 / grouped_labels['count']\n",
    "print(grouped_labels.head())\n",
    "class_weight = {}\n",
    "for index, label in enumerate(tmp_labels):\n",
    "    class_weight[index] = grouped_labels[grouped_labels['index'] == label]['class_weight'].values[0]    \n",
    "print(class_weight)"
   ]
  },
  {
   "cell_type": "markdown",
   "metadata": {},
   "source": [
    "A small test to make sure that MultiLabelBinarizer is really generating multi-label vectors and not just one-hot vectors."
   ]
  },
  {
   "cell_type": "code",
<<<<<<< HEAD
   "execution_count": 19,
=======
   "execution_count": 11,
>>>>>>> vanilla
   "metadata": {},
   "outputs": [
    {
     "name": "stdout",
     "output_type": "stream",
     "text": [
      "Labels of the 2nd training example: [('24', '44', '52')]\n"
     ]
    }
   ],
   "source": [
    "print(\"Labels of the 2nd training example: \" + str(multilabel_binarizer.inverse_transform(np.array([labels[1]]))))"
   ]
  },
  {
   "cell_type": "markdown",
   "metadata": {},
   "source": [
    "Next we need to tranform the input examples into an array of numbers:"
   ]
  },
  {
   "cell_type": "code",
<<<<<<< HEAD
   "execution_count": 20,
=======
   "execution_count": 12,
>>>>>>> vanilla
   "metadata": {},
   "outputs": [
    {
     "name": "stderr",
     "output_type": "stream",
     "text": [
      "/Users/sebastianthelen/anaconda3/lib/python3.6/site-packages/keras/preprocessing/text.py:172: UserWarning: The `nb_words` argument in `Tokenizer` has been renamed `num_words`.\n",
      "  warnings.warn('The `nb_words` argument in `Tokenizer` '\n"
     ]
    },
    {
     "name": "stdout",
     "output_type": "stream",
     "text": [
      "Found 21792 unique tokens.\n",
      "Shape of data tensor: (31589, 1000)\n",
      "Shape of label tensor: (31589, 20)\n"
     ]
    }
   ],
   "source": [
    "data = data_df[\"clean_abstract\"].tolist()\n",
    "tokenizer = Tokenizer(nb_words=MAX_NUM_WORDS)\n",
    "tokenizer.fit_on_texts(data)\n",
    "sequences = tokenizer.texts_to_sequences(data)\n",
    "word_index = tokenizer.word_index\n",
    "print('Found %s unique tokens.' % len(word_index))\n",
    "data = pad_sequences(sequences, maxlen=MAX_SEQUENCE_LENGTH)\n",
    "print('Shape of data tensor:', data.shape)\n",
    "print('Shape of label tensor:', labels.shape)"
   ]
  },
  {
   "cell_type": "markdown",
   "metadata": {},
   "source": [
    "Split data into training data and test data."
   ]
  },
  {
   "cell_type": "code",
<<<<<<< HEAD
   "execution_count": 21,
=======
   "execution_count": 13,
>>>>>>> vanilla
   "metadata": {},
   "outputs": [
    {
     "name": "stdout",
     "output_type": "stream",
     "text": [
      "3158\n",
      "train_data.shape (28431, 1000)\n",
      "train_labels.shape (28431, 20)\n",
      "cross_data.shape (3158, 1000)\n",
      "cross_labels.shape (3158, 20)\n"
     ]
    }
   ],
   "source": [
    "# split the data into a training set and a cross validation set\n",
    "indices = np.arange(data.shape[0])\n",
    "np.random.shuffle(indices)\n",
    "data = data[indices]\n",
    "labels = labels[indices]\n",
    "num_validation_samples = int(CROSS_VALIDATION_SPLIT * data.shape[0])\n",
    "print(num_validation_samples)\n",
    "train_data = data[:-num_validation_samples]\n",
    "train_labels = labels[:-num_validation_samples]\n",
    "cross_data = data[-num_validation_samples:]\n",
    "cross_labels = labels[-num_validation_samples:]\n",
    "\n",
    "print(\"train_data.shape\", train_data.shape)\n",
    "print(\"train_labels.shape\", train_labels.shape)\n",
    "print(\"cross_data.shape\", cross_data.shape)\n",
    "print(\"cross_labels.shape\", cross_labels.shape)"
   ]
  },
  {
   "cell_type": "markdown",
   "metadata": {},
   "source": [
    "Load the pre-computed GloVe word embeddings from file and create an embeddings_index:"
   ]
  },
  {
   "cell_type": "code",
<<<<<<< HEAD
   "execution_count": 22,
=======
   "execution_count": 14,
>>>>>>> vanilla
   "metadata": {},
   "outputs": [
    {
     "name": "stdout",
     "output_type": "stream",
     "text": [
      "Found 400000 word vectors.\n"
     ]
    }
   ],
   "source": [
    "embeddings_index = {}\n",
    "with open(os.path.join('glove.6B', 'glove.6B.100d.txt'), 'r', encoding='utf-8') as f:\n",
    "    for line in f:\n",
    "        values = line.split()\n",
    "        word = values[0]\n",
    "        coefs = np.asarray(values[1:], dtype='float32')\n",
    "        embeddings_index[word] = coefs\n",
    "\n",
    "print('Found %s word vectors.' % len(embeddings_index))"
   ]
  },
  {
   "cell_type": "markdown",
   "metadata": {},
   "source": [
    "Use word_index and embedding_index to compute the embedding_matrix. embedding_matrix is  a matrix storing the embedded_vector for each word in the data set. "
   ]
  },
  {
   "cell_type": "code",
<<<<<<< HEAD
   "execution_count": 23,
=======
   "execution_count": 15,
>>>>>>> vanilla
   "metadata": {},
   "outputs": [],
   "source": [
    "num_words = min(MAX_NUM_WORDS, len(word_index) + 1)\n",
    "embedding_matrix = np.zeros((num_words, EMBEDDING_DIM))\n",
    "for word, i in word_index.items():\n",
    "    if i >= MAX_NUM_WORDS:\n",
    "        continue\n",
    "    embedding_vector = embeddings_index.get(word)\n",
    "    if embedding_vector is not None:\n",
    "        # words not found in embedding index will be all-zeros.\n",
    "        embedding_matrix[i] = embedding_vector"
   ]
  },
  {
   "cell_type": "markdown",
   "metadata": {},
   "source": [
    "Build an Keras embedding_layer. Note that trainable=false, i.e., weights are not getting updated. "
   ]
  },
  {
   "cell_type": "code",
<<<<<<< HEAD
   "execution_count": 24,
=======
   "execution_count": 16,
>>>>>>> vanilla
   "metadata": {},
   "outputs": [],
   "source": [
    "embedding_layer = Embedding(num_words,\n",
    "                            EMBEDDING_DIM,\n",
    "                            embeddings_initializer=Constant(embedding_matrix),\n",
    "                            input_length=MAX_SEQUENCE_LENGTH,\n",
    "                            trainable=False)"
   ]
  },
  {
   "cell_type": "code",
<<<<<<< HEAD
   "execution_count": 25,
=======
   "execution_count": 17,
>>>>>>> vanilla
   "metadata": {},
   "outputs": [],
   "source": [
    "from keras import backend as K\n",
    "\n",
    "def precision(y_true, y_pred):\n",
    "        \"\"\"Precision metric.\n",
    "\n",
    "        Only computes a batch-wise average of precision.\n",
    "\n",
    "        Computes the precision, a metric for multi-label classification of\n",
    "        how many selected items are relevant.\n",
    "        \"\"\"\n",
    "        true_positives = K.sum(K.round(K.clip(y_true * y_pred, 0, 1)))\n",
    "        predicted_positives = K.sum(K.round(K.clip(y_pred, 0, 1)))\n",
    "        #true_positives = K.sum(K.clip(y_true * y_pred, 0, 1))\n",
    "        #predicted_positives = K.sum(K.clip(y_pred, 0, 1))\n",
    "        precision = true_positives / (predicted_positives + K.epsilon())\n",
    "        return precision\n",
    "\n",
    "def recall(y_true, y_pred):\n",
    "    \"\"\"Recall metric.\n",
    "\n",
    "    Only computes a batch-wise average of recall.\n",
    "\n",
    "    Computes the recall, a metric for multi-label classification of\n",
    "    how many relevant items are selected.\n",
    "    \"\"\"\n",
    "    true_positives = K.sum(K.round(K.clip(y_true * y_pred, 0, 1)))\n",
    "    possible_positives = K.sum(K.round(K.clip(y_true, 0, 1)))\n",
    "    #true_positives = K.sum(K.round(K.clip(y_true * y_pred, 0, 1)))\n",
    "    #possible_positives = K.sum(K.round(K.clip(y_true, 0, 1)))\n",
    "    recall = true_positives / (possible_positives + K.epsilon())\n",
    "    return recall\n",
    "\n",
    "def f1(y_true, y_pred):\n",
    "    def precision_(y_true, y_pred):\n",
    "        \"\"\"Precision metric.\n",
    "\n",
    "        Only computes a batch-wise average of precision.\n",
    "\n",
    "        Computes the precision, a metric for multi-label classification of\n",
    "        how many selected items are relevant.\n",
    "        \"\"\"\n",
    "        true_positives = K.sum(K.round(K.clip(y_true * y_pred, 0, 1)))\n",
    "        predicted_positives = K.sum(K.round(K.clip(y_pred, 0, 1)))\n",
    "        #true_positives = K.sum(K.clip(y_true * y_pred, 0, 1))\n",
    "        #predicted_positives = K.sum(K.clip(y_pred, 0, 1))\n",
    "        precision = true_positives / (predicted_positives + K.epsilon())\n",
    "        return precision\n",
    "\n",
    "    def recall_(y_true, y_pred):\n",
    "        \"\"\"Recall metric.\n",
    "\n",
    "        Only computes a batch-wise average of recall.\n",
    "\n",
    "        Computes the recall, a metric for multi-label classification of\n",
    "        how many relevant items are selected.\n",
    "        \"\"\"\n",
    "        true_positives = K.sum(K.round(K.clip(y_true * y_pred, 0, 1)))\n",
    "        possible_positives = K.sum(K.round(K.clip(y_true, 0, 1)))\n",
    "        #true_positives = K.sum(K.round(K.clip(y_true * y_pred, 0, 1)))\n",
    "        #possible_positives = K.sum(K.round(K.clip(y_true, 0, 1)))\n",
    "        recall = true_positives / (possible_positives + K.epsilon())\n",
    "        return recall\n",
    "\n",
    "    precision = precision_(y_true, y_pred)\n",
    "    recall = recall_(y_true, y_pred)\n",
    "    return 2*((precision*recall)/(precision+recall+K.epsilon()))"
   ]
  },
  {
   "cell_type": "code",
<<<<<<< HEAD
   "execution_count": 26,
=======
   "execution_count": 18,
>>>>>>> vanilla
   "metadata": {},
   "outputs": [
    {
     "name": "stdout",
     "output_type": "stream",
     "text": [
      "0.87625\n",
      "0.87625\n"
     ]
    }
   ],
   "source": [
    "from keras import backend as K\n",
    "import numpy as np\n",
    "def hamming_discrete(y_true, y_pred):\n",
    "            denominator = K.sum(K.ones(shape=K.shape(K.flatten(y_true))))\n",
    "            nominator = K.sum((y_true * (1-K.round(K.clip(y_pred, 0, 1))) + (1-y_true) * K.round(K.clip(y_pred, 0, 1))))\n",
    "            return (nominator / denominator)\n",
    "\n",
    "def hamming_smooth(y_true, y_pred):\n",
    "            denominator = K.sum(K.ones(shape=K.shape(K.flatten(y_true))))\n",
    "            nominator = K.sum((y_true * (1-K.clip(y_pred, 0, 1)) + (1-y_true) * K.clip(y_pred, 0, 1)))\n",
    "            return (nominator / denominator)\n",
    "a = K.variable(value=np.array([[.99, 0, 0, 0], [0, 0, 0, 0]]), dtype='float32')\n",
    "b = K.variable(value=np.array([[1, 1, 1, 1], [1, 1, 1, 1]]), dtype='float32')\n",
    "print(K.get_value(hamming_discrete(a, b))) \n",
    "print(K.get_value(hamming_smooth(a, b))) "
   ]
  },
  {
   "cell_type": "markdown",
   "metadata": {},
   "source": [
    "Let's define the 1D convolutional model."
   ]
  },
  {
   "cell_type": "code",
<<<<<<< HEAD
   "execution_count": 27,
=======
   "execution_count": 19,
>>>>>>> vanilla
   "metadata": {},
   "outputs": [],
   "source": [
    "VALIDATION_SPLIT = 0.2 # ration for split of training data and test data\n",
    "NUM_EPOCHS = 20 # number of epochs the network is trained\n",
    "DROPOUT = 0.2\n",
    "REGULARIZATION = 0.1\n",
    "BATCH_SIZE = 64\n",
    "LR = 0.005\n",
    "\n",
    "sequence_input = Input(shape=(MAX_SEQUENCE_LENGTH,), dtype='int32')\n",
    "embedded_sequences = embedding_layer(sequence_input)\n",
    "x = Conv1D(128, 5, activation='relu', kernel_regularizer=regularizers.l2(REGULARIZATION))(embedded_sequences)\n",
    "x = MaxPooling1D(5)(x)\n",
    "x = Conv1D(128, 5, activation='relu', kernel_regularizer=regularizers.l2(REGULARIZATION))(x)\n",
    "x = MaxPooling1D(5)(x)\n",
    "x = Conv1D(128, 5, activation='relu', kernel_regularizer=regularizers.l2(REGULARIZATION))(x)\n",
    "x = MaxPooling1D(35)(x)  # global max pooling\n",
    "x = Flatten()(x)\n",
    "x = Dropout(DROPOUT)(x)\n",
    "x = Dense(128, activation='relu',kernel_regularizer=regularizers.l2(REGULARIZATION))(x)\n",
    "x = Dropout(DROPOUT)(x)\n",
    "preds = Dense(labels.shape[1], activation='sigmoid', kernel_regularizer=regularizers.l2(REGULARIZATION))(x)\n",
    "\n",
    "adam = keras.optimizers.Adam(lr=LR, beta_1=0.9, beta_2=0.999, epsilon=None, decay=0.0, amsgrad=False)\n",
    "\n",
    "model = Model(sequence_input, preds)\n",
    "model.compile(loss='binary_crossentropy',\n",
    "              optimizer=adam,\n",
    "              metrics=[hamming_discrete, f1, precision, recall])     "
   ]
  },
  {
   "cell_type": "code",
   "execution_count": 20,
   "metadata": {},
   "outputs": [],
   "source": [
    "from keras.models import Sequential\n",
    "from keras.layers.recurrent import GRU\n",
    "\n",
    "model2 = Sequential()\n",
    "model2.add(Embedding(MAX_NUM_WORDS, EMBEDDING_DIM,input_length = MAX_SEQUENCE_LENGTH))\n",
    "model2.add(GRU(128, dropout=0.25, return_sequences=True))\n",
    "model2.add(GRU(128, dropout=0.25))\n",
    "model2.add(Dense(labels.shape[1], activation='sigmoid'))\n",
    "model2.compile(loss='binary_crossentropy', optimizer='adam', metrics=[hamming_discrete, f1, precision, recall])"
   ]
  },
  {
   "cell_type": "code",
   "execution_count": 21,
   "metadata": {},
   "outputs": [
    {
     "name": "stdout",
     "output_type": "stream",
     "text": [
      "Train on 22744 samples, validate on 5687 samples\n",
      "Epoch 1/20\n",
      "22744/22744 [==============================] - 1176s 52ms/step - loss: 0.0016 - hamming_discrete: 0.1183 - f1: 0.0050 - precision: 0.1053 - recall: 0.0049 - val_loss: 0.0015 - val_hamming_discrete: 0.1139 - val_f1: 0.0216 - val_precision: 0.6551 - val_recall: 0.0110\n",
      "Epoch 2/20\n",
      "22744/22744 [==============================] - 1178s 52ms/step - loss: 0.0015 - hamming_discrete: 0.1124 - f1: 0.0830 - precision: 0.7277 - recall: 0.0451 - val_loss: 0.0014 - val_hamming_discrete: 0.1086 - val_f1: 0.1747 - val_precision: 0.6822 - val_recall: 0.1006\n",
      "Epoch 3/20\n",
      "22744/22744 [==============================] - 1169s 51ms/step - loss: 0.0013 - hamming_discrete: 0.1080 - f1: 0.2079 - precision: 0.6874 - recall: 0.1241 - val_loss: 0.0013 - val_hamming_discrete: 0.1105 - val_f1: 0.1607 - val_precision: 0.6242 - val_recall: 0.0929\n",
      "Epoch 4/20\n",
      "22744/22744 [==============================] - 1171s 51ms/step - loss: 0.0012 - hamming_discrete: 0.1054 - f1: 0.2812 - precision: 0.6660 - recall: 0.1803 - val_loss: 0.0013 - val_hamming_discrete: 0.1049 - val_f1: 0.2458 - val_precision: 0.6999 - val_recall: 0.1499\n",
      "Epoch 5/20\n",
      "22744/22744 [==============================] - 1171s 52ms/step - loss: 0.0011 - hamming_discrete: 0.1023 - f1: 0.3540 - precision: 0.6586 - recall: 0.2446 - val_loss: 0.0013 - val_hamming_discrete: 0.1053 - val_f1: 0.3010 - val_precision: 0.6301 - val_recall: 0.1987\n",
      "Epoch 6/20\n",
      "22744/22744 [==============================] - 1384s 61ms/step - loss: 0.0011 - hamming_discrete: 0.0996 - f1: 0.4080 - precision: 0.6555 - recall: 0.2993 - val_loss: 0.0013 - val_hamming_discrete: 0.1040 - val_f1: 0.3766 - val_precision: 0.6030 - val_recall: 0.2753\n",
      "Epoch 7/20\n",
      "22744/22744 [==============================] - 1373s 60ms/step - loss: 9.7565e-04 - hamming_discrete: 0.0935 - f1: 0.4753 - precision: 0.6768 - recall: 0.3681 - val_loss: 0.0013 - val_hamming_discrete: 0.1048 - val_f1: 0.4237 - val_precision: 0.5750 - val_recall: 0.3368\n",
      "Epoch 8/20\n",
      "22744/22744 [==============================] - 1319s 58ms/step - loss: 8.9531e-04 - hamming_discrete: 0.0886 - f1: 0.5255 - precision: 0.6889 - recall: 0.4267 - val_loss: 0.0013 - val_hamming_discrete: 0.1032 - val_f1: 0.4165 - val_precision: 0.5930 - val_recall: 0.3223\n",
      "Epoch 9/20\n",
      "22744/22744 [==============================] - 1367s 60ms/step - loss: 8.3558e-04 - hamming_discrete: 0.0849 - f1: 0.5596 - precision: 0.6986 - recall: 0.4684 - val_loss: 0.0013 - val_hamming_discrete: 0.1069 - val_f1: 0.4467 - val_precision: 0.5502 - val_recall: 0.3777\n",
      "Epoch 10/20\n",
      "22744/22744 [==============================] - 1454s 64ms/step - loss: 7.7707e-04 - hamming_discrete: 0.0810 - f1: 0.5878 - precision: 0.7129 - recall: 0.5017 - val_loss: 0.0013 - val_hamming_discrete: 0.1049 - val_f1: 0.4659 - val_precision: 0.5597 - val_recall: 0.4005\n",
      "Epoch 11/20\n",
      " 8000/22744 [=========>....................] - ETA: 15:45 - loss: 6.9941e-04 - hamming_discrete: 0.0751 - f1: 0.6238 - precision: 0.7393 - recall: 0.5414"
     ]
    },
    {
     "ename": "KeyboardInterrupt",
     "evalue": "",
     "output_type": "error",
     "traceback": [
      "\u001b[0;31m---------------------------------------------------------------------------\u001b[0m",
      "\u001b[0;31mKeyboardInterrupt\u001b[0m                         Traceback (most recent call last)",
      "\u001b[0;32m<ipython-input-21-5d1982a1f830>\u001b[0m in \u001b[0;36m<module>\u001b[0;34m()\u001b[0m\n\u001b[1;32m      1\u001b[0m history2 = model2.fit(train_data, train_labels, class_weight=class_weight, validation_split=VALIDATION_SPLIT,\n\u001b[0;32m----> 2\u001b[0;31m           epochs=NUM_EPOCHS, batch_size=BATCH_SIZE)\n\u001b[0m",
      "\u001b[0;32m~/anaconda3/lib/python3.6/site-packages/keras/models.py\u001b[0m in \u001b[0;36mfit\u001b[0;34m(self, x, y, batch_size, epochs, verbose, callbacks, validation_split, validation_data, shuffle, class_weight, sample_weight, initial_epoch, steps_per_epoch, validation_steps, **kwargs)\u001b[0m\n\u001b[1;32m   1000\u001b[0m                               \u001b[0minitial_epoch\u001b[0m\u001b[0;34m=\u001b[0m\u001b[0minitial_epoch\u001b[0m\u001b[0;34m,\u001b[0m\u001b[0;34m\u001b[0m\u001b[0m\n\u001b[1;32m   1001\u001b[0m                               \u001b[0msteps_per_epoch\u001b[0m\u001b[0;34m=\u001b[0m\u001b[0msteps_per_epoch\u001b[0m\u001b[0;34m,\u001b[0m\u001b[0;34m\u001b[0m\u001b[0m\n\u001b[0;32m-> 1002\u001b[0;31m                               validation_steps=validation_steps)\n\u001b[0m\u001b[1;32m   1003\u001b[0m \u001b[0;34m\u001b[0m\u001b[0m\n\u001b[1;32m   1004\u001b[0m     def evaluate(self, x=None, y=None,\n",
      "\u001b[0;32m~/anaconda3/lib/python3.6/site-packages/keras/engine/training.py\u001b[0m in \u001b[0;36mfit\u001b[0;34m(self, x, y, batch_size, epochs, verbose, callbacks, validation_split, validation_data, shuffle, class_weight, sample_weight, initial_epoch, steps_per_epoch, validation_steps, **kwargs)\u001b[0m\n\u001b[1;32m   1703\u001b[0m                               \u001b[0minitial_epoch\u001b[0m\u001b[0;34m=\u001b[0m\u001b[0minitial_epoch\u001b[0m\u001b[0;34m,\u001b[0m\u001b[0;34m\u001b[0m\u001b[0m\n\u001b[1;32m   1704\u001b[0m                               \u001b[0msteps_per_epoch\u001b[0m\u001b[0;34m=\u001b[0m\u001b[0msteps_per_epoch\u001b[0m\u001b[0;34m,\u001b[0m\u001b[0;34m\u001b[0m\u001b[0m\n\u001b[0;32m-> 1705\u001b[0;31m                               validation_steps=validation_steps)\n\u001b[0m\u001b[1;32m   1706\u001b[0m \u001b[0;34m\u001b[0m\u001b[0m\n\u001b[1;32m   1707\u001b[0m     def evaluate(self, x=None, y=None,\n",
      "\u001b[0;32m~/anaconda3/lib/python3.6/site-packages/keras/engine/training.py\u001b[0m in \u001b[0;36m_fit_loop\u001b[0;34m(self, f, ins, out_labels, batch_size, epochs, verbose, callbacks, val_f, val_ins, shuffle, callback_metrics, initial_epoch, steps_per_epoch, validation_steps)\u001b[0m\n\u001b[1;32m   1234\u001b[0m                         \u001b[0mins_batch\u001b[0m\u001b[0;34m[\u001b[0m\u001b[0mi\u001b[0m\u001b[0;34m]\u001b[0m \u001b[0;34m=\u001b[0m \u001b[0mins_batch\u001b[0m\u001b[0;34m[\u001b[0m\u001b[0mi\u001b[0m\u001b[0;34m]\u001b[0m\u001b[0;34m.\u001b[0m\u001b[0mtoarray\u001b[0m\u001b[0;34m(\u001b[0m\u001b[0;34m)\u001b[0m\u001b[0;34m\u001b[0m\u001b[0m\n\u001b[1;32m   1235\u001b[0m \u001b[0;34m\u001b[0m\u001b[0m\n\u001b[0;32m-> 1236\u001b[0;31m                     \u001b[0mouts\u001b[0m \u001b[0;34m=\u001b[0m \u001b[0mf\u001b[0m\u001b[0;34m(\u001b[0m\u001b[0mins_batch\u001b[0m\u001b[0;34m)\u001b[0m\u001b[0;34m\u001b[0m\u001b[0m\n\u001b[0m\u001b[1;32m   1237\u001b[0m                     \u001b[0;32mif\u001b[0m \u001b[0;32mnot\u001b[0m \u001b[0misinstance\u001b[0m\u001b[0;34m(\u001b[0m\u001b[0mouts\u001b[0m\u001b[0;34m,\u001b[0m \u001b[0mlist\u001b[0m\u001b[0;34m)\u001b[0m\u001b[0;34m:\u001b[0m\u001b[0;34m\u001b[0m\u001b[0m\n\u001b[1;32m   1238\u001b[0m                         \u001b[0mouts\u001b[0m \u001b[0;34m=\u001b[0m \u001b[0;34m[\u001b[0m\u001b[0mouts\u001b[0m\u001b[0;34m]\u001b[0m\u001b[0;34m\u001b[0m\u001b[0m\n",
      "\u001b[0;32m~/anaconda3/lib/python3.6/site-packages/keras/backend/tensorflow_backend.py\u001b[0m in \u001b[0;36m__call__\u001b[0;34m(self, inputs)\u001b[0m\n\u001b[1;32m   2480\u001b[0m         \u001b[0msession\u001b[0m \u001b[0;34m=\u001b[0m \u001b[0mget_session\u001b[0m\u001b[0;34m(\u001b[0m\u001b[0;34m)\u001b[0m\u001b[0;34m\u001b[0m\u001b[0m\n\u001b[1;32m   2481\u001b[0m         updated = session.run(fetches=fetches, feed_dict=feed_dict,\n\u001b[0;32m-> 2482\u001b[0;31m                               **self.session_kwargs)\n\u001b[0m\u001b[1;32m   2483\u001b[0m         \u001b[0;32mreturn\u001b[0m \u001b[0mupdated\u001b[0m\u001b[0;34m[\u001b[0m\u001b[0;34m:\u001b[0m\u001b[0mlen\u001b[0m\u001b[0;34m(\u001b[0m\u001b[0mself\u001b[0m\u001b[0;34m.\u001b[0m\u001b[0moutputs\u001b[0m\u001b[0;34m)\u001b[0m\u001b[0;34m]\u001b[0m\u001b[0;34m\u001b[0m\u001b[0m\n\u001b[1;32m   2484\u001b[0m \u001b[0;34m\u001b[0m\u001b[0m\n",
      "\u001b[0;32m~/anaconda3/lib/python3.6/site-packages/tensorflow/python/client/session.py\u001b[0m in \u001b[0;36mrun\u001b[0;34m(self, fetches, feed_dict, options, run_metadata)\u001b[0m\n\u001b[1;32m    898\u001b[0m     \u001b[0;32mtry\u001b[0m\u001b[0;34m:\u001b[0m\u001b[0;34m\u001b[0m\u001b[0m\n\u001b[1;32m    899\u001b[0m       result = self._run(None, fetches, feed_dict, options_ptr,\n\u001b[0;32m--> 900\u001b[0;31m                          run_metadata_ptr)\n\u001b[0m\u001b[1;32m    901\u001b[0m       \u001b[0;32mif\u001b[0m \u001b[0mrun_metadata\u001b[0m\u001b[0;34m:\u001b[0m\u001b[0;34m\u001b[0m\u001b[0m\n\u001b[1;32m    902\u001b[0m         \u001b[0mproto_data\u001b[0m \u001b[0;34m=\u001b[0m \u001b[0mtf_session\u001b[0m\u001b[0;34m.\u001b[0m\u001b[0mTF_GetBuffer\u001b[0m\u001b[0;34m(\u001b[0m\u001b[0mrun_metadata_ptr\u001b[0m\u001b[0;34m)\u001b[0m\u001b[0;34m\u001b[0m\u001b[0m\n",
      "\u001b[0;32m~/anaconda3/lib/python3.6/site-packages/tensorflow/python/client/session.py\u001b[0m in \u001b[0;36m_run\u001b[0;34m(self, handle, fetches, feed_dict, options, run_metadata)\u001b[0m\n\u001b[1;32m   1133\u001b[0m     \u001b[0;32mif\u001b[0m \u001b[0mfinal_fetches\u001b[0m \u001b[0;32mor\u001b[0m \u001b[0mfinal_targets\u001b[0m \u001b[0;32mor\u001b[0m \u001b[0;34m(\u001b[0m\u001b[0mhandle\u001b[0m \u001b[0;32mand\u001b[0m \u001b[0mfeed_dict_tensor\u001b[0m\u001b[0;34m)\u001b[0m\u001b[0;34m:\u001b[0m\u001b[0;34m\u001b[0m\u001b[0m\n\u001b[1;32m   1134\u001b[0m       results = self._do_run(handle, final_targets, final_fetches,\n\u001b[0;32m-> 1135\u001b[0;31m                              feed_dict_tensor, options, run_metadata)\n\u001b[0m\u001b[1;32m   1136\u001b[0m     \u001b[0;32melse\u001b[0m\u001b[0;34m:\u001b[0m\u001b[0;34m\u001b[0m\u001b[0m\n\u001b[1;32m   1137\u001b[0m       \u001b[0mresults\u001b[0m \u001b[0;34m=\u001b[0m \u001b[0;34m[\u001b[0m\u001b[0;34m]\u001b[0m\u001b[0;34m\u001b[0m\u001b[0m\n",
      "\u001b[0;32m~/anaconda3/lib/python3.6/site-packages/tensorflow/python/client/session.py\u001b[0m in \u001b[0;36m_do_run\u001b[0;34m(self, handle, target_list, fetch_list, feed_dict, options, run_metadata)\u001b[0m\n\u001b[1;32m   1314\u001b[0m     \u001b[0;32mif\u001b[0m \u001b[0mhandle\u001b[0m \u001b[0;32mis\u001b[0m \u001b[0;32mNone\u001b[0m\u001b[0;34m:\u001b[0m\u001b[0;34m\u001b[0m\u001b[0m\n\u001b[1;32m   1315\u001b[0m       return self._do_call(_run_fn, feeds, fetches, targets, options,\n\u001b[0;32m-> 1316\u001b[0;31m                            run_metadata)\n\u001b[0m\u001b[1;32m   1317\u001b[0m     \u001b[0;32melse\u001b[0m\u001b[0;34m:\u001b[0m\u001b[0;34m\u001b[0m\u001b[0m\n\u001b[1;32m   1318\u001b[0m       \u001b[0;32mreturn\u001b[0m \u001b[0mself\u001b[0m\u001b[0;34m.\u001b[0m\u001b[0m_do_call\u001b[0m\u001b[0;34m(\u001b[0m\u001b[0m_prun_fn\u001b[0m\u001b[0;34m,\u001b[0m \u001b[0mhandle\u001b[0m\u001b[0;34m,\u001b[0m \u001b[0mfeeds\u001b[0m\u001b[0;34m,\u001b[0m \u001b[0mfetches\u001b[0m\u001b[0;34m)\u001b[0m\u001b[0;34m\u001b[0m\u001b[0m\n",
      "\u001b[0;32m~/anaconda3/lib/python3.6/site-packages/tensorflow/python/client/session.py\u001b[0m in \u001b[0;36m_do_call\u001b[0;34m(self, fn, *args)\u001b[0m\n\u001b[1;32m   1320\u001b[0m   \u001b[0;32mdef\u001b[0m \u001b[0m_do_call\u001b[0m\u001b[0;34m(\u001b[0m\u001b[0mself\u001b[0m\u001b[0;34m,\u001b[0m \u001b[0mfn\u001b[0m\u001b[0;34m,\u001b[0m \u001b[0;34m*\u001b[0m\u001b[0margs\u001b[0m\u001b[0;34m)\u001b[0m\u001b[0;34m:\u001b[0m\u001b[0;34m\u001b[0m\u001b[0m\n\u001b[1;32m   1321\u001b[0m     \u001b[0;32mtry\u001b[0m\u001b[0;34m:\u001b[0m\u001b[0;34m\u001b[0m\u001b[0m\n\u001b[0;32m-> 1322\u001b[0;31m       \u001b[0;32mreturn\u001b[0m \u001b[0mfn\u001b[0m\u001b[0;34m(\u001b[0m\u001b[0;34m*\u001b[0m\u001b[0margs\u001b[0m\u001b[0;34m)\u001b[0m\u001b[0;34m\u001b[0m\u001b[0m\n\u001b[0m\u001b[1;32m   1323\u001b[0m     \u001b[0;32mexcept\u001b[0m \u001b[0merrors\u001b[0m\u001b[0;34m.\u001b[0m\u001b[0mOpError\u001b[0m \u001b[0;32mas\u001b[0m \u001b[0me\u001b[0m\u001b[0;34m:\u001b[0m\u001b[0;34m\u001b[0m\u001b[0m\n\u001b[1;32m   1324\u001b[0m       \u001b[0mmessage\u001b[0m \u001b[0;34m=\u001b[0m \u001b[0mcompat\u001b[0m\u001b[0;34m.\u001b[0m\u001b[0mas_text\u001b[0m\u001b[0;34m(\u001b[0m\u001b[0me\u001b[0m\u001b[0;34m.\u001b[0m\u001b[0mmessage\u001b[0m\u001b[0;34m)\u001b[0m\u001b[0;34m\u001b[0m\u001b[0m\n",
      "\u001b[0;32m~/anaconda3/lib/python3.6/site-packages/tensorflow/python/client/session.py\u001b[0m in \u001b[0;36m_run_fn\u001b[0;34m(feed_dict, fetch_list, target_list, options, run_metadata)\u001b[0m\n\u001b[1;32m   1305\u001b[0m       \u001b[0mself\u001b[0m\u001b[0;34m.\u001b[0m\u001b[0m_extend_graph\u001b[0m\u001b[0;34m(\u001b[0m\u001b[0;34m)\u001b[0m\u001b[0;34m\u001b[0m\u001b[0m\n\u001b[1;32m   1306\u001b[0m       return self._call_tf_sessionrun(\n\u001b[0;32m-> 1307\u001b[0;31m           options, feed_dict, fetch_list, target_list, run_metadata)\n\u001b[0m\u001b[1;32m   1308\u001b[0m \u001b[0;34m\u001b[0m\u001b[0m\n\u001b[1;32m   1309\u001b[0m     \u001b[0;32mdef\u001b[0m \u001b[0m_prun_fn\u001b[0m\u001b[0;34m(\u001b[0m\u001b[0mhandle\u001b[0m\u001b[0;34m,\u001b[0m \u001b[0mfeed_dict\u001b[0m\u001b[0;34m,\u001b[0m \u001b[0mfetch_list\u001b[0m\u001b[0;34m)\u001b[0m\u001b[0;34m:\u001b[0m\u001b[0;34m\u001b[0m\u001b[0m\n",
      "\u001b[0;32m~/anaconda3/lib/python3.6/site-packages/tensorflow/python/client/session.py\u001b[0m in \u001b[0;36m_call_tf_sessionrun\u001b[0;34m(self, options, feed_dict, fetch_list, target_list, run_metadata)\u001b[0m\n\u001b[1;32m   1407\u001b[0m       return tf_session.TF_SessionRun_wrapper(\n\u001b[1;32m   1408\u001b[0m           \u001b[0mself\u001b[0m\u001b[0;34m.\u001b[0m\u001b[0m_session\u001b[0m\u001b[0;34m,\u001b[0m \u001b[0moptions\u001b[0m\u001b[0;34m,\u001b[0m \u001b[0mfeed_dict\u001b[0m\u001b[0;34m,\u001b[0m \u001b[0mfetch_list\u001b[0m\u001b[0;34m,\u001b[0m \u001b[0mtarget_list\u001b[0m\u001b[0;34m,\u001b[0m\u001b[0;34m\u001b[0m\u001b[0m\n\u001b[0;32m-> 1409\u001b[0;31m           run_metadata)\n\u001b[0m\u001b[1;32m   1410\u001b[0m     \u001b[0;32melse\u001b[0m\u001b[0;34m:\u001b[0m\u001b[0;34m\u001b[0m\u001b[0m\n\u001b[1;32m   1411\u001b[0m       \u001b[0;32mwith\u001b[0m \u001b[0merrors\u001b[0m\u001b[0;34m.\u001b[0m\u001b[0mraise_exception_on_not_ok_status\u001b[0m\u001b[0;34m(\u001b[0m\u001b[0;34m)\u001b[0m \u001b[0;32mas\u001b[0m \u001b[0mstatus\u001b[0m\u001b[0;34m:\u001b[0m\u001b[0;34m\u001b[0m\u001b[0m\n",
      "\u001b[0;31mKeyboardInterrupt\u001b[0m: "
     ]
    }
   ],
   "source": [
    "history2 = model2.fit(train_data, train_labels, class_weight=class_weight, validation_split=VALIDATION_SPLIT,\n",
    "          epochs=NUM_EPOCHS, batch_size=BATCH_SIZE)"
   ]
  },
  {
   "cell_type": "code",
   "execution_count": 73,
   "metadata": {},
   "outputs": [
    {
     "name": "stdout",
     "output_type": "stream",
     "text": [
      "Train on 25587 samples, validate on 2844 samples\n",
      "Epoch 1/15\n",
      "25587/25587 [==============================] - 249s 10ms/step - loss: 3.7334 - hamming_smooth: 0.4581 - f1: 0.0149 - precision: 0.0384 - recall: 0.0228 - val_loss: 0.0030 - val_hamming_smooth: 0.4283 - val_f1: 0.0000e+00 - val_precision: 0.0000e+00 - val_recall: 0.0000e+00\n",
      "Epoch 2/15\n",
      "25587/25587 [==============================] - 257s 10ms/step - loss: 0.0024 - hamming_smooth: 0.3990 - f1: 0.0000e+00 - precision: 0.0000e+00 - recall: 0.0000e+00 - val_loss: 0.0022 - val_hamming_smooth: 0.3707 - val_f1: 0.0000e+00 - val_precision: 0.0000e+00 - val_recall: 0.0000e+00\n",
      "Epoch 3/15\n",
      "25587/25587 [==============================] - 246s 10ms/step - loss: 0.0021 - hamming_smooth: 0.3476 - f1: 0.0000e+00 - precision: 0.0000e+00 - recall: 0.0000e+00 - val_loss: 0.0020 - val_hamming_smooth: 0.3257 - val_f1: 0.0000e+00 - val_precision: 0.0000e+00 - val_recall: 0.0000e+00\n",
      "Epoch 4/15\n",
      "16512/25587 [==================>...........] - ETA: 1:34 - loss: 0.0019 - hamming_smooth: 0.3144 - f1: 0.0000e+00 - precision: 0.0000e+00 - recall: 0.0000e+00"
     ]
    },
    {
     "ename": "KeyboardInterrupt",
     "evalue": "",
     "output_type": "error",
     "traceback": [
      "\u001b[0;31m---------------------------------------------------------------------------\u001b[0m",
      "\u001b[0;31mKeyboardInterrupt\u001b[0m                         Traceback (most recent call last)",
      "\u001b[0;32m<ipython-input-73-95fcf4ab7d31>\u001b[0m in \u001b[0;36m<module>\u001b[0;34m()\u001b[0m\n\u001b[1;32m      1\u001b[0m history = model.fit(train_data, train_labels, class_weight=class_weight, validation_split=VALIDATION_SPLIT,\n\u001b[0;32m----> 2\u001b[0;31m           epochs=NUM_EPOCHS, batch_size=BATCH_SIZE)     \n\u001b[0m",
      "\u001b[0;32m~/anaconda3/lib/python3.6/site-packages/keras/engine/training.py\u001b[0m in \u001b[0;36mfit\u001b[0;34m(self, x, y, batch_size, epochs, verbose, callbacks, validation_split, validation_data, shuffle, class_weight, sample_weight, initial_epoch, steps_per_epoch, validation_steps, **kwargs)\u001b[0m\n\u001b[1;32m   1703\u001b[0m                               \u001b[0minitial_epoch\u001b[0m\u001b[0;34m=\u001b[0m\u001b[0minitial_epoch\u001b[0m\u001b[0;34m,\u001b[0m\u001b[0;34m\u001b[0m\u001b[0m\n\u001b[1;32m   1704\u001b[0m                               \u001b[0msteps_per_epoch\u001b[0m\u001b[0;34m=\u001b[0m\u001b[0msteps_per_epoch\u001b[0m\u001b[0;34m,\u001b[0m\u001b[0;34m\u001b[0m\u001b[0m\n\u001b[0;32m-> 1705\u001b[0;31m                               validation_steps=validation_steps)\n\u001b[0m\u001b[1;32m   1706\u001b[0m \u001b[0;34m\u001b[0m\u001b[0m\n\u001b[1;32m   1707\u001b[0m     def evaluate(self, x=None, y=None,\n",
      "\u001b[0;32m~/anaconda3/lib/python3.6/site-packages/keras/engine/training.py\u001b[0m in \u001b[0;36m_fit_loop\u001b[0;34m(self, f, ins, out_labels, batch_size, epochs, verbose, callbacks, val_f, val_ins, shuffle, callback_metrics, initial_epoch, steps_per_epoch, validation_steps)\u001b[0m\n\u001b[1;32m   1234\u001b[0m                         \u001b[0mins_batch\u001b[0m\u001b[0;34m[\u001b[0m\u001b[0mi\u001b[0m\u001b[0;34m]\u001b[0m \u001b[0;34m=\u001b[0m \u001b[0mins_batch\u001b[0m\u001b[0;34m[\u001b[0m\u001b[0mi\u001b[0m\u001b[0;34m]\u001b[0m\u001b[0;34m.\u001b[0m\u001b[0mtoarray\u001b[0m\u001b[0;34m(\u001b[0m\u001b[0;34m)\u001b[0m\u001b[0;34m\u001b[0m\u001b[0m\n\u001b[1;32m   1235\u001b[0m \u001b[0;34m\u001b[0m\u001b[0m\n\u001b[0;32m-> 1236\u001b[0;31m                     \u001b[0mouts\u001b[0m \u001b[0;34m=\u001b[0m \u001b[0mf\u001b[0m\u001b[0;34m(\u001b[0m\u001b[0mins_batch\u001b[0m\u001b[0;34m)\u001b[0m\u001b[0;34m\u001b[0m\u001b[0m\n\u001b[0m\u001b[1;32m   1237\u001b[0m                     \u001b[0;32mif\u001b[0m \u001b[0;32mnot\u001b[0m \u001b[0misinstance\u001b[0m\u001b[0;34m(\u001b[0m\u001b[0mouts\u001b[0m\u001b[0;34m,\u001b[0m \u001b[0mlist\u001b[0m\u001b[0;34m)\u001b[0m\u001b[0;34m:\u001b[0m\u001b[0;34m\u001b[0m\u001b[0m\n\u001b[1;32m   1238\u001b[0m                         \u001b[0mouts\u001b[0m \u001b[0;34m=\u001b[0m \u001b[0;34m[\u001b[0m\u001b[0mouts\u001b[0m\u001b[0;34m]\u001b[0m\u001b[0;34m\u001b[0m\u001b[0m\n",
      "\u001b[0;32m~/anaconda3/lib/python3.6/site-packages/keras/backend/tensorflow_backend.py\u001b[0m in \u001b[0;36m__call__\u001b[0;34m(self, inputs)\u001b[0m\n\u001b[1;32m   2480\u001b[0m         \u001b[0msession\u001b[0m \u001b[0;34m=\u001b[0m \u001b[0mget_session\u001b[0m\u001b[0;34m(\u001b[0m\u001b[0;34m)\u001b[0m\u001b[0;34m\u001b[0m\u001b[0m\n\u001b[1;32m   2481\u001b[0m         updated = session.run(fetches=fetches, feed_dict=feed_dict,\n\u001b[0;32m-> 2482\u001b[0;31m                               **self.session_kwargs)\n\u001b[0m\u001b[1;32m   2483\u001b[0m         \u001b[0;32mreturn\u001b[0m \u001b[0mupdated\u001b[0m\u001b[0;34m[\u001b[0m\u001b[0;34m:\u001b[0m\u001b[0mlen\u001b[0m\u001b[0;34m(\u001b[0m\u001b[0mself\u001b[0m\u001b[0;34m.\u001b[0m\u001b[0moutputs\u001b[0m\u001b[0;34m)\u001b[0m\u001b[0;34m]\u001b[0m\u001b[0;34m\u001b[0m\u001b[0m\n\u001b[1;32m   2484\u001b[0m \u001b[0;34m\u001b[0m\u001b[0m\n",
      "\u001b[0;32m~/anaconda3/lib/python3.6/site-packages/tensorflow/python/client/session.py\u001b[0m in \u001b[0;36mrun\u001b[0;34m(self, fetches, feed_dict, options, run_metadata)\u001b[0m\n\u001b[1;32m    898\u001b[0m     \u001b[0;32mtry\u001b[0m\u001b[0;34m:\u001b[0m\u001b[0;34m\u001b[0m\u001b[0m\n\u001b[1;32m    899\u001b[0m       result = self._run(None, fetches, feed_dict, options_ptr,\n\u001b[0;32m--> 900\u001b[0;31m                          run_metadata_ptr)\n\u001b[0m\u001b[1;32m    901\u001b[0m       \u001b[0;32mif\u001b[0m \u001b[0mrun_metadata\u001b[0m\u001b[0;34m:\u001b[0m\u001b[0;34m\u001b[0m\u001b[0m\n\u001b[1;32m    902\u001b[0m         \u001b[0mproto_data\u001b[0m \u001b[0;34m=\u001b[0m \u001b[0mtf_session\u001b[0m\u001b[0;34m.\u001b[0m\u001b[0mTF_GetBuffer\u001b[0m\u001b[0;34m(\u001b[0m\u001b[0mrun_metadata_ptr\u001b[0m\u001b[0;34m)\u001b[0m\u001b[0;34m\u001b[0m\u001b[0m\n",
      "\u001b[0;32m~/anaconda3/lib/python3.6/site-packages/tensorflow/python/client/session.py\u001b[0m in \u001b[0;36m_run\u001b[0;34m(self, handle, fetches, feed_dict, options, run_metadata)\u001b[0m\n\u001b[1;32m   1133\u001b[0m     \u001b[0;32mif\u001b[0m \u001b[0mfinal_fetches\u001b[0m \u001b[0;32mor\u001b[0m \u001b[0mfinal_targets\u001b[0m \u001b[0;32mor\u001b[0m \u001b[0;34m(\u001b[0m\u001b[0mhandle\u001b[0m \u001b[0;32mand\u001b[0m \u001b[0mfeed_dict_tensor\u001b[0m\u001b[0;34m)\u001b[0m\u001b[0;34m:\u001b[0m\u001b[0;34m\u001b[0m\u001b[0m\n\u001b[1;32m   1134\u001b[0m       results = self._do_run(handle, final_targets, final_fetches,\n\u001b[0;32m-> 1135\u001b[0;31m                              feed_dict_tensor, options, run_metadata)\n\u001b[0m\u001b[1;32m   1136\u001b[0m     \u001b[0;32melse\u001b[0m\u001b[0;34m:\u001b[0m\u001b[0;34m\u001b[0m\u001b[0m\n\u001b[1;32m   1137\u001b[0m       \u001b[0mresults\u001b[0m \u001b[0;34m=\u001b[0m \u001b[0;34m[\u001b[0m\u001b[0;34m]\u001b[0m\u001b[0;34m\u001b[0m\u001b[0m\n",
      "\u001b[0;32m~/anaconda3/lib/python3.6/site-packages/tensorflow/python/client/session.py\u001b[0m in \u001b[0;36m_do_run\u001b[0;34m(self, handle, target_list, fetch_list, feed_dict, options, run_metadata)\u001b[0m\n\u001b[1;32m   1314\u001b[0m     \u001b[0;32mif\u001b[0m \u001b[0mhandle\u001b[0m \u001b[0;32mis\u001b[0m \u001b[0;32mNone\u001b[0m\u001b[0;34m:\u001b[0m\u001b[0;34m\u001b[0m\u001b[0m\n\u001b[1;32m   1315\u001b[0m       return self._do_call(_run_fn, feeds, fetches, targets, options,\n\u001b[0;32m-> 1316\u001b[0;31m                            run_metadata)\n\u001b[0m\u001b[1;32m   1317\u001b[0m     \u001b[0;32melse\u001b[0m\u001b[0;34m:\u001b[0m\u001b[0;34m\u001b[0m\u001b[0m\n\u001b[1;32m   1318\u001b[0m       \u001b[0;32mreturn\u001b[0m \u001b[0mself\u001b[0m\u001b[0;34m.\u001b[0m\u001b[0m_do_call\u001b[0m\u001b[0;34m(\u001b[0m\u001b[0m_prun_fn\u001b[0m\u001b[0;34m,\u001b[0m \u001b[0mhandle\u001b[0m\u001b[0;34m,\u001b[0m \u001b[0mfeeds\u001b[0m\u001b[0;34m,\u001b[0m \u001b[0mfetches\u001b[0m\u001b[0;34m)\u001b[0m\u001b[0;34m\u001b[0m\u001b[0m\n",
      "\u001b[0;32m~/anaconda3/lib/python3.6/site-packages/tensorflow/python/client/session.py\u001b[0m in \u001b[0;36m_do_call\u001b[0;34m(self, fn, *args)\u001b[0m\n\u001b[1;32m   1320\u001b[0m   \u001b[0;32mdef\u001b[0m \u001b[0m_do_call\u001b[0m\u001b[0;34m(\u001b[0m\u001b[0mself\u001b[0m\u001b[0;34m,\u001b[0m \u001b[0mfn\u001b[0m\u001b[0;34m,\u001b[0m \u001b[0;34m*\u001b[0m\u001b[0margs\u001b[0m\u001b[0;34m)\u001b[0m\u001b[0;34m:\u001b[0m\u001b[0;34m\u001b[0m\u001b[0m\n\u001b[1;32m   1321\u001b[0m     \u001b[0;32mtry\u001b[0m\u001b[0;34m:\u001b[0m\u001b[0;34m\u001b[0m\u001b[0m\n\u001b[0;32m-> 1322\u001b[0;31m       \u001b[0;32mreturn\u001b[0m \u001b[0mfn\u001b[0m\u001b[0;34m(\u001b[0m\u001b[0;34m*\u001b[0m\u001b[0margs\u001b[0m\u001b[0;34m)\u001b[0m\u001b[0;34m\u001b[0m\u001b[0m\n\u001b[0m\u001b[1;32m   1323\u001b[0m     \u001b[0;32mexcept\u001b[0m \u001b[0merrors\u001b[0m\u001b[0;34m.\u001b[0m\u001b[0mOpError\u001b[0m \u001b[0;32mas\u001b[0m \u001b[0me\u001b[0m\u001b[0;34m:\u001b[0m\u001b[0;34m\u001b[0m\u001b[0m\n\u001b[1;32m   1324\u001b[0m       \u001b[0mmessage\u001b[0m \u001b[0;34m=\u001b[0m \u001b[0mcompat\u001b[0m\u001b[0;34m.\u001b[0m\u001b[0mas_text\u001b[0m\u001b[0;34m(\u001b[0m\u001b[0me\u001b[0m\u001b[0;34m.\u001b[0m\u001b[0mmessage\u001b[0m\u001b[0;34m)\u001b[0m\u001b[0;34m\u001b[0m\u001b[0m\n",
      "\u001b[0;32m~/anaconda3/lib/python3.6/site-packages/tensorflow/python/client/session.py\u001b[0m in \u001b[0;36m_run_fn\u001b[0;34m(feed_dict, fetch_list, target_list, options, run_metadata)\u001b[0m\n\u001b[1;32m   1305\u001b[0m       \u001b[0mself\u001b[0m\u001b[0;34m.\u001b[0m\u001b[0m_extend_graph\u001b[0m\u001b[0;34m(\u001b[0m\u001b[0;34m)\u001b[0m\u001b[0;34m\u001b[0m\u001b[0m\n\u001b[1;32m   1306\u001b[0m       return self._call_tf_sessionrun(\n\u001b[0;32m-> 1307\u001b[0;31m           options, feed_dict, fetch_list, target_list, run_metadata)\n\u001b[0m\u001b[1;32m   1308\u001b[0m \u001b[0;34m\u001b[0m\u001b[0m\n\u001b[1;32m   1309\u001b[0m     \u001b[0;32mdef\u001b[0m \u001b[0m_prun_fn\u001b[0m\u001b[0;34m(\u001b[0m\u001b[0mhandle\u001b[0m\u001b[0;34m,\u001b[0m \u001b[0mfeed_dict\u001b[0m\u001b[0;34m,\u001b[0m \u001b[0mfetch_list\u001b[0m\u001b[0;34m)\u001b[0m\u001b[0;34m:\u001b[0m\u001b[0;34m\u001b[0m\u001b[0m\n",
      "\u001b[0;32m~/anaconda3/lib/python3.6/site-packages/tensorflow/python/client/session.py\u001b[0m in \u001b[0;36m_call_tf_sessionrun\u001b[0;34m(self, options, feed_dict, fetch_list, target_list, run_metadata)\u001b[0m\n\u001b[1;32m   1407\u001b[0m       return tf_session.TF_SessionRun_wrapper(\n\u001b[1;32m   1408\u001b[0m           \u001b[0mself\u001b[0m\u001b[0;34m.\u001b[0m\u001b[0m_session\u001b[0m\u001b[0;34m,\u001b[0m \u001b[0moptions\u001b[0m\u001b[0;34m,\u001b[0m \u001b[0mfeed_dict\u001b[0m\u001b[0;34m,\u001b[0m \u001b[0mfetch_list\u001b[0m\u001b[0;34m,\u001b[0m \u001b[0mtarget_list\u001b[0m\u001b[0;34m,\u001b[0m\u001b[0;34m\u001b[0m\u001b[0m\n\u001b[0;32m-> 1409\u001b[0;31m           run_metadata)\n\u001b[0m\u001b[1;32m   1410\u001b[0m     \u001b[0;32melse\u001b[0m\u001b[0;34m:\u001b[0m\u001b[0;34m\u001b[0m\u001b[0m\n\u001b[1;32m   1411\u001b[0m       \u001b[0;32mwith\u001b[0m \u001b[0merrors\u001b[0m\u001b[0;34m.\u001b[0m\u001b[0mraise_exception_on_not_ok_status\u001b[0m\u001b[0;34m(\u001b[0m\u001b[0;34m)\u001b[0m \u001b[0;32mas\u001b[0m \u001b[0mstatus\u001b[0m\u001b[0;34m:\u001b[0m\u001b[0;34m\u001b[0m\u001b[0m\n",
      "\u001b[0;31mKeyboardInterrupt\u001b[0m: "
     ]
    }
   ],
   "source": [
    "history = model.fit(train_data, train_labels, class_weight=class_weight, validation_split=VALIDATION_SPLIT,\n",
    "          epochs=NUM_EPOCHS, batch_size=BATCH_SIZE)     "
   ]
  },
  {
   "cell_type": "code",
   "execution_count": 62,
   "metadata": {},
   "outputs": [],
   "source": [
    "model.save(\"model_EP_%s_DO_%s_REG_%s_BAT_%s_LR_%s.h5\" % (str(NUM_EPOCHS), \n",
    "                                                        str(DROPOUT), \n",
    "                                                        str(REGULARIZATION), \n",
    "                                                        str(BATCH_SIZE), \n",
    "                                                        str(LR)))"
   ]
  },
  {
   "cell_type": "code",
   "execution_count": 30,
   "metadata": {},
   "outputs": [
    {
     "name": "stdout",
     "output_type": "stream",
     "text": [
      "3\n"
     ]
    }
   ],
   "source": [
    "loss = history2.history['loss']\n",
    "val_loss = history2.history['val_loss']\n",
    "hamd = history2.history['hamming_discrete']\n",
    "val_hamd = history2.history['val_hamming_discrete']\n",
    "f1 = history2.history['f1']\n",
    "val_f1 = history2.history['val_f1']\n",
    "\n",
    "prec = history2.history['precision']\n",
    "val_prec = history2.history['val_precision']\n",
    "\n",
    "rec = history2.history['recall']\n",
    "val_rec = history2.history['val_recall']\n",
    "\n",
    "print(len(hams))"
   ]
  },
  {
   "cell_type": "code",
   "execution_count": 32,
   "metadata": {},
   "outputs": [
    {
     "data": {
      "image/png": "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\n",
      "text/plain": [
       "<matplotlib.figure.Figure at 0x1a51219c18>"
      ]
     },
     "metadata": {},
     "output_type": "display_data"
    }
   ],
   "source": [
    "epochs = range(len(hams))                \n",
    "fig, (ax1, ax2, ax3, ax4, ax5) = plt.subplots(nrows=1, ncols=5, figsize=(25, 5))\n",
    "ax1.plot(epochs, hamd, label='Training hams')\n",
    "ax1.plot(epochs, val_hamd, label='Validation hams')\n",
    "ax1.set_ylabel('hams')\n",
    "ax1.set_xlabel('epoch')\n",
    "ax1.set_title('Hamming Smooth')\n",
    "ax1.legend()\n",
    "ax2.plot(epochs, loss, label='Training loss')\n",
    "ax2.plot(epochs, val_loss, label='Validation loss')\n",
    "ax2.set_ylabel('loss')\n",
    "ax2.set_xlabel('epoch')\n",
    "ax2.set_title('Loss')\n",
    "ax2.legend()\n",
    "ax3.plot(epochs, f1, label='Training f1')\n",
    "ax3.plot(epochs, val_f1, label='Validation f1')\n",
    "ax3.set_ylabel('f1')\n",
    "ax3.set_xlabel('epoch')\n",
    "ax3.set_title('F1')\n",
    "ax3.legend()\n",
    "\n",
    "ax4.plot(epochs, prec, label='Training precision')\n",
    "ax4.plot(epochs, val_prec, label='Validation precision')\n",
    "ax4.set_ylabel('precision')\n",
    "ax4.set_xlabel('epoch')\n",
    "ax4.set_title('Precision')\n",
    "ax4.legend()\n",
    "\n",
    "ax5.plot(epochs, rec, label='Training recall')\n",
    "ax5.plot(epochs, val_rec, label='Validation recall')\n",
    "ax5.set_ylabel('recall')\n",
    "ax5.set_xlabel('epoch')\n",
    "ax5.set_title('Recall')\n",
    "ax5.legend()\n",
    "fig.savefig(\"figures/model_EP_%s_DO_%s_REG_%s_BAT_%s_LR_%s.png\" % (str(NUM_EPOCHS), \n",
    "                                                        str(DROPOUT), \n",
    "                                                        str(REGULARIZATION), \n",
    "                                                        str(BATCH_SIZE), \n",
    "                                                        str(LR)))\n",
    "plt.show()"
   ]
  },
  {
   "cell_type": "markdown",
   "metadata": {},
   "source": [
    "Now the model needs to be trained."
   ]
  },
  {
   "cell_type": "markdown",
   "metadata": {},
   "source": [
    "Save the model to disc!"
   ]
  },
  {
   "cell_type": "markdown",
   "metadata": {},
   "source": [
    "Predict using an example from the training set. Later we should also create a dev set for prediction."
   ]
  },
  {
   "cell_type": "code",
   "execution_count": 202,
   "metadata": {},
   "outputs": [],
   "source": [
    "pred_labels = model.predict(cross_data) "
   ]
  },
  {
   "cell_type": "code",
   "execution_count": 208,
   "metadata": {},
   "outputs": [
    {
     "name": "stdout",
     "output_type": "stream",
     "text": [
      "3158\n",
      "[[  0   0   0 ...  92 248 249]\n",
      " [  0   0   0 ...   2   4  61]\n",
      " [  0   0   0 ... 168 216 154]]\n"
     ]
    }
   ],
   "source": [
    "print(len(cross_data))\n",
    "print(cross_data[:3])"
   ]
  },
  {
   "cell_type": "code",
   "execution_count": 203,
   "metadata": {},
   "outputs": [
    {
     "name": "stdout",
     "output_type": "stream",
     "text": [
      "[[0.14268251 0.13386516 0.127992   0.13366176 0.23746625 0.30941272\n",
      "  0.08905782 0.12455983 0.18153088 0.16344115 0.07807428 0.20476465\n",
      "  0.13379875 0.11848306 0.04234635 0.04055779 0.05395932 0.03856628\n",
      "  0.02156985 0.00409752]\n",
      " [0.14268251 0.13386516 0.127992   0.13366176 0.23746625 0.30941272\n",
      "  0.08905782 0.12455983 0.18153088 0.16344115 0.07807428 0.20476465\n",
      "  0.13379875 0.11848306 0.04234635 0.04055779 0.05395932 0.03856628\n",
      "  0.02156985 0.00409752]\n",
      " [0.14268251 0.13386516 0.127992   0.13366176 0.23746625 0.30941272\n",
      "  0.08905782 0.12455983 0.18153088 0.16344115 0.07807428 0.20476465\n",
      "  0.13379875 0.11848306 0.04234635 0.04055779 0.05395932 0.03856628\n",
      "  0.02156985 0.00409752]\n",
      " [0.14268251 0.13386516 0.127992   0.13366176 0.23746625 0.30941272\n",
      "  0.08905782 0.12455983 0.18153088 0.16344115 0.07807428 0.20476465\n",
      "  0.13379875 0.11848306 0.04234635 0.04055779 0.05395932 0.03856628\n",
      "  0.02156985 0.00409752]\n",
      " [0.14268251 0.13386516 0.127992   0.13366176 0.23746625 0.30941272\n",
      "  0.08905782 0.12455983 0.18153088 0.16344115 0.07807428 0.20476465\n",
      "  0.13379875 0.11848306 0.04234635 0.04055779 0.05395932 0.03856628\n",
      "  0.02156985 0.00409752]\n",
      " [0.14268251 0.13386516 0.127992   0.13366176 0.23746625 0.30941272\n",
      "  0.08905782 0.12455983 0.18153088 0.16344115 0.07807428 0.20476465\n",
      "  0.13379875 0.11848306 0.04234635 0.04055779 0.05395932 0.03856628\n",
      "  0.02156985 0.00409752]\n",
      " [0.14268251 0.13386516 0.127992   0.13366176 0.23746625 0.30941272\n",
      "  0.08905782 0.12455983 0.18153088 0.16344115 0.07807428 0.20476465\n",
      "  0.13379875 0.11848306 0.04234635 0.04055779 0.05395932 0.03856628\n",
      "  0.02156985 0.00409752]\n",
      " [0.14268251 0.13386516 0.127992   0.13366176 0.23746625 0.30941272\n",
      "  0.08905782 0.12455983 0.18153088 0.16344115 0.07807428 0.20476465\n",
      "  0.13379875 0.11848306 0.04234635 0.04055779 0.05395932 0.03856628\n",
      "  0.02156985 0.00409752]\n",
      " [0.14268251 0.13386516 0.127992   0.13366176 0.23746625 0.30941272\n",
      "  0.08905782 0.12455983 0.18153088 0.16344115 0.07807428 0.20476465\n",
      "  0.13379875 0.11848306 0.04234635 0.04055779 0.05395932 0.03856628\n",
      "  0.02156985 0.00409752]\n",
      " [0.14268251 0.13386516 0.127992   0.13366176 0.23746625 0.30941272\n",
      "  0.08905782 0.12455983 0.18153088 0.16344115 0.07807428 0.20476465\n",
      "  0.13379875 0.11848306 0.04234635 0.04055779 0.05395932 0.03856628\n",
      "  0.02156985 0.00409752]\n",
      " [0.14268251 0.13386516 0.127992   0.13366176 0.23746625 0.30941272\n",
      "  0.08905782 0.12455983 0.18153088 0.16344115 0.07807428 0.20476465\n",
      "  0.13379875 0.11848306 0.04234635 0.04055779 0.05395932 0.03856628\n",
      "  0.02156985 0.00409752]\n",
      " [0.14268251 0.13386516 0.127992   0.13366176 0.23746625 0.30941272\n",
      "  0.08905782 0.12455983 0.18153088 0.16344115 0.07807428 0.20476465\n",
      "  0.13379875 0.11848306 0.04234635 0.04055779 0.05395932 0.03856628\n",
      "  0.02156985 0.00409752]\n",
      " [0.14268251 0.13386516 0.127992   0.13366176 0.23746625 0.30941272\n",
      "  0.08905782 0.12455983 0.18153088 0.16344115 0.07807428 0.20476465\n",
      "  0.13379875 0.11848306 0.04234635 0.04055779 0.05395932 0.03856628\n",
      "  0.02156985 0.00409752]\n",
      " [0.14268251 0.13386516 0.127992   0.13366176 0.23746625 0.30941272\n",
      "  0.08905782 0.12455983 0.18153088 0.16344115 0.07807428 0.20476465\n",
      "  0.13379875 0.11848306 0.04234635 0.04055779 0.05395932 0.03856628\n",
      "  0.02156985 0.00409752]\n",
      " [0.14268251 0.13386516 0.127992   0.13366176 0.23746625 0.30941272\n",
      "  0.08905782 0.12455983 0.18153088 0.16344115 0.07807428 0.20476465\n",
      "  0.13379875 0.11848306 0.04234635 0.04055779 0.05395932 0.03856628\n",
      "  0.02156985 0.00409752]\n",
      " [0.14268251 0.13386516 0.127992   0.13366176 0.23746625 0.30941272\n",
      "  0.08905782 0.12455983 0.18153088 0.16344115 0.07807428 0.20476465\n",
      "  0.13379875 0.11848306 0.04234635 0.04055779 0.05395932 0.03856628\n",
      "  0.02156985 0.00409752]\n",
      " [0.14268251 0.13386516 0.127992   0.13366176 0.23746625 0.30941272\n",
      "  0.08905782 0.12455983 0.18153088 0.16344115 0.07807428 0.20476465\n",
      "  0.13379875 0.11848306 0.04234635 0.04055779 0.05395932 0.03856628\n",
      "  0.02156985 0.00409752]\n",
      " [0.14268251 0.13386516 0.127992   0.13366176 0.23746625 0.30941272\n",
      "  0.08905782 0.12455983 0.18153088 0.16344115 0.07807428 0.20476465\n",
      "  0.13379875 0.11848306 0.04234635 0.04055779 0.05395932 0.03856628\n",
      "  0.02156985 0.00409752]\n",
      " [0.14268251 0.13386516 0.127992   0.13366176 0.23746625 0.30941272\n",
      "  0.08905782 0.12455983 0.18153088 0.16344115 0.07807428 0.20476465\n",
      "  0.13379875 0.11848306 0.04234635 0.04055779 0.05395932 0.03856628\n",
      "  0.02156985 0.00409752]\n",
      " [0.14268251 0.13386516 0.127992   0.13366176 0.23746625 0.30941272\n",
      "  0.08905782 0.12455983 0.18153088 0.16344115 0.07807428 0.20476465\n",
      "  0.13379875 0.11848306 0.04234635 0.04055779 0.05395932 0.03856628\n",
      "  0.02156985 0.00409752]\n",
      " [0.14268251 0.13386516 0.127992   0.13366176 0.23746625 0.30941272\n",
      "  0.08905782 0.12455983 0.18153088 0.16344115 0.07807428 0.20476465\n",
      "  0.13379875 0.11848306 0.04234635 0.04055779 0.05395932 0.03856628\n",
      "  0.02156985 0.00409752]\n",
      " [0.14268251 0.13386516 0.127992   0.13366176 0.23746625 0.30941272\n",
      "  0.08905782 0.12455983 0.18153088 0.16344115 0.07807428 0.20476465\n",
      "  0.13379875 0.11848306 0.04234635 0.04055779 0.05395932 0.03856628\n",
      "  0.02156985 0.00409752]\n",
      " [0.14268251 0.13386516 0.127992   0.13366176 0.23746625 0.30941272\n",
      "  0.08905782 0.12455983 0.18153088 0.16344115 0.07807428 0.20476465\n",
      "  0.13379875 0.11848306 0.04234635 0.04055779 0.05395932 0.03856628\n",
      "  0.02156985 0.00409752]\n",
      " [0.14268251 0.13386516 0.127992   0.13366176 0.23746625 0.30941272\n",
      "  0.08905782 0.12455983 0.18153088 0.16344115 0.07807428 0.20476465\n",
      "  0.13379875 0.11848306 0.04234635 0.04055779 0.05395932 0.03856628\n",
      "  0.02156985 0.00409752]\n",
      " [0.14268251 0.13386516 0.127992   0.13366176 0.23746625 0.30941272\n",
      "  0.08905782 0.12455983 0.18153088 0.16344115 0.07807428 0.20476465\n",
      "  0.13379875 0.11848306 0.04234635 0.04055779 0.05395932 0.03856628\n",
      "  0.02156985 0.00409752]\n",
      " [0.14268251 0.13386516 0.127992   0.13366176 0.23746625 0.30941272\n",
      "  0.08905782 0.12455983 0.18153088 0.16344115 0.07807428 0.20476465\n",
      "  0.13379875 0.11848306 0.04234635 0.04055779 0.05395932 0.03856628\n",
      "  0.02156985 0.00409752]\n",
      " [0.14268251 0.13386516 0.127992   0.13366176 0.23746625 0.30941272\n",
      "  0.08905782 0.12455983 0.18153088 0.16344115 0.07807428 0.20476465\n",
      "  0.13379875 0.11848306 0.04234635 0.04055779 0.05395932 0.03856628\n",
      "  0.02156985 0.00409752]\n",
      " [0.14268251 0.13386516 0.127992   0.13366176 0.23746625 0.30941272\n",
      "  0.08905782 0.12455983 0.18153088 0.16344115 0.07807428 0.20476465\n",
      "  0.13379875 0.11848306 0.04234635 0.04055779 0.05395932 0.03856628\n",
      "  0.02156985 0.00409752]\n",
      " [0.14268251 0.13386516 0.127992   0.13366176 0.23746625 0.30941272\n",
      "  0.08905782 0.12455983 0.18153088 0.16344115 0.07807428 0.20476465\n",
      "  0.13379875 0.11848306 0.04234635 0.04055779 0.05395932 0.03856628\n",
      "  0.02156985 0.00409752]\n",
      " [0.14268251 0.13386516 0.127992   0.13366176 0.23746625 0.30941272\n",
      "  0.08905782 0.12455983 0.18153088 0.16344115 0.07807428 0.20476465\n",
      "  0.13379875 0.11848306 0.04234635 0.04055779 0.05395932 0.03856628\n",
      "  0.02156985 0.00409752]\n",
      " [0.14268251 0.13386516 0.127992   0.13366176 0.23746625 0.30941272\n",
      "  0.08905782 0.12455983 0.18153088 0.16344115 0.07807428 0.20476465\n",
      "  0.13379875 0.11848306 0.04234635 0.04055779 0.05395932 0.03856628\n",
      "  0.02156985 0.00409752]\n",
      " [0.14268251 0.13386516 0.127992   0.13366176 0.23746625 0.30941272\n",
      "  0.08905782 0.12455983 0.18153088 0.16344115 0.07807428 0.20476465\n",
      "  0.13379875 0.11848306 0.04234635 0.04055779 0.05395932 0.03856628\n",
      "  0.02156985 0.00409752]\n",
      " [0.14268251 0.13386516 0.127992   0.13366176 0.23746625 0.30941272\n",
      "  0.08905782 0.12455983 0.18153088 0.16344115 0.07807428 0.20476465\n",
      "  0.13379875 0.11848306 0.04234635 0.04055779 0.05395932 0.03856628\n",
      "  0.02156985 0.00409752]\n",
      " [0.14268251 0.13386516 0.127992   0.13366176 0.23746625 0.30941272\n",
      "  0.08905782 0.12455983 0.18153088 0.16344115 0.07807428 0.20476465\n",
      "  0.13379875 0.11848306 0.04234635 0.04055779 0.05395932 0.03856628\n",
      "  0.02156985 0.00409752]\n",
      " [0.14268251 0.13386516 0.127992   0.13366176 0.23746625 0.30941272\n",
      "  0.08905782 0.12455983 0.18153088 0.16344115 0.07807428 0.20476465\n",
      "  0.13379875 0.11848306 0.04234635 0.04055779 0.05395932 0.03856628\n",
      "  0.02156985 0.00409752]\n",
      " [0.14268251 0.13386516 0.127992   0.13366176 0.23746625 0.30941272\n",
      "  0.08905782 0.12455983 0.18153088 0.16344115 0.07807428 0.20476465\n",
      "  0.13379875 0.11848306 0.04234635 0.04055779 0.05395932 0.03856628\n",
      "  0.02156985 0.00409752]\n",
      " [0.14268251 0.13386516 0.127992   0.13366176 0.23746625 0.30941272\n",
      "  0.08905782 0.12455983 0.18153088 0.16344115 0.07807428 0.20476465\n",
      "  0.13379875 0.11848306 0.04234635 0.04055779 0.05395932 0.03856628\n",
      "  0.02156985 0.00409752]\n",
      " [0.14268251 0.13386516 0.127992   0.13366176 0.23746625 0.30941272\n",
      "  0.08905782 0.12455983 0.18153088 0.16344115 0.07807428 0.20476465\n",
      "  0.13379875 0.11848306 0.04234635 0.04055779 0.05395932 0.03856628\n",
      "  0.02156985 0.00409752]\n",
      " [0.14268251 0.13386516 0.127992   0.13366176 0.23746625 0.30941272\n",
      "  0.08905782 0.12455983 0.18153088 0.16344115 0.07807428 0.20476465\n",
      "  0.13379875 0.11848306 0.04234635 0.04055779 0.05395932 0.03856628\n",
      "  0.02156985 0.00409752]\n",
      " [0.14268251 0.13386516 0.127992   0.13366176 0.23746625 0.30941272\n",
      "  0.08905782 0.12455983 0.18153088 0.16344115 0.07807428 0.20476465\n",
      "  0.13379875 0.11848306 0.04234635 0.04055779 0.05395932 0.03856628\n",
      "  0.02156985 0.00409752]\n",
      " [0.14268251 0.13386516 0.127992   0.13366176 0.23746625 0.30941272\n",
      "  0.08905782 0.12455983 0.18153088 0.16344115 0.07807428 0.20476465\n",
      "  0.13379875 0.11848306 0.04234635 0.04055779 0.05395932 0.03856628\n",
      "  0.02156985 0.00409752]\n",
      " [0.14268251 0.13386516 0.127992   0.13366176 0.23746625 0.30941272\n",
      "  0.08905782 0.12455983 0.18153088 0.16344115 0.07807428 0.20476465\n",
      "  0.13379875 0.11848306 0.04234635 0.04055779 0.05395932 0.03856628\n",
      "  0.02156985 0.00409752]\n",
      " [0.14268251 0.13386516 0.127992   0.13366176 0.23746625 0.30941272\n",
      "  0.08905782 0.12455983 0.18153088 0.16344115 0.07807428 0.20476465\n",
      "  0.13379875 0.11848306 0.04234635 0.04055779 0.05395932 0.03856628\n",
      "  0.02156985 0.00409752]\n",
      " [0.14268251 0.13386516 0.127992   0.13366176 0.23746625 0.30941272\n",
      "  0.08905782 0.12455983 0.18153088 0.16344115 0.07807428 0.20476465\n",
      "  0.13379875 0.11848306 0.04234635 0.04055779 0.05395932 0.03856628\n",
      "  0.02156985 0.00409752]\n",
      " [0.14268251 0.13386516 0.127992   0.13366176 0.23746625 0.30941272\n",
      "  0.08905782 0.12455983 0.18153088 0.16344115 0.07807428 0.20476465\n",
      "  0.13379875 0.11848306 0.04234635 0.04055779 0.05395932 0.03856628\n",
      "  0.02156985 0.00409752]\n",
      " [0.14268251 0.13386516 0.127992   0.13366176 0.23746625 0.30941272\n",
      "  0.08905782 0.12455983 0.18153088 0.16344115 0.07807428 0.20476465\n",
      "  0.13379875 0.11848306 0.04234635 0.04055779 0.05395932 0.03856628\n",
      "  0.02156985 0.00409752]\n",
      " [0.14268251 0.13386516 0.127992   0.13366176 0.23746625 0.30941272\n",
      "  0.08905782 0.12455983 0.18153088 0.16344115 0.07807428 0.20476465\n",
      "  0.13379875 0.11848306 0.04234635 0.04055779 0.05395932 0.03856628\n",
      "  0.02156985 0.00409752]\n",
      " [0.14268251 0.13386516 0.127992   0.13366176 0.23746625 0.30941272\n",
      "  0.08905782 0.12455983 0.18153088 0.16344115 0.07807428 0.20476465\n",
      "  0.13379875 0.11848306 0.04234635 0.04055779 0.05395932 0.03856628\n",
      "  0.02156985 0.00409752]\n",
      " [0.14268251 0.13386516 0.127992   0.13366176 0.23746625 0.30941272\n",
      "  0.08905782 0.12455983 0.18153088 0.16344115 0.07807428 0.20476465\n",
      "  0.13379875 0.11848306 0.04234635 0.04055779 0.05395932 0.03856628\n",
      "  0.02156985 0.00409752]\n",
      " [0.14268251 0.13386516 0.127992   0.13366176 0.23746625 0.30941272\n",
      "  0.08905782 0.12455983 0.18153088 0.16344115 0.07807428 0.20476465\n",
      "  0.13379875 0.11848306 0.04234635 0.04055779 0.05395932 0.03856628\n",
      "  0.02156985 0.00409752]]\n"
     ]
    }
   ],
   "source": [
    "print(pred_labels[:50])"
   ]
  },
  {
   "cell_type": "code",
   "execution_count": null,
   "metadata": {},
   "outputs": [],
   "source": []
  }
 ],
 "metadata": {
  "kernelspec": {
   "display_name": "Python 3",
   "language": "python",
   "name": "python3"
  },
  "language_info": {
   "codemirror_mode": {
    "name": "ipython",
    "version": 3
   },
   "file_extension": ".py",
   "mimetype": "text/x-python",
   "name": "python",
   "nbconvert_exporter": "python",
   "pygments_lexer": "ipython3",
   "version": "3.6.4"
  }
 },
 "nbformat": 4,
 "nbformat_minor": 2
}
