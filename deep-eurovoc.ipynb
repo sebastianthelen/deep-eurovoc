{
 "cells": [
  {
   "cell_type": "markdown",
   "metadata": {},
   "source": [
    "# DeepEurovoc"
   ]
  },
  {
   "cell_type": "markdown",
   "metadata": {},
   "source": [
    "The aim of this little experiment is to predict Eurovoc categories/fields of publications based on expression abstracts published by the PO. \n",
    "\n",
    "The model used in this notebook is based on the 1D CNN described in the Keras blog article https://blog.keras.io/using-pre-trained-word-embeddings-in-a-keras-model.html. It uses pre-trained GloVe word embeddings for text classification.\n",
    "\n",
    "The input data is retrieved from the public SPARQL endpoint of the PO which is available at http://publications.europa.eu/webapi/rdf/sparql. The following query does the job:"
   ]
  },
  {
   "cell_type": "raw",
   "metadata": {},
   "source": [
    "prefix cdm: <http://publications.europa.eu/ontology/cdm#> \n",
    "select ?exp ?abstract (group_concat(?concept;separator=\";\") as ?concepts)  where \n",
    "{\n",
    "\t?exp cdm:expression_uses_language <http://publications.europa.eu/resource/authority/language/ENG>.\n",
    "\t?exp cdm:expression_abstract ?abstract.\n",
    "\t?exp cdm:expression_belongs_to_work/cdm:work_is_about_concept_eurovoc ?concept.\n",
    "} group by ?exp ?abstract\n"
   ]
  },
  {
   "cell_type": "markdown",
   "metadata": {},
   "source": [
    "The input data has already been downloaded and is stored in data.csv. Before loading the data, the modules needed throughout this notebook are imported."
   ]
  },
  {
   "cell_type": "code",
   "execution_count": 1,
   "metadata": {},
   "outputs": [
    {
     "name": "stderr",
     "output_type": "stream",
     "text": [
      "/Users/sebastianthelen/anaconda3/lib/python3.6/site-packages/h5py/__init__.py:36: FutureWarning: Conversion of the second argument of issubdtype from `float` to `np.floating` is deprecated. In future, it will be treated as `np.float64 == np.dtype(float).type`.\n",
      "  from ._conv import register_converters as _register_converters\n",
      "Using TensorFlow backend.\n"
     ]
    }
   ],
   "source": [
    "import pandas as pd\n",
    "import numpy as np\n",
    "import os\n",
    "import sys\n",
    "import xml.etree.ElementTree as ET\n",
    "from nltk.corpus import stopwords\n",
    "from nltk.tokenize import word_tokenize\n",
    "from nltk.stem import WordNetLemmatizer\n",
    "from nltk.corpus import wordnet\n",
    "\n",
    "import keras\n",
    "from keras.preprocessing.text import Tokenizer\n",
    "from keras.preprocessing.sequence import pad_sequences\n",
    "from keras.utils import to_categorical\n",
    "from keras.layers import Dense, Input, GlobalMaxPooling1D, Flatten\n",
    "from keras.layers import Conv1D, MaxPooling1D, Embedding\n",
    "from keras.models import Model\n",
    "from keras.initializers import Constant\n",
    "from keras.layers import Dropout\n",
    "from keras import regularizers\n",
    "\n",
    "import tensorflow as tf\n",
    "import keras.backend.tensorflow_backend as tfb\n",
    "\n",
    "from sklearn.preprocessing import MultiLabelBinarizer\n",
    "\n",
    "import matplotlib.pyplot as plt"
   ]
  },
  {
   "cell_type": "markdown",
   "metadata": {},
   "source": [
    "Definition of some global variables used in this notebook:"
   ]
  },
  {
   "cell_type": "code",
   "execution_count": 2,
   "metadata": {},
   "outputs": [],
   "source": [
    "CLEANUP_DATA = True # save time by loading a cleaned up version from disc\n",
    "MAX_NUM_WORDS = 20000 # max. size of vocabulary\n",
    "EMBEDDING_DIM = 100 # dimension of GloVe word embeddings\n",
    "MAX_SEQUENCE_LENGTH = 1000 # truncate examples after MAX_SEQUENCE_LENGTH words\n",
    "# those are the eurovoc fields we want to support\n",
    "EUROVOC_FIELDS = {\n",
    "\"4\":  \"POLITICS\",\n",
    "\"8\":  \"INTERNATIONAL RELATIONS\", \n",
    "\"10\": \"EUROPEAN UNION\",\n",
    "\"12\": \"LAW \",\n",
    "\"16\": \"ECONOMICS\",\n",
    "\"20\": \"TRADE\",\n",
    "\"24\": \"FINANCE\",\n",
    "\"28\": \"SOCIAL QUESTIONS\",\n",
    "\"32\": \"EDUCATION AND COMMUNICATIONS\",\n",
    "\"36\": \"SCIENCE\",\n",
    "\"40\": \"BUSINESS AND COMPETITION\",\n",
    "\"44\": \"EMPLOYMENT AND WORKING CONDITIONS\",\n",
    "\"48\": \"TRANSPORT\",\n",
    "\"52\": \"ENVIRONMENT\",\n",
    "\"56\": \"AGRICULTURE, FORESTRY AND FISHERIES\",\n",
    "\"60\": \"AGRI-FOODSTUFFS\",\n",
    "\"64\": \"PRODUCTION, TECHNOLOGY AND RESEARCH\",\n",
    "\"66\": \"ENERGY\",\n",
    "\"68\": \"INDUSTRY\",\n",
    "\"72\": \"GEOGRAPHY\",\n",
    "\"76\": \"INTERNATIONAL ORGANISATIONS\"\n",
    "}"
   ]
  },
  {
   "cell_type": "markdown",
   "metadata": {},
   "source": [
    "Load the data and get some numbers..."
   ]
  },
  {
   "cell_type": "code",
   "execution_count": 3,
   "metadata": {},
   "outputs": [
    {
     "name": "stdout",
     "output_type": "stream",
     "text": [
      "<class 'pandas.core.frame.DataFrame'>\n",
      "RangeIndex: 35472 entries, 0 to 35471\n",
      "Data columns (total 3 columns):\n",
      "exp         35472 non-null object\n",
      "abstract    35472 non-null object\n",
      "concepts    35472 non-null object\n",
      "dtypes: object(3)\n",
      "memory usage: 831.5+ KB\n",
      "None\n"
     ]
    }
   ],
   "source": [
    "data_df = pd.read_csv(\"data.csv\")\n",
    "print(data_df.info())"
   ]
  },
  {
   "cell_type": "markdown",
   "metadata": {},
   "source": [
    "We define a function that will help us to extract the abstracts as plain text from the XMLLiterals returned by Virtuoso, to remove all non-English words including stop words, and to perform lemmatization on the filtered words."
   ]
  },
  {
   "cell_type": "code",
   "execution_count": 4,
   "metadata": {},
   "outputs": [],
   "source": [
    "def cleanup_abstract(xmlstring):\n",
    "    #import ipdb; ipdb.set_trace()\n",
    "    xmlstring = xmlstring.replace('\"\"', '\"')\n",
    "    text = None\n",
    "    try: \n",
    "        tree = ET.ElementTree(ET.fromstring(xmlstring))\n",
    "        xpath_result = tree.findall(\".//description\")\n",
    "        text = xpath_result[0].text\n",
    "    except:\n",
    "        text = xmlstring\n",
    "    # remove stopwords and punctuation. lower case everything\n",
    "    stop_words = set(stopwords.words('english'))\n",
    "    tokens = word_tokenize(text)\n",
    "    tokens = [w.lower() for w in tokens if not w in stop_words and w.isalpha() and wordnet.synsets(w)]\n",
    "    # lemmatize\n",
    "    lemma = WordNetLemmatizer()\n",
    "    final_tokens = []\n",
    "    for word in tokens:\n",
    "        final_tokens.append(lemma.lemmatize(word))\n",
    "    ret = \" \".join(final_tokens)\n",
    "    return ret\n",
    "    #return text"
   ]
  },
  {
   "cell_type": "markdown",
   "metadata": {},
   "source": [
    "Cleaning the data involves two steps:\n",
    "\n",
    "1\\. processing of the abstracts \n",
    "\n",
    "2\\. transform the \";\" separated eurovoc codes in the concepts column into lists of eurovoc categories. Only consider to first two digits of the eurovoc codes. The total number of codes  in the data set is much too high (>5000) for classification. Therefore, the first two digits indicating the \"subject matter\" are extracted and filtered based on EUROVOC_FIELDS."
   ]
  },
  {
   "cell_type": "code",
   "execution_count": 5,
   "metadata": {
    "scrolled": true
   },
   "outputs": [],
   "source": [
    "if CLEANUP_DATA:\n",
    "    data_df[\"clean_abstract\"] = data_df[\"abstract\"].apply(cleanup_abstract)\n",
    "    data_df[\"clean_concepts\"] = data_df[\"concepts\"].apply(lambda x: list({c[c.rfind(\"/\")+1:c.rfind(\"/\")+3] for c in x.split(\";\") if c[c.rfind(\"/\")+1:c.rfind(\"/\")+3] in EUROVOC_FIELDS}))\n",
    "    data_df = data_df[data_df.astype(str)['clean_concepts'] != '[]']\n",
    "    data_df.drop([\"abstract\"], axis=1)\n",
    "    data_df.drop([\"concepts\"], axis=1)\n",
    "    data_df.to_pickle(\"data_df.pkl\")"
   ]
  },
  {
   "cell_type": "markdown",
   "metadata": {},
   "source": [
    "The next line loads the cleaned up data directly from file instead of computing it everytime the notebook is executed."
   ]
  },
  {
   "cell_type": "code",
   "execution_count": 6,
   "metadata": {},
   "outputs": [
    {
     "name": "stdout",
     "output_type": "stream",
     "text": [
      "                                       clean_abstract    clean_concepts\n",
      "0   at institute reference material measurement di...              [40]\n",
      "2   short document aim provide summary main issue ...      [44, 52, 24]\n",
      "3   briefing note intended provide european parlia...  [44, 52, 36, 10]\n",
      "5   united nation millennium declaration endorsed ...              [24]\n",
      "6   equal access economic resource matter ensuring...      [44, 28, 60]\n",
      "7   an independent expert panel referred panel app...      [36, 28, 24]\n",
      "8   main objective annual country report character...      [28, 24, 56]\n",
      "9   second edition european vacancy recruitment re...      [66, 24, 10]\n",
      "10  in process water temperature far saturation te...              [28]\n",
      "11  study provides overview extent scope form eu t...          [36, 52]\n"
     ]
    }
   ],
   "source": [
    "data_df = pd.read_pickle(\"data_df.pkl\")\n",
    "print(data_df[['clean_abstract', 'clean_concepts']][:10])"
   ]
  },
  {
   "cell_type": "code",
   "execution_count": 26,
   "metadata": {},
   "outputs": [
    {
     "data": {
      "image/png": "[encoded data removed]",
      "text/plain": [
       "<matplotlib.figure.Figure at 0x1a26e67da0>"
      ]
     },
     "metadata": {},
     "output_type": "display_data"
    }
   ],
   "source": [
    "# Let's look at the character length for the rows in the training data and record these\n",
    "data_df['char_length'] = data_df['clean_abstract'].apply(lambda x: len(str(x)))\n",
    "\n",
    "plt.figure()\n",
    "plt.hist(data_df['char_length'])\n",
    "plt.show()"
   ]
  },
  {
   "cell_type": "code",
   "execution_count": 27,
   "metadata": {},
   "outputs": [
    {
     "name": "stdout",
     "output_type": "stream",
     "text": [
      "   index  count\n",
      "0     10   4161\n",
      "1     12   1784\n",
      "2     16   1499\n",
      "3     20   1643\n",
      "4     24   9710\n",
      "5     28  13842\n",
      "6     32   2018\n",
      "7     36   4594\n",
      "8     40   5617\n",
      "9     44   5840\n",
      "10    48   2632\n",
      "11    52   7127\n",
      "12    56   3995\n",
      "13    60   3883\n",
      "14    64   1218\n",
      "15    66    933\n",
      "16    68   1375\n",
      "17    72    979\n",
      "18    76    185\n",
      "19     8      1\n"
     ]
    },
    {
     "data": {
      "image/png": "[encoded data removed]",
      "text/plain": [
       "<matplotlib.figure.Figure at 0x1a1c3a6358>"
      ]
     },
     "metadata": {},
     "output_type": "display_data"
    }
   ],
   "source": [
    "tmp = []\n",
    "data_df[\"clean_concepts\"].apply(lambda x: tmp.extend(x))\n",
    "s = pd.Series(data=tmp)\n",
    "grouped_labels = s.groupby(s).size().reset_index(name='count')\n",
    "print(grouped_labels)\n",
    "x_pos = [i for i, _ in enumerate(grouped_labels[\"count\"])]\n",
    "plt.bar(x_pos, grouped_labels[\"count\"])\n",
    "plt.xticks(x_pos, [str(i) for i in grouped_labels[\"index\"] ])\n",
    "plt.xlabel(\"Field code\")\n",
    "plt.ylabel(\"Count\")\n",
    "plt.show()"
   ]
  },
  {
   "cell_type": "markdown",
   "metadata": {},
   "source": [
    "We must convert the data set labels to numbers so that they can be processed by Keras. The approach is described in https://www.pyimagesearch.com/2018/05/07/multi-label-classification-with-keras/."
   ]
  },
  {
   "cell_type": "code",
   "execution_count": 52,
   "metadata": {},
   "outputs": [
    {
     "name": "stdout",
     "output_type": "stream",
     "text": [
      "1. 10\n",
      "2. 12\n",
      "3. 16\n",
      "4. 20\n",
      "5. 24\n",
      "6. 28\n",
      "7. 32\n",
      "8. 36\n",
      "9. 40\n",
      "10. 44\n",
      "11. 48\n",
      "12. 52\n",
      "13. 56\n",
      "14. 60\n",
      "15. 64\n",
      "16. 66\n",
      "17. 68\n",
      "18. 72\n",
      "19. 76\n",
      "20. 8\n",
      "[[0 0 0 ... 0 0 0]\n",
      " [0 0 0 ... 0 0 0]\n",
      " [1 0 0 ... 0 0 0]\n",
      " ...\n",
      " [0 0 0 ... 0 0 0]\n",
      " [0 0 0 ... 0 0 0]\n",
      " [0 0 0 ... 0 0 0]]\n",
      "['10' '12' '16' '20' '24' '28' '32' '36' '40' '44' '48' '52' '56' '60'\n",
      " '64' '66' '68' '72' '76' '8']\n"
     ]
    }
   ],
   "source": [
    "#labels = data_df[\"clean_concepts\"].tolist()\n",
    "#mlb = MultiLabelBinarizer()\n",
    "#labels = mlb.fit_transform(labels)\n",
    "# loop over each of the possible class labels and show them\n",
    "#for (i, label) in enumerate(mlb.classes_):\n",
    "#\tprint(\"{}. {}\".format(i + 1, label))\n",
    "\n",
    "multilabel_binarizer = MultiLabelBinarizer()\n",
    "labels = multilabel_binarizer.fit_transform(data_df[\"clean_concepts\"])\n",
    "tmp_labels = multilabel_binarizer.classes_\n",
    "\n",
    "for (i, label) in enumerate(mlb.classes_):\n",
    "\tprint(\"{}. {}\".format(i + 1, label))\n",
    "\n",
    "print(labels)\n",
    "print(tmp_labels)"
   ]
  },
  {
   "cell_type": "raw",
   "metadata": {},
   "source": [
    "most_common_tags['class_weight'] = len(df_tags) / most_common_tags['count']\n",
    "class_weight = {}\n",
    "for index, label in enumerate(labels):\n",
    "    class_weight[index] = most_common_tags[most_common_tags['Tag'] == label]['class_weight'].values[0]\n",
    "    \n",
    "most_common_tags.head()"
   ]
  },
  {
   "cell_type": "code",
   "execution_count": 59,
   "metadata": {},
   "outputs": [
    {
     "name": "stdout",
     "output_type": "stream",
     "text": [
      "  index  count  class_weight\n",
      "0    10   4161      0.004807\n",
      "1    12   1784      0.011211\n",
      "2    16   1499      0.013342\n",
      "3    20   1643      0.012173\n",
      "4    24   9710      0.002060\n",
      "{0: 0.004806536890170632, 1: 0.011210762331838564, 2: 0.0133422281521014, 3: 0.012172854534388313, 4: 0.0020597322348094747, 5: 0.0014448779078167894, 6: 0.009910802775024777, 7: 0.0043535045711798, 8: 0.0035606195478013174, 9: 0.003424657534246575, 10: 0.007598784194528876, 11: 0.002806229830223095, 12: 0.0050062578222778474, 13: 0.0051506567087303634, 14: 0.016420361247947456, 15: 0.021436227224008574, 16: 0.014545454545454545, 17: 0.020429009193054137, 18: 0.10810810810810811, 19: 20.0}\n"
     ]
    }
   ],
   "source": [
    "grouped_labels['class_weight'] = len(grouped_labels) / grouped_labels['count']\n",
    "print(grouped_labels.head())\n",
    "class_weight = {}\n",
    "for index, label in enumerate(tmp_labels):\n",
    "    class_weight[index] = grouped_labels[grouped_labels['index'] == label]['class_weight'].values[0]    \n",
    "print(class_weight)"
   ]
  },
  {
   "cell_type": "markdown",
   "metadata": {},
   "source": [
    "A small test to make sure that MultiLabelBinarizer is really generating multi-label vectors and not just one-hot vectors."
   ]
  },
  {
   "cell_type": "code",
   "execution_count": 60,
   "metadata": {},
   "outputs": [
    {
     "name": "stdout",
     "output_type": "stream",
     "text": [
      "Labels of the 2nd training example: [('10', '24', '36', '56')]\n"
     ]
    }
   ],
   "source": [
    "print(\"Labels of the 2nd training example: \" + str(mlb.inverse_transform(np.array([transf_labels[1]]))))"
   ]
  },
  {
   "cell_type": "markdown",
   "metadata": {},
   "source": [
    "Next we need to tranform the input examples into an array of numbers:"
   ]
  },
  {
   "cell_type": "code",
   "execution_count": 61,
   "metadata": {},
   "outputs": [
    {
     "name": "stderr",
     "output_type": "stream",
     "text": [
      "/Users/sebastianthelen/anaconda3/lib/python3.6/site-packages/keras/preprocessing/text.py:172: UserWarning: The `nb_words` argument in `Tokenizer` has been renamed `num_words`.\n",
      "  warnings.warn('The `nb_words` argument in `Tokenizer` '\n"
     ]
    },
    {
     "name": "stdout",
     "output_type": "stream",
     "text": [
      "Found 21792 unique tokens.\n",
      "Shape of data tensor: (31589, 1000)\n",
      "Shape of label tensor: (31589, 20)\n"
     ]
    }
   ],
   "source": [
    "data = data_df[\"clean_abstract\"].tolist()\n",
    "tokenizer = Tokenizer(nb_words=MAX_NUM_WORDS)\n",
    "tokenizer.fit_on_texts(data)\n",
    "sequences = tokenizer.texts_to_sequences(data)\n",
    "word_index = tokenizer.word_index\n",
    "print('Found %s unique tokens.' % len(word_index))\n",
    "data = pad_sequences(sequences, maxlen=MAX_SEQUENCE_LENGTH)\n",
    "print('Shape of data tensor:', data.shape)\n",
    "print('Shape of label tensor:', labels.shape)"
   ]
  },
  {
   "cell_type": "markdown",
   "metadata": {},
   "source": [
    "Split data into training data and test data."
   ]
  },
  {
   "cell_type": "code",
   "execution_count": 62,
   "metadata": {},
   "outputs": [],
   "source": [
    "# split the data into a training set and a validation set\n",
    "indices = np.arange(data.shape[0])\n",
    "np.random.shuffle(indices)\n",
    "data = data[indices]\n",
    "labels = labels[indices]\n",
    "#num_validation_samples = int(VALIDATION_SPLIT * data.shape[0])\n",
    "#print(num_validation_samples)\n",
    "#trainX = data[:-num_validation_samples]\n",
    "#trainY = labels[:-num_validation_samples]\n",
    "#testX = data[-num_validation_samples:]\n",
    "#testY = labels[-num_validation_samples:]\n",
    "\n",
    "#print(\"trainX.shape\", trainX.shape)\n",
    "#print(\"trainY.shape\", trainY.shape)\n",
    "#print(\"testX.shape\", testX.shape)\n",
    "#print(\"testY.shape\", testY.shape)"
   ]
  },
  {
   "cell_type": "markdown",
   "metadata": {},
   "source": [
    "Load the pre-computed GloVe word embeddings from file and create an embeddings_index:"
   ]
  },
  {
   "cell_type": "code",
   "execution_count": 63,
   "metadata": {},
   "outputs": [
    {
     "name": "stdout",
     "output_type": "stream",
     "text": [
      "Found 400000 word vectors.\n"
     ]
    }
   ],
   "source": [
    "embeddings_index = {}\n",
    "with open(os.path.join('glove.6B', 'glove.6B.100d.txt'), 'r', encoding='utf-8') as f:\n",
    "    for line in f:\n",
    "        values = line.split()\n",
    "        word = values[0]\n",
    "        coefs = np.asarray(values[1:], dtype='float32')\n",
    "        embeddings_index[word] = coefs\n",
    "\n",
    "print('Found %s word vectors.' % len(embeddings_index))"
   ]
  },
  {
   "cell_type": "markdown",
   "metadata": {},
   "source": [
    "Use word_index and embedding_index to compute the embedding_matrix. embedding_matrix is  a matrix storing the embedded_vector for each word in the data set. "
   ]
  },
  {
   "cell_type": "code",
   "execution_count": 64,
   "metadata": {},
   "outputs": [],
   "source": [
    "num_words = min(MAX_NUM_WORDS, len(word_index) + 1)\n",
    "embedding_matrix = np.zeros((num_words, EMBEDDING_DIM))\n",
    "for word, i in word_index.items():\n",
    "    if i >= MAX_NUM_WORDS:\n",
    "        continue\n",
    "    embedding_vector = embeddings_index.get(word)\n",
    "    if embedding_vector is not None:\n",
    "        # words not found in embedding index will be all-zeros.\n",
    "        embedding_matrix[i] = embedding_vector"
   ]
  },
  {
   "cell_type": "markdown",
   "metadata": {},
   "source": [
    "Build an Keras embedding_layer. Note that trainable=false, i.e., weights are not getting updated. "
   ]
  },
  {
   "cell_type": "code",
   "execution_count": 65,
   "metadata": {},
   "outputs": [],
   "source": [
    "embedding_layer = Embedding(num_words,\n",
    "                            EMBEDDING_DIM,\n",
    "                            embeddings_initializer=Constant(embedding_matrix),\n",
    "                            input_length=MAX_SEQUENCE_LENGTH,\n",
    "                            trainable=False)"
   ]
  },
  {
   "cell_type": "markdown",
   "metadata": {},
   "source": [
    "Let's define the 1D convolutional model."
   ]
  },
  {
   "cell_type": "code",
   "execution_count": 72,
   "metadata": {},
   "outputs": [
    {
     "name": "stdout",
     "output_type": "stream",
     "text": [
      "Train on 1600 samples, validate on 400 samples\n",
      "Epoch 1/30\n",
      "1600/1600 [==============================] - 18s 11ms/step - loss: 1014.0435 - categorical_accuracy: 0.0931 - val_loss: 861.4560 - val_categorical_accuracy: 0.2000\n",
      "Epoch 2/30\n",
      "1600/1600 [==============================] - 15s 9ms/step - loss: 781.1574 - categorical_accuracy: 0.1225 - val_loss: 659.1272 - val_categorical_accuracy: 0.2375\n",
      "Epoch 3/30\n",
      "1600/1600 [==============================] - 15s 9ms/step - loss: 596.0734 - categorical_accuracy: 0.1200 - val_loss: 501.0835 - val_categorical_accuracy: 0.2425\n",
      "Epoch 4/30\n",
      "1600/1600 [==============================] - 15s 9ms/step - loss: 452.6090 - categorical_accuracy: 0.1181 - val_loss: 380.1586 - val_categorical_accuracy: 0.1875\n",
      "Epoch 5/30\n",
      "1600/1600 [==============================] - 15s 10ms/step - loss: 343.7223 - categorical_accuracy: 0.0806 - val_loss: 289.3606 - val_categorical_accuracy: 0.1200\n",
      "Epoch 6/30\n",
      "1600/1600 [==============================] - 16s 10ms/step - loss: 262.2646 - categorical_accuracy: 0.0969 - val_loss: 222.0435 - val_categorical_accuracy: 0.2550\n",
      "Epoch 7/30\n",
      "1600/1600 [==============================] - 15s 9ms/step - loss: 202.0168 - categorical_accuracy: 0.1000 - val_loss: 172.3128 - val_categorical_accuracy: 0.2550\n",
      "Epoch 8/30\n",
      "1600/1600 [==============================] - 15s 9ms/step - loss: 157.5184 - categorical_accuracy: 0.1331 - val_loss: 135.5454 - val_categorical_accuracy: 0.2550\n",
      "Epoch 9/30\n",
      "1600/1600 [==============================] - 15s 10ms/step - loss: 124.5551 - categorical_accuracy: 0.1269 - val_loss: 108.1753 - val_categorical_accuracy: 0.2550\n",
      "Epoch 10/30\n",
      "1600/1600 [==============================] - 15s 9ms/step - loss: 99.9165 - categorical_accuracy: 0.1319 - val_loss: 87.5420 - val_categorical_accuracy: 0.2550\n",
      "Epoch 11/30\n",
      "1600/1600 [==============================] - 16s 10ms/step - loss: 81.2334 - categorical_accuracy: 0.1519 - val_loss: 71.7181 - val_categorical_accuracy: 0.2550\n",
      "Epoch 12/30\n",
      "1600/1600 [==============================] - 15s 9ms/step - loss: 66.8044 - categorical_accuracy: 0.1406 - val_loss: 59.3396 - val_categorical_accuracy: 0.2550\n",
      "Epoch 13/30\n",
      "1600/1600 [==============================] - 16s 10ms/step - loss: 55.4338 - categorical_accuracy: 0.1444 - val_loss: 49.4527 - val_categorical_accuracy: 0.2550\n",
      "Epoch 14/30\n",
      "1600/1600 [==============================] - 15s 10ms/step - loss: 46.2894 - categorical_accuracy: 0.1463 - val_loss: 41.4219 - val_categorical_accuracy: 0.2550\n",
      "Epoch 15/30\n",
      "1600/1600 [==============================] - 16s 10ms/step - loss: 38.8188 - categorical_accuracy: 0.1456 - val_loss: 34.7948 - val_categorical_accuracy: 0.2550\n",
      "Epoch 16/30\n",
      "1600/1600 [==============================] - 15s 10ms/step - loss: 32.6270 - categorical_accuracy: 0.1437 - val_loss: 29.2650 - val_categorical_accuracy: 0.2550\n",
      "Epoch 17/30\n",
      "1600/1600 [==============================] - 15s 10ms/step - loss: 27.4449 - categorical_accuracy: 0.1481 - val_loss: 24.6164 - val_categorical_accuracy: 0.2550\n",
      "Epoch 18/30\n",
      "1600/1600 [==============================] - 16s 10ms/step - loss: 23.0808 - categorical_accuracy: 0.1519 - val_loss: 20.6920 - val_categorical_accuracy: 0.2550\n",
      "Epoch 19/30\n",
      "1600/1600 [==============================] - 15s 10ms/step - loss: 19.3933 - categorical_accuracy: 0.1675 - val_loss: 17.3711 - val_categorical_accuracy: 0.2550\n",
      "Epoch 20/30\n",
      "1600/1600 [==============================] - 15s 10ms/step - loss: 16.2724 - categorical_accuracy: 0.1506 - val_loss: 14.5631 - val_categorical_accuracy: 0.2550\n",
      "Epoch 21/30\n",
      "1600/1600 [==============================] - 15s 10ms/step - loss: 13.6342 - categorical_accuracy: 0.1656 - val_loss: 12.1895 - val_categorical_accuracy: 0.2550\n",
      "Epoch 22/30\n",
      "1600/1600 [==============================] - 16s 10ms/step - loss: 11.4052 - categorical_accuracy: 0.1506 - val_loss: 10.1861 - val_categorical_accuracy: 0.2550\n",
      "Epoch 23/30\n",
      "1600/1600 [==============================] - 15s 9ms/step - loss: 9.5250 - categorical_accuracy: 0.1519 - val_loss: 8.4981 - val_categorical_accuracy: 0.2550\n",
      "Epoch 24/30\n",
      "1600/1600 [==============================] - 16s 10ms/step - loss: 7.9420 - categorical_accuracy: 0.1512 - val_loss: 7.0787 - val_categorical_accuracy: 0.2550\n",
      "Epoch 25/30\n",
      "1600/1600 [==============================] - 16s 10ms/step - loss: 6.6117 - categorical_accuracy: 0.1419 - val_loss: 5.8874 - val_categorical_accuracy: 0.2550\n",
      "Epoch 26/30\n",
      "1600/1600 [==============================] - 15s 10ms/step - loss: 5.4961 - categorical_accuracy: 0.1550 - val_loss: 4.8896 - val_categorical_accuracy: 0.2550\n",
      "Epoch 27/30\n",
      "1600/1600 [==============================] - 15s 10ms/step - loss: 4.5623 - categorical_accuracy: 0.1437 - val_loss: 4.0554 - val_categorical_accuracy: 0.2550\n",
      "Epoch 28/30\n",
      "1600/1600 [==============================] - 16s 10ms/step - loss: 3.7822 - categorical_accuracy: 0.1537 - val_loss: 3.3592 - val_categorical_accuracy: 0.2550\n",
      "Epoch 29/30\n",
      "1600/1600 [==============================] - 15s 10ms/step - loss: 3.1315 - categorical_accuracy: 0.1406 - val_loss: 2.7792 - val_categorical_accuracy: 0.2550\n",
      "Epoch 30/30\n",
      "1600/1600 [==============================] - 15s 10ms/step - loss: 2.5897 - categorical_accuracy: 0.1594 - val_loss: 2.2966 - val_categorical_accuracy: 0.2550\n"
     ]
    }
   ],
   "source": [
    "VALIDATION_SPLIT = 0.2 # ration for split of training data and test data\n",
    "NUM_EPOCHS = 30 # number of epochs the network is trained\n",
    "DROPOUT = 0.25\n",
    "REGULARIZATION = 02.1\n",
    "BATCH_SIZE = 256\n",
    "\n",
    "sequence_input = Input(shape=(MAX_SEQUENCE_LENGTH,), dtype='int32')\n",
    "embedded_sequences = embedding_layer(sequence_input)\n",
    "x = Conv1D(128, 5, activation='relu', kernel_regularizer=regularizers.l2(REGULARIZATION))(embedded_sequences)\n",
    "x = MaxPooling1D(5)(x)\n",
    "x = Conv1D(128, 5, activation='relu', kernel_regularizer=regularizers.l2(REGULARIZATION))(x)\n",
    "x = MaxPooling1D(5)(x)\n",
    "x = Conv1D(128, 5, activation='relu', kernel_regularizer=regularizers.l2(REGULARIZATION))(x)\n",
    "x = MaxPooling1D(35)(x)  # global max pooling\n",
    "x = Flatten()(x)\n",
    "x = Dropout(DROPOUT)(x)\n",
    "x = Dense(128, activation='relu',kernel_regularizer=regularizers.l2(REGULARIZATION))(x)\n",
    "x = Dropout(DROPOUT)(x)\n",
    "preds = Dense(labels.shape[1], activation='sigmoid', kernel_regularizer=regularizers.l2(REGULARIZATION))(x)\n",
    "\n",
    "model = Model(sequence_input, preds)\n",
    "model.compile(loss='binary_crossentropy',\n",
    "              optimizer='adam',\n",
    "              metrics=['categorical_accuracy'])\n",
    "\n",
    "history = model.fit(data[:2000], labels[:2000], class_weight=class_weight, validation_split=0.2,\n",
    "          epochs=NUM_EPOCHS, batch_size=BATCH_SIZE)\n",
    "acc = history.history['categorical_accuracy']\n",
    "val_acc = history.history['val_categorical_accuracy']\n",
    "loss = history.history['loss']\n",
    "val_loss = history.history['val_loss']        "
   ]
  },
  {
   "cell_type": "code",
   "execution_count": 73,
   "metadata": {},
   "outputs": [
    {
     "data": {
      "image/png": "[encoded data removed]",
      "text/plain": [
       "<matplotlib.figure.Figure at 0x1a3ab99940>"
      ]
     },
     "metadata": {},
     "output_type": "display_data"
    }
   ],
   "source": [
    "epochs = range(len(acc))                \n",
    "fig, (ax1, ax2) = plt.subplots(nrows=1, ncols=2, figsize=(10, 4))\n",
    "ax1.plot(epochs, acc, label='Training acc')\n",
    "ax1.plot(epochs, val_acc, label='Validation acc')\n",
    "ax1.set_ylabel('accuracy')\n",
    "ax1.set_xlabel('epoch')\n",
    "#ax1.set_title('Accuracy: PW %(pos_weight)s, DO %(dropout)s, REG %(regularization)s, BATCH %(batch_size)s'% params)\n",
    "ax1.legend()\n",
    "ax2.plot(epochs, loss, label='Training loss')\n",
    "ax2.plot(epochs, val_loss, label='Validation loss')\n",
    "ax2.set_ylabel('loss')\n",
    "ax2.set_xlabel('epoch')\n",
    "#ax2.set_title('Loss: PW %(pos_weight)s, DO %(dropout)s, REG %(regularization)s, BATCH %(batch_size)s'%params)\n",
    "ax2.legend()\n",
    "#fig.savefig(\"figures/model_%(pos_weight)s_%(dropout)s_%(regularization)s_%(batch_size)s.png\"%params)\n",
    "plt.show()"
   ]
  },
  {
   "cell_type": "markdown",
   "metadata": {},
   "source": [
    "Now the model needs to be trained."
   ]
  },
  {
   "cell_type": "markdown",
   "metadata": {},
   "source": [
    "Save the model to disc!"
   ]
  },
  {
   "cell_type": "markdown",
   "metadata": {},
   "source": [
    "Predict using an example from the training set. Later we should also create a dev set for prediction."
   ]
  },
  {
   "cell_type": "code",
   "execution_count": null,
   "metadata": {},
   "outputs": [],
   "source": []
  },
  {
   "cell_type": "code",
   "execution_count": null,
   "metadata": {},
   "outputs": [],
   "source": []
  }
 ],
 "metadata": {
  "kernelspec": {
   "display_name": "Python 3",
   "language": "python",
   "name": "python3"
  },
  "language_info": {
   "codemirror_mode": {
    "name": "ipython",
    "version": 3
   },
   "file_extension": ".py",
   "mimetype": "text/x-python",
   "name": "python",
   "nbconvert_exporter": "python",
   "pygments_lexer": "ipython3",
   "version": "3.6.4"
  }
 },
 "nbformat": 4,
 "nbformat_minor": 2
}
