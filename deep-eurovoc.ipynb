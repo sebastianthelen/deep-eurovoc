{
 "cells": [
  {
   "cell_type": "markdown",
   "metadata": {},
   "source": [
    "# DeepEurovoc"
   ]
  },
  {
   "cell_type": "markdown",
   "metadata": {},
   "source": [
    "The aim of this little experiment is to predict Eurovoc categories/fields of publications based on expression abstracts published by the PO. \n",
    "\n",
    "The model used in this notebook is based on the 1D CNN described in the Keras blog article https://blog.keras.io/using-pre-trained-word-embeddings-in-a-keras-model.html. It uses pre-trained GloVe word embeddings for text classification.\n",
    "\n",
    "The input data is retrieved from the public SPARQL endpoint of the PO which is available at http://publications.europa.eu/webapi/rdf/sparql. The following query does the job:"
   ]
  },
  {
   "cell_type": "raw",
   "metadata": {},
   "source": [
    "prefix cdm: <http://publications.europa.eu/ontology/cdm#> \n",
    "select ?exp ?abstract (group_concat(?concept;separator=\";\") as ?concepts)  where \n",
    "{\n",
    "\t?exp cdm:expression_uses_language <http://publications.europa.eu/resource/authority/language/ENG>.\n",
    "\t?exp cdm:expression_abstract ?abstract.\n",
    "\t?exp cdm:expression_belongs_to_work/cdm:work_is_about_concept_eurovoc ?concept.\n",
    "} group by ?exp ?abstract\n"
   ]
  },
  {
   "cell_type": "markdown",
   "metadata": {},
   "source": [
    "The input data has already been downloaded and is stored in data.csv. Before loading the data, the modules needed throughout this notebook are imported."
   ]
  },
  {
   "cell_type": "code",
   "execution_count": 1,
   "metadata": {},
   "outputs": [
    {
     "name": "stderr",
     "output_type": "stream",
     "text": [
      "/Users/sebastianthelen/anaconda3/lib/python3.6/site-packages/h5py/__init__.py:36: FutureWarning: Conversion of the second argument of issubdtype from `float` to `np.floating` is deprecated. In future, it will be treated as `np.float64 == np.dtype(float).type`.\n",
      "  from ._conv import register_converters as _register_converters\n",
      "Using TensorFlow backend.\n"
     ]
    }
   ],
   "source": [
    "import pandas as pd\n",
    "import numpy as np\n",
    "import os\n",
    "import sys\n",
    "import xml.etree.ElementTree as ET\n",
    "from nltk.corpus import stopwords\n",
    "from nltk.tokenize import word_tokenize\n",
    "from nltk.stem import WordNetLemmatizer\n",
    "from nltk.corpus import wordnet\n",
    "\n",
    "import keras\n",
    "from keras.preprocessing.text import Tokenizer\n",
    "from keras.preprocessing.sequence import pad_sequences\n",
    "from keras.utils import to_categorical\n",
    "from keras.layers import Dense, Input, GlobalMaxPooling1D, Flatten\n",
    "from keras.layers import Conv1D, MaxPooling1D, Embedding\n",
    "from keras.models import Model\n",
    "from keras.initializers import Constant\n",
    "from keras.layers import Dropout\n",
    "\n",
    "from sklearn.preprocessing import MultiLabelBinarizer\n",
    "\n",
    "import matplotlib.pyplot as plt"
   ]
  },
  {
   "cell_type": "markdown",
   "metadata": {},
   "source": [
    "Definition of some global variables used in this notebook:"
   ]
  },
  {
   "cell_type": "code",
   "execution_count": 2,
   "metadata": {},
   "outputs": [],
   "source": [
    "CLEANUP_DATA = False # save time by loading a cleaned up version from disc\n",
    "MAX_NUM_WORDS = 20000 # max. size of vocabulary\n",
    "EMBEDDING_DIM = 100 # dimension of GloVe word embeddings\n",
    "MAX_SEQUENCE_LENGTH = 1000 # truncate examples after MAX_SEQUENCE_LENGTH words\n",
    "VALIDATION_SPLIT = 0.2 # ration for split of training data and test data\n",
    "NUM_EPOCHS = 50 # number of epochs the network is trained\n",
    "# those are the eurovoc fields we want to support\n",
    "EUROVOC_FIELDS = {\n",
    "\"4\":  \"POLITICS\",\n",
    "\"8\":  \"INTERNATIONAL RELATIONS\", \n",
    "\"10\": \"EUROPEAN UNION\",\n",
    "\"12\": \"LAW \",\n",
    "\"16\": \"ECONOMICS\",\n",
    "\"20\": \"TRADE\",\n",
    "\"24\": \"FINANCE\",\n",
    "\"28\": \"SOCIAL QUESTIONS\",\n",
    "\"32\": \"EDUCATION AND COMMUNICATIONS\",\n",
    "\"36\": \"SCIENCE\",\n",
    "\"40\": \"BUSINESS AND COMPETITION\",\n",
    "\"44\": \"EMPLOYMENT AND WORKING CONDITIONS\",\n",
    "\"48\": \"TRANSPORT\",\n",
    "\"52\": \"ENVIRONMENT\",\n",
    "\"56\": \"AGRICULTURE, FORESTRY AND FISHERIES\",\n",
    "\"60\": \"AGRI-FOODSTUFFS\",\n",
    "\"64\": \"PRODUCTION, TECHNOLOGY AND RESEARCH\",\n",
    "\"66\": \"ENERGY\",\n",
    "\"68\": \"INDUSTRY\",\n",
    "\"72\": \"GEOGRAPHY\",\n",
    "\"76\": \"INTERNATIONAL ORGANISATIONS\"\n",
    "}"
   ]
  },
  {
   "cell_type": "markdown",
   "metadata": {},
   "source": [
    "Load the data and get some numbers..."
   ]
  },
  {
   "cell_type": "code",
   "execution_count": 3,
   "metadata": {},
   "outputs": [
    {
     "name": "stdout",
     "output_type": "stream",
     "text": [
      "<class 'pandas.core.frame.DataFrame'>\n",
      "RangeIndex: 35472 entries, 0 to 35471\n",
      "Data columns (total 3 columns):\n",
      "exp         35472 non-null object\n",
      "abstract    35472 non-null object\n",
      "concepts    35472 non-null object\n",
      "dtypes: object(3)\n",
      "memory usage: 831.5+ KB\n",
      "None\n"
     ]
    }
   ],
   "source": [
    "data_df = pd.read_csv(\"data.csv\")\n",
    "print(data_df.info())"
   ]
  },
  {
   "cell_type": "markdown",
   "metadata": {},
   "source": [
    "We define a function that will help us to extract the abstracts as plain text from the XMLLiterals returned by Virtuoso, to remove all non-English words including stop words, and to perform lemmatization on the filtered words."
   ]
  },
  {
   "cell_type": "code",
   "execution_count": 4,
   "metadata": {},
   "outputs": [],
   "source": [
    "def cleanup_abstract(xmlstring):\n",
    "    #import ipdb; ipdb.set_trace()\n",
    "    xmlstring = xmlstring.replace('\"\"', '\"')\n",
    "    text = None\n",
    "    try: \n",
    "        tree = ET.ElementTree(ET.fromstring(xmlstring))\n",
    "        xpath_result = tree.findall(\".//description\")\n",
    "        text = xpath_result[0].text\n",
    "    except:\n",
    "        text = xmlstring\n",
    "    # remove stopwords and punctuation. lower case everything\n",
    "    stop_words = set(stopwords.words('english'))\n",
    "    tokens = word_tokenize(text)\n",
    "    tokens = [w.lower() for w in tokens if not w in stop_words and w.isalpha() and wordnet.synsets(w)]\n",
    "    # lemmatize\n",
    "    lemma = WordNetLemmatizer()\n",
    "    final_tokens = []\n",
    "    for word in tokens:\n",
    "        final_tokens.append(lemma.lemmatize(word))\n",
    "    ret = \" \".join(final_tokens)\n",
    "    return ret"
   ]
  },
  {
   "cell_type": "markdown",
   "metadata": {},
   "source": [
    "Cleaning the data involves two steps:\n",
    "\n",
    "1\\. processing of the abstracts \n",
    "\n",
    "2\\. transform the \";\" separated eurovoc codes in the concepts column into lists of eurovoc categories. Only consider to first two digits of the eurovoc codes. The total number of codes  in the data set is much too high (>5000) for classification. Therefore, the first two digits indicating the \"subject matter\" are extracted and filtered based on EUROVOC_FIELDS."
   ]
  },
  {
   "cell_type": "code",
   "execution_count": 5,
   "metadata": {
    "scrolled": true
   },
   "outputs": [],
   "source": [
    "if CLEANUP_DATA:\n",
    "    data_df[\"clean_abstract\"] = data_df[\"abstract\"].apply(cleanup_abstract)\n",
    "    data_df[\"clean_concepts\"] = data_df[\"concepts\"].apply(lambda x: list({c[c.rfind(\"/\")+1:c.rfind(\"/\")+3] for c in x.split(\";\") if c[c.rfind(\"/\")+1:c.rfind(\"/\")+3] in EUROVOC_FIELDS}))\n",
    "    data_df = data_df[data_df.astype(str)['clean_concepts'] != '[]']\n",
    "    data_df.drop([\"abstract\"], axis=1)\n",
    "    data_df.drop([\"concepts\"], axis=1)\n",
    "    data_df.to_pickle(\"data_df.pkl\")"
   ]
  },
  {
   "cell_type": "markdown",
   "metadata": {},
   "source": [
    "The next line loads the cleaned up data directly from file instead of computing it everytime the notebook is executed."
   ]
  },
  {
   "cell_type": "code",
   "execution_count": 6,
   "metadata": {},
   "outputs": [
    {
     "name": "stdout",
     "output_type": "stream",
     "text": [
      "0    at institute reference material measurement di...\n",
      "2    short document aim provide summary main issue ...\n",
      "3    briefing note intended provide european parlia...\n",
      "5    united nation millennium declaration endorsed ...\n",
      "6    equal access economic resource matter ensuring...\n",
      "Name: clean_abstract, dtype: object\n",
      "0                [40]\n",
      "2        [24, 44, 52]\n",
      "3    [10, 44, 36, 52]\n",
      "5                [24]\n",
      "6        [44, 28, 60]\n",
      "Name: clean_concepts, dtype: object\n"
     ]
    }
   ],
   "source": [
    "data_df = pd.read_pickle(\"data_df.pkl\")\n",
    "print(data_df['clean_abstract'][:5])\n",
    "print(data_df['clean_concepts'][:5])"
   ]
  },
  {
   "cell_type": "markdown",
   "metadata": {},
   "source": [
    "We must convert the data set labels to numbers so that they can be processed by Keras. The approach is described in https://www.pyimagesearch.com/2018/05/07/multi-label-classification-with-keras/."
   ]
  },
  {
   "cell_type": "code",
   "execution_count": 7,
   "metadata": {},
   "outputs": [
    {
     "name": "stdout",
     "output_type": "stream",
     "text": [
      "1. 10\n",
      "2. 12\n",
      "3. 16\n",
      "4. 20\n",
      "5. 24\n",
      "6. 28\n",
      "7. 32\n",
      "8. 36\n",
      "9. 40\n",
      "10. 44\n",
      "11. 48\n",
      "12. 52\n",
      "13. 56\n",
      "14. 60\n",
      "15. 64\n",
      "16. 66\n",
      "17. 68\n",
      "18. 72\n",
      "19. 76\n",
      "20. 8\n"
     ]
    }
   ],
   "source": [
    "labels = data_df[\"clean_concepts\"].tolist()\n",
    "mlb = MultiLabelBinarizer()\n",
    "labels = mlb.fit_transform(labels)\n",
    "# loop over each of the possible class labels and show them\n",
    "for (i, label) in enumerate(mlb.classes_):\n",
    "\tprint(\"{}. {}\".format(i + 1, label))"
   ]
  },
  {
   "cell_type": "markdown",
   "metadata": {},
   "source": [
    "A small test to make sure that MultiLabelBinarizer is really generating multi-label vectors and not just one-hot vectors."
   ]
  },
  {
   "cell_type": "code",
   "execution_count": 8,
   "metadata": {},
   "outputs": [
    {
     "name": "stdout",
     "output_type": "stream",
     "text": [
      "Labels of the 2nd training example: [('24', '44', '52')]\n"
     ]
    }
   ],
   "source": [
    "print(\"Labels of the 2nd training example: \" + str(mlb.inverse_transform(np.array([labels[1]]))))"
   ]
  },
  {
   "cell_type": "markdown",
   "metadata": {},
   "source": [
    "Next we need to tranform the input examples into an array of numbers:"
   ]
  },
  {
   "cell_type": "code",
   "execution_count": 9,
   "metadata": {},
   "outputs": [
    {
     "name": "stderr",
     "output_type": "stream",
     "text": [
      "/Users/sebastianthelen/anaconda3/lib/python3.6/site-packages/keras/preprocessing/text.py:172: UserWarning: The `nb_words` argument in `Tokenizer` has been renamed `num_words`.\n",
      "  warnings.warn('The `nb_words` argument in `Tokenizer` '\n"
     ]
    },
    {
     "name": "stdout",
     "output_type": "stream",
     "text": [
      "Found 21792 unique tokens.\n",
      "Shape of data tensor: (31589, 1000)\n",
      "Shape of label tensor: (31589, 20)\n"
     ]
    }
   ],
   "source": [
    "data = data_df[\"clean_abstract\"].tolist()\n",
    "tokenizer = Tokenizer(nb_words=MAX_NUM_WORDS)\n",
    "tokenizer.fit_on_texts(data)\n",
    "sequences = tokenizer.texts_to_sequences(data)\n",
    "word_index = tokenizer.word_index\n",
    "print('Found %s unique tokens.' % len(word_index))\n",
    "data = pad_sequences(sequences, maxlen=MAX_SEQUENCE_LENGTH)\n",
    "print('Shape of data tensor:', data.shape)\n",
    "print('Shape of label tensor:', labels.shape)"
   ]
  },
  {
   "cell_type": "markdown",
   "metadata": {},
   "source": [
    "Split data into training data and test data."
   ]
  },
  {
   "cell_type": "code",
   "execution_count": 10,
   "metadata": {},
   "outputs": [
    {
     "name": "stdout",
     "output_type": "stream",
     "text": [
      "6317\n",
      "trainX.shape (25272, 1000)\n",
      "trainY.shape (25272, 20)\n",
      "testX.shape (6317, 1000)\n",
      "testY.shape (6317, 20)\n"
     ]
    }
   ],
   "source": [
    "# split the data into a training set and a validation set\n",
    "indices = np.arange(data.shape[0])\n",
    "np.random.shuffle(indices)\n",
    "data = data[indices]\n",
    "labels = labels[indices]\n",
    "num_validation_samples = int(VALIDATION_SPLIT * data.shape[0])\n",
    "print(num_validation_samples)\n",
    "trainX = data[:-num_validation_samples]\n",
    "trainY = labels[:-num_validation_samples]\n",
    "testX = data[-num_validation_samples:]\n",
    "testY = labels[-num_validation_samples:]\n",
    "\n",
    "print(\"trainX.shape\", trainX.shape)\n",
    "print(\"trainY.shape\", trainY.shape)\n",
    "print(\"testX.shape\", testX.shape)\n",
    "print(\"testY.shape\", testY.shape)"
   ]
  },
  {
   "cell_type": "markdown",
   "metadata": {},
   "source": [
    "Load the pre-computed GloVe word embeddings from file and create an embeddings_index:"
   ]
  },
  {
   "cell_type": "code",
   "execution_count": 11,
   "metadata": {},
   "outputs": [
    {
     "name": "stdout",
     "output_type": "stream",
     "text": [
      "Found 400000 word vectors.\n"
     ]
    }
   ],
   "source": [
    "embeddings_index = {}\n",
    "with open(os.path.join('glove.6B', 'glove.6B.100d.txt'), 'r', encoding='utf-8') as f:\n",
    "    for line in f:\n",
    "        values = line.split()\n",
    "        word = values[0]\n",
    "        coefs = np.asarray(values[1:], dtype='float32')\n",
    "        embeddings_index[word] = coefs\n",
    "\n",
    "print('Found %s word vectors.' % len(embeddings_index))"
   ]
  },
  {
   "cell_type": "markdown",
   "metadata": {},
   "source": [
    "Use word_index and embedding_index to compute the embedding_matrix. embedding_matrix is  a matrix storing the embedded_vector for each word in the data set. "
   ]
  },
  {
   "cell_type": "code",
   "execution_count": 12,
   "metadata": {},
   "outputs": [],
   "source": [
    "num_words = min(MAX_NUM_WORDS, len(word_index) + 1)\n",
    "embedding_matrix = np.zeros((num_words, EMBEDDING_DIM))\n",
    "for word, i in word_index.items():\n",
    "    if i >= MAX_NUM_WORDS:\n",
    "        continue\n",
    "    embedding_vector = embeddings_index.get(word)\n",
    "    if embedding_vector is not None:\n",
    "        # words not found in embedding index will be all-zeros.\n",
    "        embedding_matrix[i] = embedding_vector\n",
    "    #else:\n",
    "    #    print(\"Not not in embedding index: \" + word)"
   ]
  },
  {
   "cell_type": "markdown",
   "metadata": {},
   "source": [
    "Build an Keras embedding_layer. Note that trainable=false, i.e., weights are not getting updated. "
   ]
  },
  {
   "cell_type": "code",
   "execution_count": 13,
   "metadata": {},
   "outputs": [],
   "source": [
    "embedding_layer = Embedding(num_words,\n",
    "                            EMBEDDING_DIM,\n",
    "                            embeddings_initializer=Constant(embedding_matrix),\n",
    "                            input_length=MAX_SEQUENCE_LENGTH,\n",
    "                            trainable=False)"
   ]
  },
  {
   "cell_type": "markdown",
   "metadata": {},
   "source": [
    "Let's define the 1D convolutional model."
   ]
  },
  {
   "cell_type": "code",
   "execution_count": 14,
   "metadata": {},
   "outputs": [],
   "source": [
    "sequence_input = Input(shape=(MAX_SEQUENCE_LENGTH,), dtype='int32')\n",
    "embedded_sequences = embedding_layer(sequence_input)\n",
    "x = Conv1D(128, 5, activation='relu')(embedded_sequences)\n",
    "x = MaxPooling1D(5)(x)\n",
    "x = Dropout(0.25)(x)\n",
    "x = Conv1D(128, 5, activation='relu')(x)\n",
    "x = MaxPooling1D(5)(x)\n",
    "x = Dropout(0.25)(x)\n",
    "x = Conv1D(128, 5, activation='relu')(x)\n",
    "x = MaxPooling1D(35)(x)  # global max pooling\n",
    "x = Dropout(0.25)(x)\n",
    "x = Flatten()(x)\n",
    "x = Dense(128, activation='relu')(x)\n",
    "preds = Dense(labels.shape[1], activation='sigmoid')(x)\n",
    "\n",
    "model = Model(sequence_input, preds)\n",
    "model.compile(loss='binary_crossentropy',\n",
    "              optimizer='adam',\n",
    "              metrics=['categorical_accuracy'])"
   ]
  },
  {
   "cell_type": "markdown",
   "metadata": {},
   "source": [
    "Now the model needs to be trained."
   ]
  },
  {
   "cell_type": "code",
   "execution_count": 15,
   "metadata": {},
   "outputs": [
    {
     "name": "stdout",
     "output_type": "stream",
     "text": [
      "_________________________________________________________________\n",
      "Layer (type)                 Output Shape              Param #   \n",
      "=================================================================\n",
      "input_1 (InputLayer)         (None, 1000)              0         \n",
      "_________________________________________________________________\n",
      "embedding_1 (Embedding)      (None, 1000, 100)         2000000   \n",
      "_________________________________________________________________\n",
      "conv1d_1 (Conv1D)            (None, 996, 128)          64128     \n",
      "_________________________________________________________________\n",
      "max_pooling1d_1 (MaxPooling1 (None, 199, 128)          0         \n",
      "_________________________________________________________________\n",
      "dropout_1 (Dropout)          (None, 199, 128)          0         \n",
      "_________________________________________________________________\n",
      "conv1d_2 (Conv1D)            (None, 195, 128)          82048     \n",
      "_________________________________________________________________\n",
      "max_pooling1d_2 (MaxPooling1 (None, 39, 128)           0         \n",
      "_________________________________________________________________\n",
      "dropout_2 (Dropout)          (None, 39, 128)           0         \n",
      "_________________________________________________________________\n",
      "conv1d_3 (Conv1D)            (None, 35, 128)           82048     \n",
      "_________________________________________________________________\n",
      "max_pooling1d_3 (MaxPooling1 (None, 1, 128)            0         \n",
      "_________________________________________________________________\n",
      "dropout_3 (Dropout)          (None, 1, 128)            0         \n",
      "_________________________________________________________________\n",
      "flatten_1 (Flatten)          (None, 128)               0         \n",
      "_________________________________________________________________\n",
      "dense_1 (Dense)              (None, 128)               16512     \n",
      "_________________________________________________________________\n",
      "dense_2 (Dense)              (None, 20)                2580      \n",
      "=================================================================\n",
      "Total params: 2,247,316\n",
      "Trainable params: 247,316\n",
      "Non-trainable params: 2,000,000\n",
      "_________________________________________________________________\n",
      "None\n"
     ]
    }
   ],
   "source": [
    "print(model.summary())"
   ]
  },
  {
   "cell_type": "code",
   "execution_count": 16,
   "metadata": {},
   "outputs": [
    {
     "name": "stdout",
     "output_type": "stream",
     "text": [
      "Train on 25272 samples, validate on 6317 samples\n",
      "Epoch 1/50\n",
      "25272/25272 [==============================] - 273s 11ms/step - loss: 0.3179 - categorical_accuracy: 0.2624 - val_loss: 0.2965 - val_categorical_accuracy: 0.3315\n",
      "Epoch 2/50\n",
      "25272/25272 [==============================] - 266s 11ms/step - loss: 0.2896 - categorical_accuracy: 0.3231 - val_loss: 0.2849 - val_categorical_accuracy: 0.3321\n",
      "Epoch 3/50\n",
      "25272/25272 [==============================] - 261s 10ms/step - loss: 0.2768 - categorical_accuracy: 0.3332 - val_loss: 0.2732 - val_categorical_accuracy: 0.3478\n",
      "Epoch 4/50\n",
      "25272/25272 [==============================] - 264s 10ms/step - loss: 0.2661 - categorical_accuracy: 0.3402 - val_loss: 0.2630 - val_categorical_accuracy: 0.3354\n",
      "Epoch 5/50\n",
      "25272/25272 [==============================] - 264s 10ms/step - loss: 0.2582 - categorical_accuracy: 0.3431 - val_loss: 0.2592 - val_categorical_accuracy: 0.3207\n",
      "Epoch 6/50\n",
      "25272/25272 [==============================] - 266s 11ms/step - loss: 0.2513 - categorical_accuracy: 0.3551 - val_loss: 0.2534 - val_categorical_accuracy: 0.3567\n",
      "Epoch 7/50\n",
      "25272/25272 [==============================] - 262s 10ms/step - loss: 0.2456 - categorical_accuracy: 0.3609 - val_loss: 0.2506 - val_categorical_accuracy: 0.3517\n",
      "Epoch 8/50\n",
      "25272/25272 [==============================] - 266s 11ms/step - loss: 0.2401 - categorical_accuracy: 0.3668 - val_loss: 0.2471 - val_categorical_accuracy: 0.3681\n",
      "Epoch 9/50\n",
      "25272/25272 [==============================] - 263s 10ms/step - loss: 0.2351 - categorical_accuracy: 0.3730 - val_loss: 0.2467 - val_categorical_accuracy: 0.3502\n",
      "Epoch 10/50\n",
      "25272/25272 [==============================] - 260s 10ms/step - loss: 0.2308 - categorical_accuracy: 0.3769 - val_loss: 0.2436 - val_categorical_accuracy: 0.3280\n",
      "Epoch 11/50\n",
      "25272/25272 [==============================] - 257s 10ms/step - loss: 0.2270 - categorical_accuracy: 0.3843 - val_loss: 0.2408 - val_categorical_accuracy: 0.3601\n",
      "Epoch 12/50\n",
      "25272/25272 [==============================] - 257s 10ms/step - loss: 0.2232 - categorical_accuracy: 0.3886 - val_loss: 0.2407 - val_categorical_accuracy: 0.3552\n",
      "Epoch 13/50\n",
      "25272/25272 [==============================] - 271s 11ms/step - loss: 0.2198 - categorical_accuracy: 0.3918 - val_loss: 0.2383 - val_categorical_accuracy: 0.3709\n",
      "Epoch 14/50\n",
      "25272/25272 [==============================] - 261s 10ms/step - loss: 0.2173 - categorical_accuracy: 0.3952 - val_loss: 0.2393 - val_categorical_accuracy: 0.3652\n",
      "Epoch 15/50\n",
      "25272/25272 [==============================] - 259s 10ms/step - loss: 0.2142 - categorical_accuracy: 0.3989 - val_loss: 0.2403 - val_categorical_accuracy: 0.3643\n",
      "Epoch 16/50\n",
      "25272/25272 [==============================] - 260s 10ms/step - loss: 0.2122 - categorical_accuracy: 0.4047 - val_loss: 0.2379 - val_categorical_accuracy: 0.3470\n",
      "Epoch 17/50\n",
      "25272/25272 [==============================] - 257s 10ms/step - loss: 0.2093 - categorical_accuracy: 0.4050 - val_loss: 0.2373 - val_categorical_accuracy: 0.3663\n",
      "Epoch 18/50\n",
      "25272/25272 [==============================] - 256s 10ms/step - loss: 0.2072 - categorical_accuracy: 0.4084 - val_loss: 0.2365 - val_categorical_accuracy: 0.3524\n",
      "Epoch 19/50\n",
      "25272/25272 [==============================] - 258s 10ms/step - loss: 0.2053 - categorical_accuracy: 0.4107 - val_loss: 0.2361 - val_categorical_accuracy: 0.3516\n",
      "Epoch 20/50\n",
      "25272/25272 [==============================] - 257s 10ms/step - loss: 0.2032 - categorical_accuracy: 0.4114 - val_loss: 0.2364 - val_categorical_accuracy: 0.3495\n",
      "Epoch 21/50\n",
      "25272/25272 [==============================] - 256s 10ms/step - loss: 0.2014 - categorical_accuracy: 0.4116 - val_loss: 0.2375 - val_categorical_accuracy: 0.3739\n",
      "Epoch 22/50\n",
      "25272/25272 [==============================] - 254s 10ms/step - loss: 0.2002 - categorical_accuracy: 0.4162 - val_loss: 0.2353 - val_categorical_accuracy: 0.3693\n",
      "Epoch 23/50\n",
      "25272/25272 [==============================] - 257s 10ms/step - loss: 0.1986 - categorical_accuracy: 0.4188 - val_loss: 0.2351 - val_categorical_accuracy: 0.3427\n",
      "Epoch 24/50\n",
      "25272/25272 [==============================] - 260s 10ms/step - loss: 0.1970 - categorical_accuracy: 0.4181 - val_loss: 0.2363 - val_categorical_accuracy: 0.3681\n",
      "Epoch 25/50\n",
      "25272/25272 [==============================] - 257s 10ms/step - loss: 0.1952 - categorical_accuracy: 0.4236 - val_loss: 0.2363 - val_categorical_accuracy: 0.3416\n",
      "Epoch 26/50\n",
      "25272/25272 [==============================] - 259s 10ms/step - loss: 0.1939 - categorical_accuracy: 0.4228 - val_loss: 0.2355 - val_categorical_accuracy: 0.3573\n",
      "Epoch 27/50\n",
      "25272/25272 [==============================] - 260s 10ms/step - loss: 0.1936 - categorical_accuracy: 0.4238 - val_loss: 0.2335 - val_categorical_accuracy: 0.3687\n",
      "Epoch 28/50\n",
      "25272/25272 [==============================] - 260s 10ms/step - loss: 0.1918 - categorical_accuracy: 0.4238 - val_loss: 0.2353 - val_categorical_accuracy: 0.3530\n",
      "Epoch 29/50\n",
      "25272/25272 [==============================] - 257s 10ms/step - loss: 0.1902 - categorical_accuracy: 0.4307 - val_loss: 0.2344 - val_categorical_accuracy: 0.3799\n",
      "Epoch 30/50\n",
      "25272/25272 [==============================] - 261s 10ms/step - loss: 0.1901 - categorical_accuracy: 0.4274 - val_loss: 0.2337 - val_categorical_accuracy: 0.3630\n",
      "Epoch 31/50\n",
      "25272/25272 [==============================] - 287s 11ms/step - loss: 0.1884 - categorical_accuracy: 0.4336 - val_loss: 0.2344 - val_categorical_accuracy: 0.3665\n",
      "Epoch 32/50\n",
      "25272/25272 [==============================] - 282s 11ms/step - loss: 0.1881 - categorical_accuracy: 0.4292 - val_loss: 0.2362 - val_categorical_accuracy: 0.3348\n",
      "Epoch 33/50\n",
      "25272/25272 [==============================] - 284s 11ms/step - loss: 0.1874 - categorical_accuracy: 0.4252 - val_loss: 0.2349 - val_categorical_accuracy: 0.3427\n",
      "Epoch 34/50\n",
      "25272/25272 [==============================] - 286s 11ms/step - loss: 0.1854 - categorical_accuracy: 0.4327 - val_loss: 0.2355 - val_categorical_accuracy: 0.3434\n",
      "Epoch 35/50\n",
      "25272/25272 [==============================] - 261s 10ms/step - loss: 0.1853 - categorical_accuracy: 0.4348 - val_loss: 0.2349 - val_categorical_accuracy: 0.3533\n",
      "Epoch 36/50\n",
      "25272/25272 [==============================] - 276s 11ms/step - loss: 0.1843 - categorical_accuracy: 0.4372 - val_loss: 0.2347 - val_categorical_accuracy: 0.3500\n",
      "Epoch 37/50\n",
      "25272/25272 [==============================] - 282s 11ms/step - loss: 0.1830 - categorical_accuracy: 0.4349 - val_loss: 0.2354 - val_categorical_accuracy: 0.3470\n",
      "Epoch 38/50\n",
      "25272/25272 [==============================] - 272s 11ms/step - loss: 0.1826 - categorical_accuracy: 0.4393 - val_loss: 0.2339 - val_categorical_accuracy: 0.3733\n",
      "Epoch 39/50\n",
      "25272/25272 [==============================] - 283s 11ms/step - loss: 0.1819 - categorical_accuracy: 0.4380 - val_loss: 0.2347 - val_categorical_accuracy: 0.3505\n",
      "Epoch 40/50\n",
      "25272/25272 [==============================] - 278s 11ms/step - loss: 0.1816 - categorical_accuracy: 0.4356 - val_loss: 0.2353 - val_categorical_accuracy: 0.3519\n",
      "Epoch 41/50\n",
      "25272/25272 [==============================] - 282s 11ms/step - loss: 0.1800 - categorical_accuracy: 0.4376 - val_loss: 0.2348 - val_categorical_accuracy: 0.3714\n",
      "Epoch 42/50\n",
      "25272/25272 [==============================] - 264s 10ms/step - loss: 0.1794 - categorical_accuracy: 0.4416 - val_loss: 0.2343 - val_categorical_accuracy: 0.3538\n",
      "Epoch 43/50\n",
      "25272/25272 [==============================] - 261s 10ms/step - loss: 0.1789 - categorical_accuracy: 0.4403 - val_loss: 0.2357 - val_categorical_accuracy: 0.3555\n",
      "Epoch 44/50\n",
      "25272/25272 [==============================] - 266s 11ms/step - loss: 0.1786 - categorical_accuracy: 0.4407 - val_loss: 0.2362 - val_categorical_accuracy: 0.3540\n",
      "Epoch 45/50\n",
      "25272/25272 [==============================] - 271s 11ms/step - loss: 0.1780 - categorical_accuracy: 0.4397 - val_loss: 0.2358 - val_categorical_accuracy: 0.3502\n",
      "Epoch 46/50\n",
      "25272/25272 [==============================] - 277s 11ms/step - loss: 0.1776 - categorical_accuracy: 0.4414 - val_loss: 0.2356 - val_categorical_accuracy: 0.3635\n",
      "Epoch 47/50\n",
      "25272/25272 [==============================] - 278s 11ms/step - loss: 0.1769 - categorical_accuracy: 0.4405 - val_loss: 0.2358 - val_categorical_accuracy: 0.3544\n"
     ]
    },
    {
     "name": "stdout",
     "output_type": "stream",
     "text": [
      "Epoch 48/50\n",
      "25272/25272 [==============================] - 268s 11ms/step - loss: 0.1766 - categorical_accuracy: 0.4438 - val_loss: 0.2357 - val_categorical_accuracy: 0.3529\n",
      "Epoch 49/50\n",
      "25272/25272 [==============================] - 268s 11ms/step - loss: 0.1756 - categorical_accuracy: 0.4424 - val_loss: 0.2364 - val_categorical_accuracy: 0.3516\n",
      "Epoch 50/50\n",
      "25272/25272 [==============================] - 267s 11ms/step - loss: 0.1750 - categorical_accuracy: 0.4452 - val_loss: 0.2351 - val_categorical_accuracy: 0.3519\n"
     ]
    }
   ],
   "source": [
    "history = model.fit(trainX, trainY, validation_data=(testX, testY),\n",
    "          epochs=NUM_EPOCHS, batch_size=128)\n"
   ]
  },
  {
   "cell_type": "markdown",
   "metadata": {},
   "source": [
    "Save the model to disc!"
   ]
  },
  {
   "cell_type": "code",
   "execution_count": 17,
   "metadata": {},
   "outputs": [],
   "source": [
    "model.save(\"model.h5\")"
   ]
  },
  {
   "cell_type": "code",
   "execution_count": 18,
   "metadata": {},
   "outputs": [
    {
     "data": {
      "image/png": "[encoded data removed]",
      "text/plain": [
       "<matplotlib.figure.Figure at 0x1a2d787a58>"
      ]
     },
     "metadata": {},
     "output_type": "display_data"
    },
    {
     "data": {
      "image/png": "[encoded data removed]",
      "text/plain": [
       "<matplotlib.figure.Figure at 0x1a2d7394a8>"
      ]
     },
     "metadata": {},
     "output_type": "display_data"
    }
   ],
   "source": [
    "acc = history.history['categorical_accuracy']\n",
    "val_acc = history.history['val_categorical_accuracy']\n",
    "loss = history.history['loss']\n",
    "val_loss = history.history['val_loss']\n",
    "\n",
    "epochs = range(len(acc))\n",
    "\n",
    "plt.plot(epochs, acc, label='Training acc')\n",
    "plt.plot(epochs, val_acc, label='Validation acc')\n",
    "plt.ylabel('accuracy')\n",
    "plt.xlabel('epoch')\n",
    "plt.title('Training and validation accuracy')\n",
    "plt.legend()\n",
    "\n",
    "plt.figure()\n",
    "\n",
    "plt.plot(epochs, loss, label='Training loss')\n",
    "plt.plot(epochs, val_loss, label='Validation loss')\n",
    "plt.ylabel('loss')\n",
    "plt.xlabel('epoch')\n",
    "plt.title('Training and validation loss')\n",
    "plt.legend()\n",
    "\n",
    "plt.show()"
   ]
  },
  {
   "cell_type": "markdown",
   "metadata": {},
   "source": [
    "Predict using an example from the training set. Later we should also create a dev set for prediction."
   ]
  },
  {
   "cell_type": "code",
   "execution_count": 19,
   "metadata": {},
   "outputs": [
    {
     "name": "stdout",
     "output_type": "stream",
     "text": [
      "ex =  at institute reference material measurement dismantling campaign obsolete installation glove box run main goal create le waste possible extensive contamination check decontaminating necessary glove box decontamination possible here necessary document stage dismantling process purpose report learn experience campaign gave ability make estimate future radioactive waste classic waste expected dismantled installation\n",
      "len(ex) =  416\n",
      "seq.shape =  (416, 1000)\n",
      "Example: at institute reference material measurement dismantling campaign obsolete installation glove box run main goal create le waste possible extensive contamination check decontaminating necessary glove box decontamination possible here necessary document stage dismantling process purpose report learn experience campaign gave ability make estimate future radioactive waste classic waste expected dismantled installation\n",
      "\n",
      "Sequence: [[   0    0    0 ...    0    0   32]\n",
      " [   0    0    0 ...    0    0 1810]\n",
      " [   0    0    0 ...    0    0    0]\n",
      " ...\n",
      " [   0    0    0 ...    0    0  284]\n",
      " [   0    0    0 ...    0    0 2884]\n",
      " [   0    0    0 ...    0    0 1494]]\n",
      "\n",
      "Prediction: [0. 0. 0. 0. 0. 0. 0. 0. 0. 0. 0. 0. 0. 0. 0. 0. 0. 0. 0. 0.]\n",
      "type(prediction) =  <class 'numpy.ndarray'>\n",
      "prediction.shape =  (20,)\n"
     ]
    },
    {
     "data": {
      "text/plain": [
       "[()]"
      ]
     },
     "execution_count": 19,
     "metadata": {},
     "output_type": "execute_result"
    }
   ],
   "source": [
    "ex = data_df['clean_abstract'][0]\n",
    "seq = tokenizer.texts_to_sequences(ex)\n",
    "seq = pad_sequences(seq, maxlen=MAX_SEQUENCE_LENGTH)\n",
    "print(\"ex = \", ex)\n",
    "print(\"len(ex) = \", len(ex))\n",
    "print(\"seq.shape = \", seq.shape)\n",
    "print(\"Example: \" + str(ex) + \"\\n\")\n",
    "print(\"Sequence: \" + str(seq) + \"\\n\")\n",
    "prediction = model.predict(np.array(seq))[0]\n",
    "prediction[prediction>=0.5] = 1\n",
    "prediction[prediction<0.5] = 0\n",
    "print(\"Prediction: \" + str(prediction))\n",
    "print(\"type(prediction) = \", type(prediction))\n",
    "print(\"prediction.shape = \", prediction.shape)\n",
    "\n",
    "mlb.inverse_transform(np.array([prediction]))"
   ]
  },
  {
   "cell_type": "code",
   "execution_count": null,
   "metadata": {},
   "outputs": [],
   "source": []
  },
  {
   "cell_type": "code",
   "execution_count": null,
   "metadata": {},
   "outputs": [],
   "source": []
  }
 ],
 "metadata": {
  "kernelspec": {
   "display_name": "Python 3",
   "language": "python",
   "name": "python3"
  },
  "language_info": {
   "codemirror_mode": {
    "name": "ipython",
    "version": 3
   },
   "file_extension": ".py",
   "mimetype": "text/x-python",
   "name": "python",
   "nbconvert_exporter": "python",
   "pygments_lexer": "ipython3",
   "version": "3.6.4"
  }
 },
 "nbformat": 4,
 "nbformat_minor": 2
}
